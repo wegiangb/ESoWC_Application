{
  "nbformat": 4,
  "nbformat_minor": 0,
  "metadata": {
    "colab": {
      "name": "Copy of Interaction_Selecting_from_Graphs.ipynb",
      "provenance": [],
      "collapsed_sections": []
    },
    "kernelspec": {
      "name": "python3",
      "display_name": "Python 3"
    },
    "language_info": {
      "name": "python"
    }
  },
  "cells": [
    {
      "cell_type": "code",
      "source": [
        "from google.colab import output\n",
        "output.enable_custom_widget_manager()"
      ],
      "metadata": {
        "id": "zRtxQH_-zVV1"
      },
      "execution_count": 1,
      "outputs": []
    },
    {
      "cell_type": "code",
      "source": [
        "!pip install bqplot"
      ],
      "metadata": {
        "id": "lABbQ1e2y0Rs"
      },
      "execution_count": null,
      "outputs": []
    },
    {
      "cell_type": "code",
      "execution_count": null,
      "metadata": {
        "id": "sm37m5mfwtSi"
      },
      "outputs": [],
      "source": [
        "import pandas as pd\n",
        "import numpy as np\n",
        "\n",
        "symbol = \"Security 1\"\n",
        "symbol2 = \"Security 2\""
      ]
    },
    {
      "cell_type": "code",
      "source": [
        "price_data = pd.DataFrame(\n",
        "    np.cumsum(np.random.randn(150, 2).dot([[0.5, 0.4], [0.4, 1.0]]), axis=0) + 100,\n",
        "    columns=[\"Security 1\", \"Security 2\"],\n",
        "    index=pd.date_range(start=\"01-01-2007\", periods=150),\n",
        ")\n",
        "\n",
        "dates_actual = price_data.index.values\n",
        "prices = price_data[symbol].values"
      ],
      "metadata": {
        "id": "_SxRGUf_ys-T"
      },
      "execution_count": null,
      "outputs": []
    },
    {
      "cell_type": "code",
      "source": [
        "from bqplot import DateScale, LinearScale, Axis, Lines, Scatter, Bars, Hist, Figure\n",
        "from bqplot.interacts import (\n",
        "    FastIntervalSelector,\n",
        "    IndexSelector,\n",
        "    BrushIntervalSelector,\n",
        "    BrushSelector,\n",
        "    MultiSelector,\n",
        "    LassoSelector,\n",
        "    PanZoom,\n",
        "    HandDraw,\n",
        ")\n",
        "from traitlets import link\n",
        "\n",
        "from ipywidgets import ToggleButtons, VBox, HTML"
      ],
      "metadata": {
        "id": "WXIHLpikyweY"
      },
      "execution_count": null,
      "outputs": []
    },
    {
      "cell_type": "code",
      "source": [
        "## First we define a Figure\n",
        "dt_x_fast = DateScale()\n",
        "lin_y = LinearScale()\n",
        "\n",
        "x_ax = Axis(label=\"Index\", scale=dt_x_fast)\n",
        "x_ay = Axis(label=(symbol + \" Price\"), scale=lin_y, orientation=\"vertical\")\n",
        "lc = Lines(\n",
        "    x=dates_actual, y=prices, scales={\"x\": dt_x_fast, \"y\": lin_y}, colors=[\"orange\"]\n",
        ")\n",
        "lc_2 = Lines(\n",
        "    x=dates_actual[50:],\n",
        "    y=prices[50:] + 2,\n",
        "    scales={\"x\": dt_x_fast, \"y\": lin_y},\n",
        "    colors=[\"blue\"],\n",
        ")"
      ],
      "metadata": {
        "id": "aS2QmbFBzCd5"
      },
      "execution_count": null,
      "outputs": []
    },
    {
      "cell_type": "code",
      "source": [
        "## Next we define the type of selector we would like\n",
        "intsel_fast = FastIntervalSelector(scale=dt_x_fast, marks=[lc, lc_2])"
      ],
      "metadata": {
        "id": "cGosNbcpzHkw"
      },
      "execution_count": null,
      "outputs": []
    },
    {
      "cell_type": "code",
      "source": [
        "## Now, we define a function that will be called when the FastIntervalSelector is interacted with\n",
        "def fast_interval_change_callback(change):\n",
        "    db_fast.value = \"The selected period is \" + str(change.new)"
      ],
      "metadata": {
        "id": "wKpHVKM_zK6f"
      },
      "execution_count": null,
      "outputs": []
    },
    {
      "cell_type": "code",
      "source": [
        "## Now we connect the selectors to that function\n",
        "intsel_fast.observe(fast_interval_change_callback, names=[\"selected\"])"
      ],
      "metadata": {
        "id": "pXTfLuRLzNmD"
      },
      "execution_count": null,
      "outputs": []
    },
    {
      "cell_type": "code",
      "source": [
        "## We use the HTML widget to see the value of what we are selecting and modify it when an interaction is performed\n",
        "## on the selector\n",
        "db_fast = HTML()\n",
        "db_fast.value = \"The selected period is \" + str(intsel_fast.selected)\n",
        "\n",
        "fig_fast_intsel = Figure(\n",
        "    marks=[lc, lc_2],\n",
        "    axes=[x_ax, x_ay],\n",
        "    title=\"Fast Interval Selector Example\",\n",
        "    interaction=intsel_fast,\n",
        ")  # This is where we assign the interaction to this particular Figure\n",
        "\n",
        "VBox([db_fast, fig_fast_intsel])"
      ],
      "metadata": {
        "id": "v_P9CwkEzSLD"
      },
      "execution_count": null,
      "outputs": []
    },
    {
      "cell_type": "code",
      "source": [
        "db_index = HTML(value=\"[]\")"
      ],
      "metadata": {
        "id": "UMPEbDEczhLa"
      },
      "execution_count": null,
      "outputs": []
    },
    {
      "cell_type": "code",
      "source": [
        "## Now we try a selector made to select all the y-values associated with a single x-value\n",
        "index_sel = IndexSelector(scale=dt_x_fast, marks=[lc, lc_2])"
      ],
      "metadata": {
        "id": "W_Phc3r9zkN8"
      },
      "execution_count": null,
      "outputs": []
    },
    {
      "cell_type": "code",
      "source": [
        "## Now, we define a function that will be called when the selectors are interacted with\n",
        "def index_change_callback(change):\n",
        "    db_index.value = \"The selected date is \" + str(change.new)"
      ],
      "metadata": {
        "id": "FJfNDZNVznYJ"
      },
      "execution_count": null,
      "outputs": []
    },
    {
      "cell_type": "code",
      "source": [
        "index_sel.observe(index_change_callback, names=[\"selected\"])"
      ],
      "metadata": {
        "id": "pYCN23XHzqAC"
      },
      "execution_count": null,
      "outputs": []
    },
    {
      "cell_type": "code",
      "source": [
        "fig_index_sel = Figure(\n",
        "    marks=[lc, lc_2],\n",
        "    axes=[x_ax, x_ay],\n",
        "    title=\"Index Selector Example\",\n",
        "    interaction=index_sel,\n",
        ")\n",
        "VBox([db_index, fig_index_sel])"
      ],
      "metadata": {
        "id": "qFx0SA9hztub"
      },
      "execution_count": null,
      "outputs": []
    },
    {
      "cell_type": "code",
      "source": [
        "from datetime import datetime as py_dtime\n",
        "\n",
        "dt_x_index = DateScale(min=np.datetime64(py_dtime(2006, 6, 1)))\n",
        "lin_y2 = LinearScale()\n",
        "\n",
        "lc2_index = Lines(x=dates_actual, y=prices, scales={\"x\": dt_x_index, \"y\": lin_y2})\n",
        "\n",
        "x_ax1 = Axis(label=\"Date\", scale=dt_x_index)\n",
        "x_ay2 = Axis(label=(symbol + \" Price\"), scale=lin_y2, orientation=\"vertical\")"
      ],
      "metadata": {
        "id": "zj-Ifbv-zyx_"
      },
      "execution_count": null,
      "outputs": []
    },
    {
      "cell_type": "code",
      "source": [
        "intsel_date = FastIntervalSelector(scale=dt_x_index, marks=[lc2_index])"
      ],
      "metadata": {
        "id": "fjeTKCw7z1qN"
      },
      "execution_count": null,
      "outputs": []
    },
    {
      "cell_type": "code",
      "source": [
        "db_date = HTML()\n",
        "db_date.value = str(intsel_date.selected)"
      ],
      "metadata": {
        "id": "9MTfPOx9z4e1"
      },
      "execution_count": null,
      "outputs": []
    },
    {
      "cell_type": "code",
      "source": [
        "## Now, we define a function that will be called when the selectors are interacted with - a callback\n",
        "def date_interval_change_callback(change):\n",
        "    db_date.value = str(change.new)"
      ],
      "metadata": {
        "id": "8AjeYSr3z7po"
      },
      "execution_count": null,
      "outputs": []
    },
    {
      "cell_type": "code",
      "source": [
        "## Notice here that we call the observe on the Mark lc2_index rather than on the selector intsel_date\n",
        "lc2_index.observe(date_interval_change_callback, names=[\"selected\"])\n",
        "\n",
        "fig_date_mark = Figure(\n",
        "    marks=[lc2_index],\n",
        "    axes=[x_ax1, x_ay2],\n",
        "    title=\"Fast Interval Selector Selected Indices Example\",\n",
        "    interaction=intsel_date,\n",
        ")\n",
        "\n",
        "VBox([db_date, fig_date_mark])"
      ],
      "metadata": {
        "id": "lAee7_xPz-W8"
      },
      "execution_count": null,
      "outputs": []
    },
    {
      "cell_type": "code",
      "source": [
        "date_fmt = \"%m-%d-%Y\"\n",
        "\n",
        "sec2_data = price_data[symbol2].values\n",
        "dates = price_data.index.values"
      ],
      "metadata": {
        "id": "mi70Bh1o0JFr"
      },
      "execution_count": null,
      "outputs": []
    },
    {
      "cell_type": "code",
      "source": [
        "sc_x = LinearScale()\n",
        "sc_y = LinearScale()\n",
        "\n",
        "scatt = Scatter(x=prices, y=sec2_data, scales={\"x\": sc_x, \"y\": sc_y})\n",
        "\n",
        "sc_xax = Axis(label=(symbol), scale=sc_x)\n",
        "sc_yax = Axis(label=(symbol2), scale=sc_y, orientation=\"vertical\")"
      ],
      "metadata": {
        "id": "BF1uIgoi0LYn"
      },
      "execution_count": null,
      "outputs": []
    },
    {
      "cell_type": "code",
      "source": [
        "br_sel = BrushSelector(x_scale=sc_x, y_scale=sc_y, marks=[scatt], color=\"red\")\n",
        "\n",
        "db_scat_brush = HTML(value=\"[]\")"
      ],
      "metadata": {
        "id": "5O9CqsLN0Qip"
      },
      "execution_count": null,
      "outputs": []
    },
    {
      "cell_type": "code",
      "source": [
        "## call back for the selector\n",
        "def brush_callback(change):\n",
        "    db_scat_brush.value = str(br_sel.selected)"
      ],
      "metadata": {
        "id": "p4J89jw60S9L"
      },
      "execution_count": null,
      "outputs": []
    },
    {
      "cell_type": "code",
      "source": [
        "br_sel.observe(brush_callback, names=[\"brushing\"])"
      ],
      "metadata": {
        "id": "cByeyODH0V4p"
      },
      "execution_count": null,
      "outputs": []
    },
    {
      "cell_type": "code",
      "source": [
        "fig_scat_brush = Figure(\n",
        "    marks=[scatt],\n",
        "    axes=[sc_xax, sc_yax],\n",
        "    title=\"Scatter Chart Brush Selector Example\",\n",
        "    interaction=br_sel,\n",
        ")"
      ],
      "metadata": {
        "id": "p3cEr8uh0ZLR"
      },
      "execution_count": null,
      "outputs": []
    },
    {
      "cell_type": "code",
      "source": [
        "VBox([db_scat_brush, fig_scat_brush])"
      ],
      "metadata": {
        "id": "S3ddnaUk0cQI"
      },
      "execution_count": null,
      "outputs": []
    },
    {
      "cell_type": "code",
      "source": [
        "sc_brush_dt_x = DateScale(date_format=date_fmt)\n",
        "sc_brush_dt_y = LinearScale()\n",
        "\n",
        "scatt2 = Scatter(\n",
        "    x=dates_actual, y=sec2_data, scales={\"x\": sc_brush_dt_x, \"y\": sc_brush_dt_y}\n",
        ")"
      ],
      "metadata": {
        "id": "oz1iCe240nj1"
      },
      "execution_count": null,
      "outputs": []
    },
    {
      "cell_type": "code",
      "source": [
        "br_sel_dt = BrushSelector(x_scale=sc_brush_dt_x, y_scale=sc_brush_dt_y, marks=[scatt2])"
      ],
      "metadata": {
        "id": "0Juk27Bd0qZP"
      },
      "execution_count": null,
      "outputs": []
    },
    {
      "cell_type": "code",
      "source": [
        "db_brush_dt = HTML(value=str(br_sel_dt.selected))"
      ],
      "metadata": {
        "id": "b9Zarqup0sf8"
      },
      "execution_count": null,
      "outputs": []
    },
    {
      "cell_type": "code",
      "source": [
        "## call back for the selector\n",
        "def brush_dt_callback(change):\n",
        "    db_brush_dt.value = str(br_sel_dt.selected)"
      ],
      "metadata": {
        "id": "uJbv-bLd0wFJ"
      },
      "execution_count": null,
      "outputs": []
    },
    {
      "cell_type": "code",
      "source": [
        "br_sel_dt.observe(brush_dt_callback, names=[\"brushing\"])"
      ],
      "metadata": {
        "id": "D-FaLH0S0yhw"
      },
      "execution_count": null,
      "outputs": []
    },
    {
      "cell_type": "code",
      "source": [
        "sc_xax = Axis(label=(symbol), scale=sc_brush_dt_x)\n",
        "sc_yax = Axis(label=(symbol2), scale=sc_brush_dt_y, orientation=\"vertical\")\n",
        "fig_brush_dt = Figure(\n",
        "    marks=[scatt2],\n",
        "    axes=[sc_xax, sc_yax],\n",
        "    title=\"Brush Selector with Dates Example\",\n",
        "    interaction=br_sel_dt,\n",
        ")"
      ],
      "metadata": {
        "id": "X0SUDA9Y00uy"
      },
      "execution_count": null,
      "outputs": []
    },
    {
      "cell_type": "code",
      "source": [
        "VBox([db_brush_dt, fig_brush_dt])"
      ],
      "metadata": {
        "id": "QVZu_l6D03Ca"
      },
      "execution_count": null,
      "outputs": []
    }
  ]
}
