{
  "nbformat": 4,
  "nbformat_minor": 0,
  "metadata": {
    "colab": {
      "name": "UserInterface_Interaction_Graphs.ipynb",
      "provenance": [],
      "collapsed_sections": []
    },
    "kernelspec": {
      "name": "python3",
      "display_name": "Python 3"
    },
    "language_info": {
      "name": "python"
    },
    "widgets": {
      "application/vnd.jupyter.widget-state+json": {
        "8a14bf9e68e749f488ac22db2e731928": {
          "model_module": "@jupyter-widgets/controls",
          "model_name": "VBoxModel",
          "model_module_version": "1.5.0",
          "state": {
            "_dom_classes": [],
            "_model_module": "@jupyter-widgets/controls",
            "_model_module_version": "1.5.0",
            "_model_name": "VBoxModel",
            "_view_count": null,
            "_view_module": "@jupyter-widgets/controls",
            "_view_module_version": "1.5.0",
            "_view_name": "VBoxView",
            "box_style": "",
            "children": [
              "IPY_MODEL_41cbd0b5f3ab4ea4bb0e60da7899ccf8",
              "IPY_MODEL_7bb4dc9637b94769a47e9bdb8b70cba3"
            ],
            "layout": "IPY_MODEL_9f99b32aea31427bb3a847e0c2d617ed"
          }
        },
        "41cbd0b5f3ab4ea4bb0e60da7899ccf8": {
          "model_module": "bqplot",
          "model_name": "FigureModel",
          "model_module_version": "^0.5.34",
          "state": {
            "_dom_classes": [],
            "_model_module": "bqplot",
            "_model_module_version": "^0.5.34",
            "_model_name": "FigureModel",
            "_view_count": null,
            "_view_module": "bqplot",
            "_view_module_version": "^0.5.34",
            "_view_name": "Figure",
            "animation_duration": 0,
            "axes": [
              "IPY_MODEL_728581f967144fcaa261e1bce347777c",
              "IPY_MODEL_dced36f08d074aa7a32a58e11ae356e1"
            ],
            "background_style": {},
            "fig_margin": {
              "top": 60,
              "bottom": 60,
              "left": 60,
              "right": 60
            },
            "interaction": null,
            "layout": "IPY_MODEL_69055b7b160f49faa31d9b6bb3da1531",
            "legend_location": "top-right",
            "legend_style": {},
            "legend_text": {},
            "marks": [
              "IPY_MODEL_4b0a1e9eb2724e0abe4ae82a0c8ac2a0"
            ],
            "max_aspect_ratio": 100,
            "min_aspect_ratio": 0.01,
            "padding_x": 0,
            "padding_y": 0.025,
            "pixel_ratio": null,
            "scale_x": "IPY_MODEL_2c3f88cceb7f4050906c66069a878be4",
            "scale_y": "IPY_MODEL_e8176211a4b241dea9327200fdfea1d9",
            "theme": "classic",
            "title": "Gaussian Density (mu = 1.7000000000000002 and sigma = 1.7000000000000004)",
            "title_style": {}
          }
        },
        "7bb4dc9637b94769a47e9bdb8b70cba3": {
          "model_module": "@jupyter-widgets/controls",
          "model_name": "HBoxModel",
          "model_module_version": "1.5.0",
          "state": {
            "_dom_classes": [],
            "_model_module": "@jupyter-widgets/controls",
            "_model_module_version": "1.5.0",
            "_model_name": "HBoxModel",
            "_view_count": null,
            "_view_module": "@jupyter-widgets/controls",
            "_view_module_version": "1.5.0",
            "_view_name": "HBoxView",
            "box_style": "",
            "children": [
              "IPY_MODEL_4dbd3deabb3b4447906e76ac2b962a04",
              "IPY_MODEL_de01e77bee5e4c2c969af0c2f8251f33"
            ],
            "layout": "IPY_MODEL_717bb7155e89410bb24bac6a22ea9275"
          }
        },
        "9f99b32aea31427bb3a847e0c2d617ed": {
          "model_module": "@jupyter-widgets/base",
          "model_name": "LayoutModel",
          "model_module_version": "1.2.0",
          "state": {
            "_model_module": "@jupyter-widgets/base",
            "_model_module_version": "1.2.0",
            "_model_name": "LayoutModel",
            "_view_count": null,
            "_view_module": "@jupyter-widgets/base",
            "_view_module_version": "1.2.0",
            "_view_name": "LayoutView",
            "align_content": null,
            "align_items": null,
            "align_self": null,
            "border": null,
            "bottom": null,
            "display": null,
            "flex": null,
            "flex_flow": null,
            "grid_area": null,
            "grid_auto_columns": null,
            "grid_auto_flow": null,
            "grid_auto_rows": null,
            "grid_column": null,
            "grid_gap": null,
            "grid_row": null,
            "grid_template_areas": null,
            "grid_template_columns": null,
            "grid_template_rows": null,
            "height": null,
            "justify_content": null,
            "justify_items": null,
            "left": null,
            "margin": null,
            "max_height": null,
            "max_width": null,
            "min_height": null,
            "min_width": null,
            "object_fit": null,
            "object_position": null,
            "order": null,
            "overflow": null,
            "overflow_x": null,
            "overflow_y": null,
            "padding": null,
            "right": null,
            "top": null,
            "visibility": null,
            "width": null
          }
        },
        "4dbd3deabb3b4447906e76ac2b962a04": {
          "model_module": "@jupyter-widgets/controls",
          "model_name": "FloatSliderModel",
          "model_module_version": "1.5.0",
          "state": {
            "_dom_classes": [],
            "_model_module": "@jupyter-widgets/controls",
            "_model_module_version": "1.5.0",
            "_model_name": "FloatSliderModel",
            "_view_count": null,
            "_view_module": "@jupyter-widgets/controls",
            "_view_module_version": "1.5.0",
            "_view_name": "FloatSliderView",
            "continuous_update": true,
            "description": "$\\mu$",
            "description_tooltip": null,
            "disabled": false,
            "layout": "IPY_MODEL_079392df0d8e457088a6272a37dbbd4b",
            "max": 5,
            "min": -5,
            "orientation": "horizontal",
            "readout": true,
            "readout_format": ".2f",
            "step": 0.1,
            "style": "IPY_MODEL_c0a716e93d2646fa9a02e828ff17e6dc",
            "value": 1.7000000000000002
          }
        },
        "de01e77bee5e4c2c969af0c2f8251f33": {
          "model_module": "@jupyter-widgets/controls",
          "model_name": "FloatSliderModel",
          "model_module_version": "1.5.0",
          "state": {
            "_dom_classes": [],
            "_model_module": "@jupyter-widgets/controls",
            "_model_module_version": "1.5.0",
            "_model_name": "FloatSliderModel",
            "_view_count": null,
            "_view_module": "@jupyter-widgets/controls",
            "_view_module_version": "1.5.0",
            "_view_name": "FloatSliderView",
            "continuous_update": true,
            "description": "$\\sigma$",
            "description_tooltip": null,
            "disabled": false,
            "layout": "IPY_MODEL_4e5de137667a4774acef4a8cb0dc2f42",
            "max": 5,
            "min": 0.1,
            "orientation": "horizontal",
            "readout": true,
            "readout_format": ".2f",
            "step": 0.1,
            "style": "IPY_MODEL_517aef0c0b874adf81c9447b7afdcabc",
            "value": 1.7000000000000004
          }
        },
        "717bb7155e89410bb24bac6a22ea9275": {
          "model_module": "@jupyter-widgets/base",
          "model_name": "LayoutModel",
          "model_module_version": "1.2.0",
          "state": {
            "_model_module": "@jupyter-widgets/base",
            "_model_module_version": "1.2.0",
            "_model_name": "LayoutModel",
            "_view_count": null,
            "_view_module": "@jupyter-widgets/base",
            "_view_module_version": "1.2.0",
            "_view_name": "LayoutView",
            "align_content": null,
            "align_items": null,
            "align_self": null,
            "border": null,
            "bottom": null,
            "display": null,
            "flex": null,
            "flex_flow": null,
            "grid_area": null,
            "grid_auto_columns": null,
            "grid_auto_flow": null,
            "grid_auto_rows": null,
            "grid_column": null,
            "grid_gap": null,
            "grid_row": null,
            "grid_template_areas": null,
            "grid_template_columns": null,
            "grid_template_rows": null,
            "height": null,
            "justify_content": null,
            "justify_items": null,
            "left": null,
            "margin": null,
            "max_height": null,
            "max_width": null,
            "min_height": null,
            "min_width": null,
            "object_fit": null,
            "object_position": null,
            "order": null,
            "overflow": null,
            "overflow_x": null,
            "overflow_y": null,
            "padding": null,
            "right": null,
            "top": null,
            "visibility": null,
            "width": null
          }
        },
        "079392df0d8e457088a6272a37dbbd4b": {
          "model_module": "@jupyter-widgets/base",
          "model_name": "LayoutModel",
          "model_module_version": "1.2.0",
          "state": {
            "_model_module": "@jupyter-widgets/base",
            "_model_module_version": "1.2.0",
            "_model_name": "LayoutModel",
            "_view_count": null,
            "_view_module": "@jupyter-widgets/base",
            "_view_module_version": "1.2.0",
            "_view_name": "LayoutView",
            "align_content": null,
            "align_items": null,
            "align_self": null,
            "border": null,
            "bottom": null,
            "display": null,
            "flex": null,
            "flex_flow": null,
            "grid_area": null,
            "grid_auto_columns": null,
            "grid_auto_flow": null,
            "grid_auto_rows": null,
            "grid_column": null,
            "grid_gap": null,
            "grid_row": null,
            "grid_template_areas": null,
            "grid_template_columns": null,
            "grid_template_rows": null,
            "height": null,
            "justify_content": null,
            "justify_items": null,
            "left": null,
            "margin": null,
            "max_height": null,
            "max_width": null,
            "min_height": null,
            "min_width": null,
            "object_fit": null,
            "object_position": null,
            "order": null,
            "overflow": null,
            "overflow_x": null,
            "overflow_y": null,
            "padding": null,
            "right": null,
            "top": null,
            "visibility": null,
            "width": null
          }
        },
        "c0a716e93d2646fa9a02e828ff17e6dc": {
          "model_module": "@jupyter-widgets/controls",
          "model_name": "SliderStyleModel",
          "model_module_version": "1.5.0",
          "state": {
            "_model_module": "@jupyter-widgets/controls",
            "_model_module_version": "1.5.0",
            "_model_name": "SliderStyleModel",
            "_view_count": null,
            "_view_module": "@jupyter-widgets/base",
            "_view_module_version": "1.2.0",
            "_view_name": "StyleView",
            "description_width": "",
            "handle_color": null
          }
        },
        "4e5de137667a4774acef4a8cb0dc2f42": {
          "model_module": "@jupyter-widgets/base",
          "model_name": "LayoutModel",
          "model_module_version": "1.2.0",
          "state": {
            "_model_module": "@jupyter-widgets/base",
            "_model_module_version": "1.2.0",
            "_model_name": "LayoutModel",
            "_view_count": null,
            "_view_module": "@jupyter-widgets/base",
            "_view_module_version": "1.2.0",
            "_view_name": "LayoutView",
            "align_content": null,
            "align_items": null,
            "align_self": null,
            "border": null,
            "bottom": null,
            "display": null,
            "flex": null,
            "flex_flow": null,
            "grid_area": null,
            "grid_auto_columns": null,
            "grid_auto_flow": null,
            "grid_auto_rows": null,
            "grid_column": null,
            "grid_gap": null,
            "grid_row": null,
            "grid_template_areas": null,
            "grid_template_columns": null,
            "grid_template_rows": null,
            "height": null,
            "justify_content": null,
            "justify_items": null,
            "left": null,
            "margin": null,
            "max_height": null,
            "max_width": null,
            "min_height": null,
            "min_width": null,
            "object_fit": null,
            "object_position": null,
            "order": null,
            "overflow": null,
            "overflow_x": null,
            "overflow_y": null,
            "padding": null,
            "right": null,
            "top": null,
            "visibility": null,
            "width": null
          }
        },
        "517aef0c0b874adf81c9447b7afdcabc": {
          "model_module": "@jupyter-widgets/controls",
          "model_name": "SliderStyleModel",
          "model_module_version": "1.5.0",
          "state": {
            "_model_module": "@jupyter-widgets/controls",
            "_model_module_version": "1.5.0",
            "_model_name": "SliderStyleModel",
            "_view_count": null,
            "_view_module": "@jupyter-widgets/base",
            "_view_module_version": "1.2.0",
            "_view_name": "StyleView",
            "description_width": "",
            "handle_color": null
          }
        },
        "728581f967144fcaa261e1bce347777c": {
          "model_module": "bqplot",
          "model_name": "AxisModel",
          "model_module_version": "^0.5.34",
          "state": {
            "_model_module": "bqplot",
            "_model_module_version": "^0.5.34",
            "_model_name": "AxisModel",
            "_view_count": null,
            "_view_module": "bqplot",
            "_view_module_version": "^0.5.34",
            "_view_name": "Axis",
            "color": null,
            "grid_color": null,
            "grid_lines": "solid",
            "label": "",
            "label_color": null,
            "label_location": "middle",
            "label_offset": null,
            "num_ticks": null,
            "offset": {},
            "orientation": "horizontal",
            "scale": "IPY_MODEL_e45af8cc17234f4db4111a0daca66aa3",
            "side": "bottom",
            "tick_format": null,
            "tick_rotate": 0,
            "tick_style": {},
            "tick_values": null,
            "visible": true
          }
        },
        "dced36f08d074aa7a32a58e11ae356e1": {
          "model_module": "bqplot",
          "model_name": "AxisModel",
          "model_module_version": "^0.5.34",
          "state": {
            "_model_module": "bqplot",
            "_model_module_version": "^0.5.34",
            "_model_name": "AxisModel",
            "_view_count": null,
            "_view_module": "bqplot",
            "_view_module_version": "^0.5.34",
            "_view_name": "Axis",
            "color": null,
            "grid_color": null,
            "grid_lines": "solid",
            "label": "",
            "label_color": null,
            "label_location": "middle",
            "label_offset": null,
            "num_ticks": null,
            "offset": {},
            "orientation": "vertical",
            "scale": "IPY_MODEL_4f4fbd03c2ec4cb79e76adc35f8816fd",
            "side": "left",
            "tick_format": null,
            "tick_rotate": 0,
            "tick_style": {},
            "tick_values": null,
            "visible": true
          }
        },
        "69055b7b160f49faa31d9b6bb3da1531": {
          "model_module": "@jupyter-widgets/base",
          "model_name": "LayoutModel",
          "model_module_version": "1.2.0",
          "state": {
            "_model_module": "@jupyter-widgets/base",
            "_model_module_version": "1.2.0",
            "_model_name": "LayoutModel",
            "_view_count": null,
            "_view_module": "@jupyter-widgets/base",
            "_view_module_version": "1.2.0",
            "_view_name": "LayoutView",
            "align_content": null,
            "align_items": null,
            "align_self": null,
            "border": null,
            "bottom": null,
            "display": null,
            "flex": null,
            "flex_flow": null,
            "grid_area": null,
            "grid_auto_columns": null,
            "grid_auto_flow": null,
            "grid_auto_rows": null,
            "grid_column": null,
            "grid_gap": null,
            "grid_row": null,
            "grid_template_areas": null,
            "grid_template_columns": null,
            "grid_template_rows": null,
            "height": "600px",
            "justify_content": null,
            "justify_items": null,
            "left": null,
            "margin": null,
            "max_height": null,
            "max_width": null,
            "min_height": null,
            "min_width": null,
            "object_fit": null,
            "object_position": null,
            "order": null,
            "overflow": null,
            "overflow_x": null,
            "overflow_y": null,
            "padding": null,
            "right": null,
            "top": null,
            "visibility": null,
            "width": "800px"
          }
        },
        "4b0a1e9eb2724e0abe4ae82a0c8ac2a0": {
          "model_module": "bqplot",
          "model_name": "LinesModel",
          "model_module_version": "^0.5.34",
          "state": {
            "_model_module": "bqplot",
            "_model_module_version": "^0.5.34",
            "_model_name": "LinesModel",
            "_view_count": null,
            "_view_module": "bqplot",
            "_view_module_version": "^0.5.34",
            "_view_name": "Lines",
            "apply_clip": true,
            "close_path": false,
            "color": null,
            "colors": [
              "magenta"
            ],
            "curves_subset": [],
            "display_legend": false,
            "enable_hover": true,
            "fill": "none",
            "fill_colors": [],
            "fill_opacities": [],
            "interactions": {
              "hover": "tooltip"
            },
            "interpolation": "linear",
            "labels": [],
            "labels_visibility": "none",
            "line_style": "solid",
            "marker": null,
            "marker_size": 64,
            "opacities": [],
            "preserve_domain": {},
            "scales": {
              "x": "IPY_MODEL_e45af8cc17234f4db4111a0daca66aa3",
              "y": "IPY_MODEL_4f4fbd03c2ec4cb79e76adc35f8816fd"
            },
            "scales_metadata": {
              "x": {
                "orientation": "horizontal",
                "dimension": "x"
              },
              "y": {
                "orientation": "vertical",
                "dimension": "y"
              },
              "color": {
                "dimension": "color"
              }
            },
            "selected": null,
            "selected_style": {},
            "stroke_width": 3,
            "tooltip": null,
            "tooltip_location": "mouse",
            "tooltip_style": {
              "opacity": 0.9
            },
            "unselected_style": {},
            "visible": true,
            "x": {
              "dtype": "float64",
              "shape": [
                200
              ],
              "type": null
            },
            "y": {
              "dtype": "float64",
              "shape": [
                200
              ],
              "type": null
            }
          }
        },
        "2c3f88cceb7f4050906c66069a878be4": {
          "model_module": "bqplot",
          "model_name": "LinearScaleModel",
          "model_module_version": "^0.5.34",
          "state": {
            "_model_module": "bqplot",
            "_model_module_version": "^0.5.34",
            "_model_name": "LinearScaleModel",
            "_view_count": null,
            "_view_module": "bqplot",
            "_view_module_version": "^0.5.34",
            "_view_name": "LinearScale",
            "allow_padding": false,
            "max": 1,
            "mid_range": 0.8,
            "min": 0,
            "min_range": 0.6,
            "reverse": false,
            "stabilized": false
          }
        },
        "e8176211a4b241dea9327200fdfea1d9": {
          "model_module": "bqplot",
          "model_name": "LinearScaleModel",
          "model_module_version": "^0.5.34",
          "state": {
            "_model_module": "bqplot",
            "_model_module_version": "^0.5.34",
            "_model_name": "LinearScaleModel",
            "_view_count": null,
            "_view_module": "bqplot",
            "_view_module_version": "^0.5.34",
            "_view_name": "LinearScale",
            "allow_padding": false,
            "max": 1,
            "mid_range": 0.8,
            "min": 0,
            "min_range": 0.6,
            "reverse": false,
            "stabilized": false
          }
        },
        "e45af8cc17234f4db4111a0daca66aa3": {
          "model_module": "bqplot",
          "model_name": "LinearScaleModel",
          "model_module_version": "^0.5.34",
          "state": {
            "_model_module": "bqplot",
            "_model_module_version": "^0.5.34",
            "_model_name": "LinearScaleModel",
            "_view_count": null,
            "_view_module": "bqplot",
            "_view_module_version": "^0.5.34",
            "_view_name": "LinearScale",
            "allow_padding": true,
            "max": null,
            "mid_range": 0.8,
            "min": null,
            "min_range": 0.6,
            "reverse": false,
            "stabilized": false
          }
        },
        "4f4fbd03c2ec4cb79e76adc35f8816fd": {
          "model_module": "bqplot",
          "model_name": "LinearScaleModel",
          "model_module_version": "^0.5.34",
          "state": {
            "_model_module": "bqplot",
            "_model_module_version": "^0.5.34",
            "_model_name": "LinearScaleModel",
            "_view_count": null,
            "_view_module": "bqplot",
            "_view_module_version": "^0.5.34",
            "_view_name": "LinearScale",
            "allow_padding": true,
            "max": null,
            "mid_range": 0.8,
            "min": null,
            "min_range": 0.6,
            "reverse": false,
            "stabilized": false
          }
        },
        "beabbf7cb33d43738e22fc9d78a608e8": {
          "model_module": "@jupyter-widgets/controls",
          "model_name": "HBoxModel",
          "model_module_version": "1.5.0",
          "state": {
            "_dom_classes": [],
            "_model_module": "@jupyter-widgets/controls",
            "_model_module_version": "1.5.0",
            "_model_name": "HBoxModel",
            "_view_count": null,
            "_view_module": "@jupyter-widgets/controls",
            "_view_module_version": "1.5.0",
            "_view_name": "HBoxView",
            "box_style": "",
            "children": [
              "IPY_MODEL_8a14bf9e68e749f488ac22db2e731928",
              "IPY_MODEL_d09ddab8f4bb438a8006ed12cbfbbe80"
            ],
            "layout": "IPY_MODEL_55cb793495ef4d938c1c7f92f069415d"
          }
        },
        "d09ddab8f4bb438a8006ed12cbfbbe80": {
          "model_module": "@jupyter-widgets/controls",
          "model_name": "IntSliderModel",
          "model_module_version": "1.5.0",
          "state": {
            "_dom_classes": [],
            "_model_module": "@jupyter-widgets/controls",
            "_model_module_version": "1.5.0",
            "_model_name": "IntSliderModel",
            "_view_count": null,
            "_view_module": "@jupyter-widgets/controls",
            "_view_module_version": "1.5.0",
            "_view_name": "IntSliderView",
            "continuous_update": true,
            "description": "",
            "description_tooltip": null,
            "disabled": false,
            "layout": "IPY_MODEL_44b1006828eb4d71adac40f28f8cc2ec",
            "max": 100,
            "min": 0,
            "orientation": "horizontal",
            "readout": true,
            "readout_format": "d",
            "step": 1,
            "style": "IPY_MODEL_70b64a1b8bb649c481952ccf0f2c5c74",
            "value": 0
          }
        },
        "55cb793495ef4d938c1c7f92f069415d": {
          "model_module": "@jupyter-widgets/base",
          "model_name": "LayoutModel",
          "model_module_version": "1.2.0",
          "state": {
            "_model_module": "@jupyter-widgets/base",
            "_model_module_version": "1.2.0",
            "_model_name": "LayoutModel",
            "_view_count": null,
            "_view_module": "@jupyter-widgets/base",
            "_view_module_version": "1.2.0",
            "_view_name": "LayoutView",
            "align_content": null,
            "align_items": null,
            "align_self": null,
            "border": null,
            "bottom": null,
            "display": null,
            "flex": null,
            "flex_flow": null,
            "grid_area": null,
            "grid_auto_columns": null,
            "grid_auto_flow": null,
            "grid_auto_rows": null,
            "grid_column": null,
            "grid_gap": null,
            "grid_row": null,
            "grid_template_areas": null,
            "grid_template_columns": null,
            "grid_template_rows": null,
            "height": null,
            "justify_content": null,
            "justify_items": null,
            "left": null,
            "margin": null,
            "max_height": null,
            "max_width": null,
            "min_height": null,
            "min_width": null,
            "object_fit": null,
            "object_position": null,
            "order": null,
            "overflow": null,
            "overflow_x": null,
            "overflow_y": null,
            "padding": null,
            "right": null,
            "top": null,
            "visibility": null,
            "width": null
          }
        },
        "44b1006828eb4d71adac40f28f8cc2ec": {
          "model_module": "@jupyter-widgets/base",
          "model_name": "LayoutModel",
          "model_module_version": "1.2.0",
          "state": {
            "_model_module": "@jupyter-widgets/base",
            "_model_module_version": "1.2.0",
            "_model_name": "LayoutModel",
            "_view_count": null,
            "_view_module": "@jupyter-widgets/base",
            "_view_module_version": "1.2.0",
            "_view_name": "LayoutView",
            "align_content": null,
            "align_items": null,
            "align_self": null,
            "border": null,
            "bottom": null,
            "display": null,
            "flex": null,
            "flex_flow": null,
            "grid_area": null,
            "grid_auto_columns": null,
            "grid_auto_flow": null,
            "grid_auto_rows": null,
            "grid_column": null,
            "grid_gap": null,
            "grid_row": null,
            "grid_template_areas": null,
            "grid_template_columns": null,
            "grid_template_rows": null,
            "height": null,
            "justify_content": null,
            "justify_items": null,
            "left": null,
            "margin": null,
            "max_height": null,
            "max_width": null,
            "min_height": null,
            "min_width": null,
            "object_fit": null,
            "object_position": null,
            "order": null,
            "overflow": null,
            "overflow_x": null,
            "overflow_y": null,
            "padding": null,
            "right": null,
            "top": null,
            "visibility": null,
            "width": null
          }
        },
        "70b64a1b8bb649c481952ccf0f2c5c74": {
          "model_module": "@jupyter-widgets/controls",
          "model_name": "SliderStyleModel",
          "model_module_version": "1.5.0",
          "state": {
            "_model_module": "@jupyter-widgets/controls",
            "_model_module_version": "1.5.0",
            "_model_name": "SliderStyleModel",
            "_view_count": null,
            "_view_module": "@jupyter-widgets/base",
            "_view_module_version": "1.2.0",
            "_view_name": "StyleView",
            "description_width": "",
            "handle_color": null
          }
        }
      }
    }
  },
  "cells": [
    {
      "cell_type": "code",
      "source": [
        "from google.colab import output\n",
        "output.enable_custom_widget_manager()"
      ],
      "metadata": {
        "id": "zRtxQH_-zVV1"
      },
      "execution_count": 1,
      "outputs": []
    },
    {
      "cell_type": "code",
      "source": [
        "!pip install bqplot"
      ],
      "metadata": {
        "colab": {
          "base_uri": "https://localhost:8080/"
        },
        "id": "lABbQ1e2y0Rs",
        "outputId": "3617d6de-ebe3-4335-8592-e417b5528019"
      },
      "execution_count": 2,
      "outputs": [
        {
          "output_type": "stream",
          "name": "stdout",
          "text": [
            "Collecting bqplot\n",
            "  Downloading bqplot-0.12.33-py2.py3-none-any.whl (1.2 MB)\n",
            "\u001b[?25l\r\u001b[K     |▎                               | 10 kB 14.7 MB/s eta 0:00:01\r\u001b[K     |▌                               | 20 kB 18.8 MB/s eta 0:00:01\r\u001b[K     |▉                               | 30 kB 14.0 MB/s eta 0:00:01\r\u001b[K     |█                               | 40 kB 12.4 MB/s eta 0:00:01\r\u001b[K     |█▎                              | 51 kB 5.1 MB/s eta 0:00:01\r\u001b[K     |█▋                              | 61 kB 6.0 MB/s eta 0:00:01\r\u001b[K     |█▉                              | 71 kB 6.0 MB/s eta 0:00:01\r\u001b[K     |██▏                             | 81 kB 6.0 MB/s eta 0:00:01\r\u001b[K     |██▍                             | 92 kB 6.7 MB/s eta 0:00:01\r\u001b[K     |██▋                             | 102 kB 5.7 MB/s eta 0:00:01\r\u001b[K     |███                             | 112 kB 5.7 MB/s eta 0:00:01\r\u001b[K     |███▏                            | 122 kB 5.7 MB/s eta 0:00:01\r\u001b[K     |███▌                            | 133 kB 5.7 MB/s eta 0:00:01\r\u001b[K     |███▊                            | 143 kB 5.7 MB/s eta 0:00:01\r\u001b[K     |████                            | 153 kB 5.7 MB/s eta 0:00:01\r\u001b[K     |████▎                           | 163 kB 5.7 MB/s eta 0:00:01\r\u001b[K     |████▌                           | 174 kB 5.7 MB/s eta 0:00:01\r\u001b[K     |████▉                           | 184 kB 5.7 MB/s eta 0:00:01\r\u001b[K     |█████                           | 194 kB 5.7 MB/s eta 0:00:01\r\u001b[K     |█████▎                          | 204 kB 5.7 MB/s eta 0:00:01\r\u001b[K     |█████▋                          | 215 kB 5.7 MB/s eta 0:00:01\r\u001b[K     |█████▉                          | 225 kB 5.7 MB/s eta 0:00:01\r\u001b[K     |██████▏                         | 235 kB 5.7 MB/s eta 0:00:01\r\u001b[K     |██████▍                         | 245 kB 5.7 MB/s eta 0:00:01\r\u001b[K     |██████▋                         | 256 kB 5.7 MB/s eta 0:00:01\r\u001b[K     |███████                         | 266 kB 5.7 MB/s eta 0:00:01\r\u001b[K     |███████▏                        | 276 kB 5.7 MB/s eta 0:00:01\r\u001b[K     |███████▌                        | 286 kB 5.7 MB/s eta 0:00:01\r\u001b[K     |███████▊                        | 296 kB 5.7 MB/s eta 0:00:01\r\u001b[K     |████████                        | 307 kB 5.7 MB/s eta 0:00:01\r\u001b[K     |████████▎                       | 317 kB 5.7 MB/s eta 0:00:01\r\u001b[K     |████████▌                       | 327 kB 5.7 MB/s eta 0:00:01\r\u001b[K     |████████▉                       | 337 kB 5.7 MB/s eta 0:00:01\r\u001b[K     |█████████                       | 348 kB 5.7 MB/s eta 0:00:01\r\u001b[K     |█████████▎                      | 358 kB 5.7 MB/s eta 0:00:01\r\u001b[K     |█████████▋                      | 368 kB 5.7 MB/s eta 0:00:01\r\u001b[K     |█████████▉                      | 378 kB 5.7 MB/s eta 0:00:01\r\u001b[K     |██████████▏                     | 389 kB 5.7 MB/s eta 0:00:01\r\u001b[K     |██████████▍                     | 399 kB 5.7 MB/s eta 0:00:01\r\u001b[K     |██████████▋                     | 409 kB 5.7 MB/s eta 0:00:01\r\u001b[K     |███████████                     | 419 kB 5.7 MB/s eta 0:00:01\r\u001b[K     |███████████▏                    | 430 kB 5.7 MB/s eta 0:00:01\r\u001b[K     |███████████▌                    | 440 kB 5.7 MB/s eta 0:00:01\r\u001b[K     |███████████▊                    | 450 kB 5.7 MB/s eta 0:00:01\r\u001b[K     |████████████                    | 460 kB 5.7 MB/s eta 0:00:01\r\u001b[K     |████████████▎                   | 471 kB 5.7 MB/s eta 0:00:01\r\u001b[K     |████████████▌                   | 481 kB 5.7 MB/s eta 0:00:01\r\u001b[K     |████████████▉                   | 491 kB 5.7 MB/s eta 0:00:01\r\u001b[K     |█████████████                   | 501 kB 5.7 MB/s eta 0:00:01\r\u001b[K     |█████████████▎                  | 512 kB 5.7 MB/s eta 0:00:01\r\u001b[K     |█████████████▋                  | 522 kB 5.7 MB/s eta 0:00:01\r\u001b[K     |█████████████▉                  | 532 kB 5.7 MB/s eta 0:00:01\r\u001b[K     |██████████████▏                 | 542 kB 5.7 MB/s eta 0:00:01\r\u001b[K     |██████████████▍                 | 552 kB 5.7 MB/s eta 0:00:01\r\u001b[K     |██████████████▋                 | 563 kB 5.7 MB/s eta 0:00:01\r\u001b[K     |███████████████                 | 573 kB 5.7 MB/s eta 0:00:01\r\u001b[K     |███████████████▏                | 583 kB 5.7 MB/s eta 0:00:01\r\u001b[K     |███████████████▌                | 593 kB 5.7 MB/s eta 0:00:01\r\u001b[K     |███████████████▊                | 604 kB 5.7 MB/s eta 0:00:01\r\u001b[K     |████████████████                | 614 kB 5.7 MB/s eta 0:00:01\r\u001b[K     |████████████████▎               | 624 kB 5.7 MB/s eta 0:00:01\r\u001b[K     |████████████████▌               | 634 kB 5.7 MB/s eta 0:00:01\r\u001b[K     |████████████████▉               | 645 kB 5.7 MB/s eta 0:00:01\r\u001b[K     |█████████████████               | 655 kB 5.7 MB/s eta 0:00:01\r\u001b[K     |█████████████████▎              | 665 kB 5.7 MB/s eta 0:00:01\r\u001b[K     |█████████████████▋              | 675 kB 5.7 MB/s eta 0:00:01\r\u001b[K     |█████████████████▉              | 686 kB 5.7 MB/s eta 0:00:01\r\u001b[K     |██████████████████▏             | 696 kB 5.7 MB/s eta 0:00:01\r\u001b[K     |██████████████████▍             | 706 kB 5.7 MB/s eta 0:00:01\r\u001b[K     |██████████████████▋             | 716 kB 5.7 MB/s eta 0:00:01\r\u001b[K     |███████████████████             | 727 kB 5.7 MB/s eta 0:00:01\r\u001b[K     |███████████████████▏            | 737 kB 5.7 MB/s eta 0:00:01\r\u001b[K     |███████████████████▌            | 747 kB 5.7 MB/s eta 0:00:01\r\u001b[K     |███████████████████▊            | 757 kB 5.7 MB/s eta 0:00:01\r\u001b[K     |████████████████████            | 768 kB 5.7 MB/s eta 0:00:01\r\u001b[K     |████████████████████▎           | 778 kB 5.7 MB/s eta 0:00:01\r\u001b[K     |████████████████████▌           | 788 kB 5.7 MB/s eta 0:00:01\r\u001b[K     |████████████████████▉           | 798 kB 5.7 MB/s eta 0:00:01\r\u001b[K     |█████████████████████           | 808 kB 5.7 MB/s eta 0:00:01\r\u001b[K     |█████████████████████▎          | 819 kB 5.7 MB/s eta 0:00:01\r\u001b[K     |█████████████████████▋          | 829 kB 5.7 MB/s eta 0:00:01\r\u001b[K     |█████████████████████▉          | 839 kB 5.7 MB/s eta 0:00:01\r\u001b[K     |██████████████████████▏         | 849 kB 5.7 MB/s eta 0:00:01\r\u001b[K     |██████████████████████▍         | 860 kB 5.7 MB/s eta 0:00:01\r\u001b[K     |██████████████████████▋         | 870 kB 5.7 MB/s eta 0:00:01\r\u001b[K     |███████████████████████         | 880 kB 5.7 MB/s eta 0:00:01\r\u001b[K     |███████████████████████▏        | 890 kB 5.7 MB/s eta 0:00:01\r\u001b[K     |███████████████████████▌        | 901 kB 5.7 MB/s eta 0:00:01\r\u001b[K     |███████████████████████▊        | 911 kB 5.7 MB/s eta 0:00:01\r\u001b[K     |████████████████████████        | 921 kB 5.7 MB/s eta 0:00:01\r\u001b[K     |████████████████████████▎       | 931 kB 5.7 MB/s eta 0:00:01\r\u001b[K     |████████████████████████▌       | 942 kB 5.7 MB/s eta 0:00:01\r\u001b[K     |████████████████████████▉       | 952 kB 5.7 MB/s eta 0:00:01\r\u001b[K     |█████████████████████████       | 962 kB 5.7 MB/s eta 0:00:01\r\u001b[K     |█████████████████████████▎      | 972 kB 5.7 MB/s eta 0:00:01\r\u001b[K     |█████████████████████████▋      | 983 kB 5.7 MB/s eta 0:00:01\r\u001b[K     |█████████████████████████▉      | 993 kB 5.7 MB/s eta 0:00:01\r\u001b[K     |██████████████████████████▏     | 1.0 MB 5.7 MB/s eta 0:00:01\r\u001b[K     |██████████████████████████▍     | 1.0 MB 5.7 MB/s eta 0:00:01\r\u001b[K     |██████████████████████████▋     | 1.0 MB 5.7 MB/s eta 0:00:01\r\u001b[K     |███████████████████████████     | 1.0 MB 5.7 MB/s eta 0:00:01\r\u001b[K     |███████████████████████████▏    | 1.0 MB 5.7 MB/s eta 0:00:01\r\u001b[K     |███████████████████████████▌    | 1.1 MB 5.7 MB/s eta 0:00:01\r\u001b[K     |███████████████████████████▊    | 1.1 MB 5.7 MB/s eta 0:00:01\r\u001b[K     |████████████████████████████    | 1.1 MB 5.7 MB/s eta 0:00:01\r\u001b[K     |████████████████████████████▎   | 1.1 MB 5.7 MB/s eta 0:00:01\r\u001b[K     |████████████████████████████▌   | 1.1 MB 5.7 MB/s eta 0:00:01\r\u001b[K     |████████████████████████████▉   | 1.1 MB 5.7 MB/s eta 0:00:01\r\u001b[K     |█████████████████████████████   | 1.1 MB 5.7 MB/s eta 0:00:01\r\u001b[K     |█████████████████████████████▎  | 1.1 MB 5.7 MB/s eta 0:00:01\r\u001b[K     |█████████████████████████████▋  | 1.1 MB 5.7 MB/s eta 0:00:01\r\u001b[K     |█████████████████████████████▉  | 1.1 MB 5.7 MB/s eta 0:00:01\r\u001b[K     |██████████████████████████████▏ | 1.2 MB 5.7 MB/s eta 0:00:01\r\u001b[K     |██████████████████████████████▍ | 1.2 MB 5.7 MB/s eta 0:00:01\r\u001b[K     |██████████████████████████████▋ | 1.2 MB 5.7 MB/s eta 0:00:01\r\u001b[K     |███████████████████████████████ | 1.2 MB 5.7 MB/s eta 0:00:01\r\u001b[K     |███████████████████████████████▏| 1.2 MB 5.7 MB/s eta 0:00:01\r\u001b[K     |███████████████████████████████▌| 1.2 MB 5.7 MB/s eta 0:00:01\r\u001b[K     |███████████████████████████████▊| 1.2 MB 5.7 MB/s eta 0:00:01\r\u001b[K     |████████████████████████████████| 1.2 MB 5.7 MB/s eta 0:00:01\r\u001b[K     |████████████████████████████████| 1.2 MB 5.7 MB/s \n",
            "\u001b[?25hRequirement already satisfied: pandas<2.0.0,>=1.0.0 in /usr/local/lib/python3.7/dist-packages (from bqplot) (1.3.5)\n",
            "Requirement already satisfied: numpy<2.0.0,>=1.10.4 in /usr/local/lib/python3.7/dist-packages (from bqplot) (1.21.5)\n",
            "Requirement already satisfied: ipywidgets>=7.5.0 in /usr/local/lib/python3.7/dist-packages (from bqplot) (7.7.0)\n",
            "Collecting traittypes>=0.0.6\n",
            "  Downloading traittypes-0.2.1-py2.py3-none-any.whl (8.6 kB)\n",
            "Requirement already satisfied: traitlets>=4.3.0 in /usr/local/lib/python3.7/dist-packages (from bqplot) (5.1.1)\n",
            "Requirement already satisfied: nbformat>=4.2.0 in /usr/local/lib/python3.7/dist-packages (from ipywidgets>=7.5.0->bqplot) (5.3.0)\n",
            "Requirement already satisfied: ipython>=4.0.0 in /usr/local/lib/python3.7/dist-packages (from ipywidgets>=7.5.0->bqplot) (5.5.0)\n",
            "Requirement already satisfied: ipykernel>=4.5.1 in /usr/local/lib/python3.7/dist-packages (from ipywidgets>=7.5.0->bqplot) (4.10.1)\n",
            "Requirement already satisfied: ipython-genutils~=0.2.0 in /usr/local/lib/python3.7/dist-packages (from ipywidgets>=7.5.0->bqplot) (0.2.0)\n",
            "Requirement already satisfied: widgetsnbextension~=3.6.0 in /usr/local/lib/python3.7/dist-packages (from ipywidgets>=7.5.0->bqplot) (3.6.0)\n",
            "Requirement already satisfied: jupyterlab-widgets>=1.0.0 in /usr/local/lib/python3.7/dist-packages (from ipywidgets>=7.5.0->bqplot) (1.1.0)\n",
            "Requirement already satisfied: tornado>=4.0 in /usr/local/lib/python3.7/dist-packages (from ipykernel>=4.5.1->ipywidgets>=7.5.0->bqplot) (5.1.1)\n",
            "Requirement already satisfied: jupyter-client in /usr/local/lib/python3.7/dist-packages (from ipykernel>=4.5.1->ipywidgets>=7.5.0->bqplot) (5.3.5)\n",
            "Requirement already satisfied: prompt-toolkit<2.0.0,>=1.0.4 in /usr/local/lib/python3.7/dist-packages (from ipython>=4.0.0->ipywidgets>=7.5.0->bqplot) (1.0.18)\n",
            "Requirement already satisfied: pickleshare in /usr/local/lib/python3.7/dist-packages (from ipython>=4.0.0->ipywidgets>=7.5.0->bqplot) (0.7.5)\n",
            "Requirement already satisfied: decorator in /usr/local/lib/python3.7/dist-packages (from ipython>=4.0.0->ipywidgets>=7.5.0->bqplot) (4.4.2)\n",
            "Requirement already satisfied: setuptools>=18.5 in /usr/local/lib/python3.7/dist-packages (from ipython>=4.0.0->ipywidgets>=7.5.0->bqplot) (57.4.0)\n",
            "Requirement already satisfied: simplegeneric>0.8 in /usr/local/lib/python3.7/dist-packages (from ipython>=4.0.0->ipywidgets>=7.5.0->bqplot) (0.8.1)\n",
            "Requirement already satisfied: pexpect in /usr/local/lib/python3.7/dist-packages (from ipython>=4.0.0->ipywidgets>=7.5.0->bqplot) (4.8.0)\n",
            "Requirement already satisfied: pygments in /usr/local/lib/python3.7/dist-packages (from ipython>=4.0.0->ipywidgets>=7.5.0->bqplot) (2.6.1)\n",
            "Requirement already satisfied: fastjsonschema in /usr/local/lib/python3.7/dist-packages (from nbformat>=4.2.0->ipywidgets>=7.5.0->bqplot) (2.15.3)\n",
            "Requirement already satisfied: jupyter-core in /usr/local/lib/python3.7/dist-packages (from nbformat>=4.2.0->ipywidgets>=7.5.0->bqplot) (4.9.2)\n",
            "Requirement already satisfied: jsonschema>=2.6 in /usr/local/lib/python3.7/dist-packages (from nbformat>=4.2.0->ipywidgets>=7.5.0->bqplot) (4.3.3)\n",
            "Requirement already satisfied: importlib-resources>=1.4.0 in /usr/local/lib/python3.7/dist-packages (from jsonschema>=2.6->nbformat>=4.2.0->ipywidgets>=7.5.0->bqplot) (5.6.0)\n",
            "Requirement already satisfied: pyrsistent!=0.17.0,!=0.17.1,!=0.17.2,>=0.14.0 in /usr/local/lib/python3.7/dist-packages (from jsonschema>=2.6->nbformat>=4.2.0->ipywidgets>=7.5.0->bqplot) (0.18.1)\n",
            "Requirement already satisfied: importlib-metadata in /usr/local/lib/python3.7/dist-packages (from jsonschema>=2.6->nbformat>=4.2.0->ipywidgets>=7.5.0->bqplot) (4.11.3)\n",
            "Requirement already satisfied: typing-extensions in /usr/local/lib/python3.7/dist-packages (from jsonschema>=2.6->nbformat>=4.2.0->ipywidgets>=7.5.0->bqplot) (4.1.1)\n",
            "Requirement already satisfied: attrs>=17.4.0 in /usr/local/lib/python3.7/dist-packages (from jsonschema>=2.6->nbformat>=4.2.0->ipywidgets>=7.5.0->bqplot) (21.4.0)\n",
            "Requirement already satisfied: zipp>=3.1.0 in /usr/local/lib/python3.7/dist-packages (from importlib-resources>=1.4.0->jsonschema>=2.6->nbformat>=4.2.0->ipywidgets>=7.5.0->bqplot) (3.8.0)\n",
            "Requirement already satisfied: pytz>=2017.3 in /usr/local/lib/python3.7/dist-packages (from pandas<2.0.0,>=1.0.0->bqplot) (2018.9)\n",
            "Requirement already satisfied: python-dateutil>=2.7.3 in /usr/local/lib/python3.7/dist-packages (from pandas<2.0.0,>=1.0.0->bqplot) (2.8.2)\n",
            "Requirement already satisfied: six>=1.9.0 in /usr/local/lib/python3.7/dist-packages (from prompt-toolkit<2.0.0,>=1.0.4->ipython>=4.0.0->ipywidgets>=7.5.0->bqplot) (1.15.0)\n",
            "Requirement already satisfied: wcwidth in /usr/local/lib/python3.7/dist-packages (from prompt-toolkit<2.0.0,>=1.0.4->ipython>=4.0.0->ipywidgets>=7.5.0->bqplot) (0.2.5)\n",
            "Requirement already satisfied: notebook>=4.4.1 in /usr/local/lib/python3.7/dist-packages (from widgetsnbextension~=3.6.0->ipywidgets>=7.5.0->bqplot) (5.3.1)\n",
            "Requirement already satisfied: Send2Trash in /usr/local/lib/python3.7/dist-packages (from notebook>=4.4.1->widgetsnbextension~=3.6.0->ipywidgets>=7.5.0->bqplot) (1.8.0)\n",
            "Requirement already satisfied: nbconvert in /usr/local/lib/python3.7/dist-packages (from notebook>=4.4.1->widgetsnbextension~=3.6.0->ipywidgets>=7.5.0->bqplot) (5.6.1)\n",
            "Requirement already satisfied: terminado>=0.8.1 in /usr/local/lib/python3.7/dist-packages (from notebook>=4.4.1->widgetsnbextension~=3.6.0->ipywidgets>=7.5.0->bqplot) (0.13.3)\n",
            "Requirement already satisfied: jinja2 in /usr/local/lib/python3.7/dist-packages (from notebook>=4.4.1->widgetsnbextension~=3.6.0->ipywidgets>=7.5.0->bqplot) (2.11.3)\n",
            "Requirement already satisfied: pyzmq>=13 in /usr/local/lib/python3.7/dist-packages (from jupyter-client->ipykernel>=4.5.1->ipywidgets>=7.5.0->bqplot) (22.3.0)\n",
            "Requirement already satisfied: ptyprocess in /usr/local/lib/python3.7/dist-packages (from terminado>=0.8.1->notebook>=4.4.1->widgetsnbextension~=3.6.0->ipywidgets>=7.5.0->bqplot) (0.7.0)\n",
            "Requirement already satisfied: MarkupSafe>=0.23 in /usr/local/lib/python3.7/dist-packages (from jinja2->notebook>=4.4.1->widgetsnbextension~=3.6.0->ipywidgets>=7.5.0->bqplot) (2.0.1)\n",
            "Requirement already satisfied: mistune<2,>=0.8.1 in /usr/local/lib/python3.7/dist-packages (from nbconvert->notebook>=4.4.1->widgetsnbextension~=3.6.0->ipywidgets>=7.5.0->bqplot) (0.8.4)\n",
            "Requirement already satisfied: defusedxml in /usr/local/lib/python3.7/dist-packages (from nbconvert->notebook>=4.4.1->widgetsnbextension~=3.6.0->ipywidgets>=7.5.0->bqplot) (0.7.1)\n",
            "Requirement already satisfied: entrypoints>=0.2.2 in /usr/local/lib/python3.7/dist-packages (from nbconvert->notebook>=4.4.1->widgetsnbextension~=3.6.0->ipywidgets>=7.5.0->bqplot) (0.4)\n",
            "Requirement already satisfied: bleach in /usr/local/lib/python3.7/dist-packages (from nbconvert->notebook>=4.4.1->widgetsnbextension~=3.6.0->ipywidgets>=7.5.0->bqplot) (5.0.0)\n",
            "Requirement already satisfied: pandocfilters>=1.4.1 in /usr/local/lib/python3.7/dist-packages (from nbconvert->notebook>=4.4.1->widgetsnbextension~=3.6.0->ipywidgets>=7.5.0->bqplot) (1.5.0)\n",
            "Requirement already satisfied: testpath in /usr/local/lib/python3.7/dist-packages (from nbconvert->notebook>=4.4.1->widgetsnbextension~=3.6.0->ipywidgets>=7.5.0->bqplot) (0.6.0)\n",
            "Requirement already satisfied: webencodings in /usr/local/lib/python3.7/dist-packages (from bleach->nbconvert->notebook>=4.4.1->widgetsnbextension~=3.6.0->ipywidgets>=7.5.0->bqplot) (0.5.1)\n",
            "Installing collected packages: traittypes, bqplot\n",
            "Successfully installed bqplot-0.12.33 traittypes-0.2.1\n"
          ]
        }
      ]
    },
    {
      "cell_type": "code",
      "source": [
        "import numpy as np\n",
        "from scipy.stats import norm\n",
        "\n",
        "import ipywidgets as widgets\n",
        "import bqplot.pyplot as plt"
      ],
      "metadata": {
        "id": "RnK3-x3o7ngv"
      },
      "execution_count": 35,
      "outputs": []
    },
    {
      "cell_type": "code",
      "source": [
        "# extend the class from layout class VBox\n",
        "class GaussianDensity(widgets.VBox):\n",
        "    def __init__(self, *args, **kwargs):\n",
        "        x = np.linspace(-10, 10, 200)\n",
        "        y = norm.pdf(x)\n",
        "\n",
        "        # gaussian density figure\n",
        "        self.title_tmpl = \"Gaussian Density (mu = {} and sigma = {})\"\n",
        "        self.pdf_fig = plt.figure(\n",
        "            title=self.title_tmpl.format(0, 1),\n",
        "            layout=widgets.Layout(width=\"800px\", height=\"600px\"),\n",
        "        )\n",
        "        self.pdf_line = plt.plot(x, y, \"m\", stroke_width=3)\n",
        "\n",
        "        # sliders for mu and sigma\n",
        "        self.mu_slider = widgets.FloatSlider(\n",
        "            description=\"$\\mu$\", value=0, min=-5, max=5, step=0.1\n",
        "        )\n",
        "        self.sigma_slider = widgets.FloatSlider(\n",
        "            description=\"$\\sigma$\", value=1, min=0.1, max=5, step=0.1\n",
        "        )\n",
        "        slider_layout = widgets.HBox([self.mu_slider, self.sigma_slider])\n",
        "\n",
        "        # register callback with the 'value' trait of the sliders\n",
        "        for slider in [self.mu_slider, self.sigma_slider]:\n",
        "            slider.observe(self.update_density, \"value\")\n",
        "\n",
        "        # call super construction by passing in the widgets as children\n",
        "        super(GaussianDensity, self).__init__(children=[self.pdf_fig, slider_layout])\n",
        "\n",
        "    def update_density(self, change):\n",
        "        new_mu = self.mu_slider.value\n",
        "        new_sigma = self.sigma_slider.value\n",
        "        # update the y attribute of the plot with the new pdf\n",
        "        # computed using new mu and sigma values\n",
        "        self.pdf_line.y = norm.pdf(self.pdf_line.x, new_mu, new_sigma)\n",
        "\n",
        "        # also update the fig title\n",
        "        self.pdf_fig.title = self.title_tmpl.format(new_mu, new_sigma)"
      ],
      "metadata": {
        "id": "P6sip1iS7o00"
      },
      "execution_count": 36,
      "outputs": []
    },
    {
      "cell_type": "code",
      "source": [
        "gaussian_density_widget = GaussianDensity()"
      ],
      "metadata": {
        "id": "y2Ax9dci7vQN"
      },
      "execution_count": 37,
      "outputs": []
    },
    {
      "cell_type": "code",
      "source": [
        "# render the compound widget like any other interactive widget\n",
        "gaussian_density_widget"
      ],
      "metadata": {
        "colab": {
          "base_uri": "https://localhost:8080/",
          "height": 673,
          "referenced_widgets": [
            "8a14bf9e68e749f488ac22db2e731928",
            "41cbd0b5f3ab4ea4bb0e60da7899ccf8",
            "7bb4dc9637b94769a47e9bdb8b70cba3",
            "9f99b32aea31427bb3a847e0c2d617ed",
            "4dbd3deabb3b4447906e76ac2b962a04",
            "de01e77bee5e4c2c969af0c2f8251f33",
            "717bb7155e89410bb24bac6a22ea9275",
            "079392df0d8e457088a6272a37dbbd4b",
            "c0a716e93d2646fa9a02e828ff17e6dc",
            "4e5de137667a4774acef4a8cb0dc2f42",
            "517aef0c0b874adf81c9447b7afdcabc",
            "728581f967144fcaa261e1bce347777c",
            "dced36f08d074aa7a32a58e11ae356e1",
            "69055b7b160f49faa31d9b6bb3da1531",
            "4b0a1e9eb2724e0abe4ae82a0c8ac2a0",
            "2c3f88cceb7f4050906c66069a878be4",
            "e8176211a4b241dea9327200fdfea1d9",
            "e45af8cc17234f4db4111a0daca66aa3",
            "4f4fbd03c2ec4cb79e76adc35f8816fd"
          ]
        },
        "id": "ZcEDov1B7yQS",
        "outputId": "381081ef-ce2c-4948-f114-67f4bbeeb045"
      },
      "execution_count": 38,
      "outputs": [
        {
          "output_type": "display_data",
          "data": {
            "text/plain": [
              "GaussianDensity(children=(Figure(axes=[Axis(scale=LinearScale()), Axis(orientation='vertical', scale=LinearSca…"
            ],
            "application/vnd.jupyter.widget-view+json": {
              "version_major": 2,
              "version_minor": 0,
              "model_id": "8a14bf9e68e749f488ac22db2e731928"
            }
          },
          "metadata": {
            "application/vnd.jupyter.widget-view+json": {
              "colab": {
                "custom_widget_manager": {
                  "url": "https://ssl.gstatic.com/colaboratory-static/widgets/colab-cdn-widget-manager/a8874ba6619b6106/manager.min.js"
                }
              }
            }
          }
        }
      ]
    },
    {
      "cell_type": "code",
      "source": [
        "# we can stack this compound widget together with other interactive widgets\n",
        "widgets.HBox([gaussian_density_widget, widgets.IntSlider()])"
      ],
      "metadata": {
        "colab": {
          "base_uri": "https://localhost:8080/",
          "height": 17,
          "referenced_widgets": [
            "beabbf7cb33d43738e22fc9d78a608e8",
            "8a14bf9e68e749f488ac22db2e731928",
            "d09ddab8f4bb438a8006ed12cbfbbe80",
            "55cb793495ef4d938c1c7f92f069415d",
            "41cbd0b5f3ab4ea4bb0e60da7899ccf8",
            "7bb4dc9637b94769a47e9bdb8b70cba3",
            "9f99b32aea31427bb3a847e0c2d617ed",
            "44b1006828eb4d71adac40f28f8cc2ec",
            "70b64a1b8bb649c481952ccf0f2c5c74",
            "4dbd3deabb3b4447906e76ac2b962a04",
            "de01e77bee5e4c2c969af0c2f8251f33",
            "717bb7155e89410bb24bac6a22ea9275",
            "079392df0d8e457088a6272a37dbbd4b",
            "c0a716e93d2646fa9a02e828ff17e6dc",
            "4e5de137667a4774acef4a8cb0dc2f42",
            "517aef0c0b874adf81c9447b7afdcabc",
            "728581f967144fcaa261e1bce347777c",
            "dced36f08d074aa7a32a58e11ae356e1",
            "69055b7b160f49faa31d9b6bb3da1531",
            "4b0a1e9eb2724e0abe4ae82a0c8ac2a0",
            "2c3f88cceb7f4050906c66069a878be4",
            "e8176211a4b241dea9327200fdfea1d9",
            "e45af8cc17234f4db4111a0daca66aa3",
            "4f4fbd03c2ec4cb79e76adc35f8816fd"
          ]
        },
        "id": "K7Ylt8tS71oS",
        "outputId": "9bc75806-aef0-4b36-f70d-f086a3c6bc47"
      },
      "execution_count": 39,
      "outputs": [
        {
          "output_type": "display_data",
          "data": {
            "text/plain": [
              "HBox(children=(GaussianDensity(children=(Figure(axes=[Axis(scale=LinearScale(), side='bottom'), Axis(orientati…"
            ],
            "application/vnd.jupyter.widget-view+json": {
              "version_major": 2,
              "version_minor": 0,
              "model_id": "beabbf7cb33d43738e22fc9d78a608e8"
            }
          },
          "metadata": {
            "application/vnd.jupyter.widget-view+json": {
              "colab": {
                "custom_widget_manager": {
                  "url": "https://ssl.gstatic.com/colaboratory-static/widgets/colab-cdn-widget-manager/a8874ba6619b6106/manager.min.js"
                }
              }
            }
          }
        }
      ]
    }
  ]
}