{
  "nbformat": 4,
  "nbformat_minor": 0,
  "metadata": {
    "colab": {
      "name": "EDA_Animation.ipynb",
      "provenance": [],
      "collapsed_sections": []
    },
    "kernelspec": {
      "name": "python3",
      "display_name": "Python 3"
    },
    "language_info": {
      "name": "python"
    },
    "widgets": {
      "application/vnd.jupyter.widget-state+json": {
        "93dac521fbf94f119849644b00574849": {
          "model_module": "@jupyter-widgets/controls",
          "model_name": "IntSliderModel",
          "model_module_version": "1.5.0",
          "state": {
            "_dom_classes": [],
            "_model_module": "@jupyter-widgets/controls",
            "_model_module_version": "1.5.0",
            "_model_name": "IntSliderModel",
            "_view_count": null,
            "_view_module": "@jupyter-widgets/controls",
            "_view_module_version": "1.5.0",
            "_view_name": "IntSliderView",
            "continuous_update": true,
            "description": "",
            "description_tooltip": null,
            "disabled": false,
            "layout": "IPY_MODEL_6594307b51f64173bb08a4082e81b68a",
            "max": 100,
            "min": 0,
            "orientation": "horizontal",
            "readout": true,
            "readout_format": "d",
            "step": 1,
            "style": "IPY_MODEL_3eeeda6b570946e0ab5f9f1725ac395f",
            "value": 0
          }
        },
        "6594307b51f64173bb08a4082e81b68a": {
          "model_module": "@jupyter-widgets/base",
          "model_name": "LayoutModel",
          "model_module_version": "1.2.0",
          "state": {
            "_model_module": "@jupyter-widgets/base",
            "_model_module_version": "1.2.0",
            "_model_name": "LayoutModel",
            "_view_count": null,
            "_view_module": "@jupyter-widgets/base",
            "_view_module_version": "1.2.0",
            "_view_name": "LayoutView",
            "align_content": null,
            "align_items": null,
            "align_self": null,
            "border": null,
            "bottom": null,
            "display": null,
            "flex": null,
            "flex_flow": null,
            "grid_area": null,
            "grid_auto_columns": null,
            "grid_auto_flow": null,
            "grid_auto_rows": null,
            "grid_column": null,
            "grid_gap": null,
            "grid_row": null,
            "grid_template_areas": null,
            "grid_template_columns": null,
            "grid_template_rows": null,
            "height": null,
            "justify_content": null,
            "justify_items": null,
            "left": null,
            "margin": null,
            "max_height": null,
            "max_width": null,
            "min_height": null,
            "min_width": null,
            "object_fit": null,
            "object_position": null,
            "order": null,
            "overflow": null,
            "overflow_x": null,
            "overflow_y": null,
            "padding": null,
            "right": null,
            "top": null,
            "visibility": null,
            "width": null
          }
        },
        "3eeeda6b570946e0ab5f9f1725ac395f": {
          "model_module": "@jupyter-widgets/controls",
          "model_name": "SliderStyleModel",
          "model_module_version": "1.5.0",
          "state": {
            "_model_module": "@jupyter-widgets/controls",
            "_model_module_version": "1.5.0",
            "_model_name": "SliderStyleModel",
            "_view_count": null,
            "_view_module": "@jupyter-widgets/base",
            "_view_module_version": "1.2.0",
            "_view_name": "StyleView",
            "description_width": "",
            "handle_color": null
          }
        },
        "cd6414b973924b138138c31ec1f9ae6c": {
          "model_module": "bqplot",
          "model_name": "FigureModel",
          "model_module_version": "^0.5.34",
          "state": {
            "_dom_classes": [],
            "_model_module": "bqplot",
            "_model_module_version": "^0.5.34",
            "_model_name": "FigureModel",
            "_view_count": null,
            "_view_module": "bqplot",
            "_view_module_version": "^0.5.34",
            "_view_name": "Figure",
            "animation_duration": 1000,
            "axes": [
              "IPY_MODEL_58f701c5c07b4d6980837a366959964b",
              "IPY_MODEL_351cb354c18a42b1a26706f4df8e72ae"
            ],
            "background_style": {},
            "fig_margin": {
              "top": 60,
              "bottom": 60,
              "left": 60,
              "right": 60
            },
            "interaction": null,
            "layout": "IPY_MODEL_d1f5046a3ca74e86863a71f6228ff138",
            "legend_location": "top-right",
            "legend_style": {},
            "legend_text": {},
            "marks": [
              "IPY_MODEL_0c9f5406fcf64070abadedf691c5c7b3"
            ],
            "max_aspect_ratio": 100,
            "min_aspect_ratio": 0.01,
            "padding_x": 0,
            "padding_y": 0.025,
            "pixel_ratio": null,
            "scale_x": "IPY_MODEL_980f41eb336749a6b83c09b45b36d276",
            "scale_y": "IPY_MODEL_7a9c9246c7bb49faa55c24e3c1a5095e",
            "theme": "classic",
            "title": "",
            "title_style": {}
          }
        },
        "58f701c5c07b4d6980837a366959964b": {
          "model_module": "bqplot",
          "model_name": "AxisModel",
          "model_module_version": "^0.5.34",
          "state": {
            "_model_module": "bqplot",
            "_model_module_version": "^0.5.34",
            "_model_name": "AxisModel",
            "_view_count": null,
            "_view_module": "bqplot",
            "_view_module_version": "^0.5.34",
            "_view_name": "Axis",
            "color": null,
            "grid_color": null,
            "grid_lines": "solid",
            "label": "x",
            "label_color": null,
            "label_location": "middle",
            "label_offset": null,
            "num_ticks": null,
            "offset": {},
            "orientation": "horizontal",
            "scale": "IPY_MODEL_3f747d339c9c41e5a1c492d81a1c7c10",
            "side": "bottom",
            "tick_format": null,
            "tick_rotate": 0,
            "tick_style": {},
            "tick_values": null,
            "visible": true
          }
        },
        "351cb354c18a42b1a26706f4df8e72ae": {
          "model_module": "bqplot",
          "model_name": "AxisModel",
          "model_module_version": "^0.5.34",
          "state": {
            "_model_module": "bqplot",
            "_model_module_version": "^0.5.34",
            "_model_name": "AxisModel",
            "_view_count": null,
            "_view_module": "bqplot",
            "_view_module_version": "^0.5.34",
            "_view_name": "Axis",
            "color": null,
            "grid_color": null,
            "grid_lines": "solid",
            "label": "y",
            "label_color": null,
            "label_location": "middle",
            "label_offset": null,
            "num_ticks": null,
            "offset": {},
            "orientation": "vertical",
            "scale": "IPY_MODEL_e8f535df943a4cfa914eeb9ad4332dda",
            "side": "left",
            "tick_format": null,
            "tick_rotate": 0,
            "tick_style": {},
            "tick_values": null,
            "visible": true
          }
        },
        "d1f5046a3ca74e86863a71f6228ff138": {
          "model_module": "@jupyter-widgets/base",
          "model_name": "LayoutModel",
          "model_module_version": "1.2.0",
          "state": {
            "_model_module": "@jupyter-widgets/base",
            "_model_module_version": "1.2.0",
            "_model_name": "LayoutModel",
            "_view_count": null,
            "_view_module": "@jupyter-widgets/base",
            "_view_module_version": "1.2.0",
            "_view_name": "LayoutView",
            "align_content": null,
            "align_items": null,
            "align_self": null,
            "border": null,
            "bottom": null,
            "display": null,
            "flex": null,
            "flex_flow": null,
            "grid_area": null,
            "grid_auto_columns": null,
            "grid_auto_flow": null,
            "grid_auto_rows": null,
            "grid_column": null,
            "grid_gap": null,
            "grid_row": null,
            "grid_template_areas": null,
            "grid_template_columns": null,
            "grid_template_rows": null,
            "height": null,
            "justify_content": null,
            "justify_items": null,
            "left": null,
            "margin": null,
            "max_height": null,
            "max_width": null,
            "min_height": null,
            "min_width": null,
            "object_fit": null,
            "object_position": null,
            "order": null,
            "overflow": null,
            "overflow_x": null,
            "overflow_y": null,
            "padding": null,
            "right": null,
            "top": null,
            "visibility": null,
            "width": null
          }
        },
        "0c9f5406fcf64070abadedf691c5c7b3": {
          "model_module": "bqplot",
          "model_name": "LinesModel",
          "model_module_version": "^0.5.34",
          "state": {
            "_model_module": "bqplot",
            "_model_module_version": "^0.5.34",
            "_model_name": "LinesModel",
            "_view_count": null,
            "_view_module": "bqplot",
            "_view_module_version": "^0.5.34",
            "_view_name": "Lines",
            "apply_clip": true,
            "close_path": false,
            "color": null,
            "colors": [
              "red",
              "green"
            ],
            "curves_subset": [],
            "display_legend": false,
            "enable_hover": true,
            "fill": "none",
            "fill_colors": [],
            "fill_opacities": [],
            "interactions": {
              "hover": "tooltip"
            },
            "interpolation": "linear",
            "labels": [],
            "labels_visibility": "none",
            "line_style": "solid",
            "marker": null,
            "marker_size": 64,
            "opacities": [],
            "preserve_domain": {},
            "scales": {
              "x": "IPY_MODEL_3f747d339c9c41e5a1c492d81a1c7c10",
              "y": "IPY_MODEL_e8f535df943a4cfa914eeb9ad4332dda"
            },
            "scales_metadata": {
              "x": {
                "orientation": "horizontal",
                "dimension": "x"
              },
              "y": {
                "orientation": "vertical",
                "dimension": "y"
              },
              "color": {
                "dimension": "color"
              }
            },
            "selected": null,
            "selected_style": {},
            "stroke_width": 2,
            "tooltip": null,
            "tooltip_location": "mouse",
            "tooltip_style": {
              "opacity": 0.9
            },
            "unselected_style": {},
            "visible": true,
            "x": {
              "dtype": "int32",
              "shape": [
                100
              ],
              "type": null
            },
            "y": {
              "dtype": "float64",
              "shape": [
                2,
                100
              ],
              "type": null
            }
          }
        },
        "980f41eb336749a6b83c09b45b36d276": {
          "model_module": "bqplot",
          "model_name": "LinearScaleModel",
          "model_module_version": "^0.5.34",
          "state": {
            "_model_module": "bqplot",
            "_model_module_version": "^0.5.34",
            "_model_name": "LinearScaleModel",
            "_view_count": null,
            "_view_module": "bqplot",
            "_view_module_version": "^0.5.34",
            "_view_name": "LinearScale",
            "allow_padding": false,
            "max": 1,
            "mid_range": 0.8,
            "min": 0,
            "min_range": 0.6,
            "reverse": false,
            "stabilized": false
          }
        },
        "7a9c9246c7bb49faa55c24e3c1a5095e": {
          "model_module": "bqplot",
          "model_name": "LinearScaleModel",
          "model_module_version": "^0.5.34",
          "state": {
            "_model_module": "bqplot",
            "_model_module_version": "^0.5.34",
            "_model_name": "LinearScaleModel",
            "_view_count": null,
            "_view_module": "bqplot",
            "_view_module_version": "^0.5.34",
            "_view_name": "LinearScale",
            "allow_padding": false,
            "max": 1,
            "mid_range": 0.8,
            "min": 0,
            "min_range": 0.6,
            "reverse": false,
            "stabilized": false
          }
        },
        "3f747d339c9c41e5a1c492d81a1c7c10": {
          "model_module": "bqplot",
          "model_name": "LinearScaleModel",
          "model_module_version": "^0.5.34",
          "state": {
            "_model_module": "bqplot",
            "_model_module_version": "^0.5.34",
            "_model_name": "LinearScaleModel",
            "_view_count": null,
            "_view_module": "bqplot",
            "_view_module_version": "^0.5.34",
            "_view_name": "LinearScale",
            "allow_padding": true,
            "max": null,
            "mid_range": 0.8,
            "min": null,
            "min_range": 0.6,
            "reverse": false,
            "stabilized": false
          }
        },
        "e8f535df943a4cfa914eeb9ad4332dda": {
          "model_module": "bqplot",
          "model_name": "LinearScaleModel",
          "model_module_version": "^0.5.34",
          "state": {
            "_model_module": "bqplot",
            "_model_module_version": "^0.5.34",
            "_model_name": "LinearScaleModel",
            "_view_count": null,
            "_view_module": "bqplot",
            "_view_module_version": "^0.5.34",
            "_view_name": "LinearScale",
            "allow_padding": true,
            "max": null,
            "mid_range": 0.8,
            "min": null,
            "min_range": 0.6,
            "reverse": false,
            "stabilized": false
          }
        },
        "7e18e345640641eab02626c1a36fe373": {
          "model_module": "bqplot",
          "model_name": "FigureModel",
          "model_module_version": "^0.5.34",
          "state": {
            "_dom_classes": [],
            "_model_module": "bqplot",
            "_model_module_version": "^0.5.34",
            "_model_name": "FigureModel",
            "_view_count": null,
            "_view_module": "bqplot",
            "_view_module_version": "^0.5.34",
            "_view_name": "Figure",
            "animation_duration": 1000,
            "axes": [
              "IPY_MODEL_21379a5ce12e450b8e396dab02ac46cb",
              "IPY_MODEL_880abfc968a442f6ab08166c84352ef6"
            ],
            "background_style": {},
            "fig_margin": {
              "top": 60,
              "bottom": 60,
              "left": 60,
              "right": 60
            },
            "interaction": null,
            "layout": "IPY_MODEL_9203a3bbf20f459d86fe638e8575c4de",
            "legend_location": "top-right",
            "legend_style": {},
            "legend_text": {},
            "marks": [
              "IPY_MODEL_af8fa94d249649d783f31cf9801742b9"
            ],
            "max_aspect_ratio": 100,
            "min_aspect_ratio": 0.01,
            "padding_x": 0,
            "padding_y": 0.025,
            "pixel_ratio": null,
            "scale_x": "IPY_MODEL_1b441fb80e74415487173c9c981ece36",
            "scale_y": "IPY_MODEL_9772092283024acf91c0af6f214a4962",
            "theme": "classic",
            "title": "",
            "title_style": {}
          }
        },
        "21379a5ce12e450b8e396dab02ac46cb": {
          "model_module": "bqplot",
          "model_name": "AxisModel",
          "model_module_version": "^0.5.34",
          "state": {
            "_model_module": "bqplot",
            "_model_module_version": "^0.5.34",
            "_model_name": "AxisModel",
            "_view_count": null,
            "_view_module": "bqplot",
            "_view_module_version": "^0.5.34",
            "_view_name": "Axis",
            "color": null,
            "grid_color": null,
            "grid_lines": "solid",
            "label": "x",
            "label_color": null,
            "label_location": "middle",
            "label_offset": null,
            "num_ticks": null,
            "offset": {},
            "orientation": "horizontal",
            "scale": "IPY_MODEL_3592496f80fb4918bdc429057cf601dd",
            "side": "bottom",
            "tick_format": null,
            "tick_rotate": 0,
            "tick_style": {},
            "tick_values": null,
            "visible": true
          }
        },
        "880abfc968a442f6ab08166c84352ef6": {
          "model_module": "bqplot",
          "model_name": "AxisModel",
          "model_module_version": "^0.5.34",
          "state": {
            "_model_module": "bqplot",
            "_model_module_version": "^0.5.34",
            "_model_name": "AxisModel",
            "_view_count": null,
            "_view_module": "bqplot",
            "_view_module_version": "^0.5.34",
            "_view_name": "Axis",
            "color": null,
            "grid_color": null,
            "grid_lines": "solid",
            "label": "y",
            "label_color": null,
            "label_location": "middle",
            "label_offset": null,
            "num_ticks": null,
            "offset": {},
            "orientation": "vertical",
            "scale": "IPY_MODEL_1ec194a7b7f24a9898439bc9597ffb0b",
            "side": "left",
            "tick_format": null,
            "tick_rotate": 0,
            "tick_style": {},
            "tick_values": null,
            "visible": true
          }
        },
        "9203a3bbf20f459d86fe638e8575c4de": {
          "model_module": "@jupyter-widgets/base",
          "model_name": "LayoutModel",
          "model_module_version": "1.2.0",
          "state": {
            "_model_module": "@jupyter-widgets/base",
            "_model_module_version": "1.2.0",
            "_model_name": "LayoutModel",
            "_view_count": null,
            "_view_module": "@jupyter-widgets/base",
            "_view_module_version": "1.2.0",
            "_view_name": "LayoutView",
            "align_content": null,
            "align_items": null,
            "align_self": null,
            "border": null,
            "bottom": null,
            "display": null,
            "flex": null,
            "flex_flow": null,
            "grid_area": null,
            "grid_auto_columns": null,
            "grid_auto_flow": null,
            "grid_auto_rows": null,
            "grid_column": null,
            "grid_gap": null,
            "grid_row": null,
            "grid_template_areas": null,
            "grid_template_columns": null,
            "grid_template_rows": null,
            "height": null,
            "justify_content": null,
            "justify_items": null,
            "left": null,
            "margin": null,
            "max_height": null,
            "max_width": null,
            "min_height": null,
            "min_width": null,
            "object_fit": null,
            "object_position": null,
            "order": null,
            "overflow": null,
            "overflow_x": null,
            "overflow_y": null,
            "padding": null,
            "right": null,
            "top": null,
            "visibility": null,
            "width": null
          }
        },
        "af8fa94d249649d783f31cf9801742b9": {
          "model_module": "bqplot",
          "model_name": "ScatterModel",
          "model_module_version": "^0.5.34",
          "state": {
            "_model_module": "bqplot",
            "_model_module_version": "^0.5.34",
            "_model_name": "ScatterModel",
            "_view_count": null,
            "_view_module": "bqplot",
            "_view_module_version": "^0.5.34",
            "_view_name": "Scatter",
            "apply_clip": true,
            "color": null,
            "colors": [
              "blue"
            ],
            "default_size": 64,
            "default_skew": 0.5,
            "display_legend": false,
            "display_names": true,
            "drag_color": null,
            "drag_size": 5,
            "enable_delete": false,
            "enable_hover": true,
            "enable_move": false,
            "fill": true,
            "hovered_point": null,
            "hovered_style": {},
            "interactions": {
              "hover": "tooltip"
            },
            "label_display_horizontal_offset": 0,
            "label_display_vertical_offset": 0,
            "labels": [],
            "marker": "circle",
            "names": null,
            "names_unique": true,
            "opacities": {
              "dtype": "float64",
              "shape": [
                1
              ],
              "type": null
            },
            "opacity": null,
            "preserve_domain": {},
            "restrict_x": false,
            "restrict_y": false,
            "rotation": null,
            "scales": {
              "x": "IPY_MODEL_3592496f80fb4918bdc429057cf601dd",
              "y": "IPY_MODEL_1ec194a7b7f24a9898439bc9597ffb0b"
            },
            "scales_metadata": {
              "x": {
                "orientation": "horizontal",
                "dimension": "x"
              },
              "y": {
                "orientation": "vertical",
                "dimension": "y"
              },
              "color": {
                "dimension": "color"
              },
              "size": {
                "dimension": "size"
              },
              "opacity": {
                "dimension": "opacity"
              },
              "rotation": {
                "dimension": "rotation"
              },
              "skew": {
                "dimension": "skew"
              }
            },
            "selected": null,
            "selected_style": {},
            "size": null,
            "skew": null,
            "stroke": null,
            "stroke_width": 1.5,
            "tooltip": null,
            "tooltip_location": "mouse",
            "tooltip_style": {
              "opacity": 0.9
            },
            "unhovered_style": {},
            "unselected_style": {},
            "update_on_move": false,
            "visible": true,
            "x": {
              "dtype": "float64",
              "shape": [
                20
              ],
              "type": null
            },
            "y": {
              "dtype": "float64",
              "shape": [
                20
              ],
              "type": null
            }
          }
        },
        "1b441fb80e74415487173c9c981ece36": {
          "model_module": "bqplot",
          "model_name": "LinearScaleModel",
          "model_module_version": "^0.5.34",
          "state": {
            "_model_module": "bqplot",
            "_model_module_version": "^0.5.34",
            "_model_name": "LinearScaleModel",
            "_view_count": null,
            "_view_module": "bqplot",
            "_view_module_version": "^0.5.34",
            "_view_name": "LinearScale",
            "allow_padding": false,
            "max": 1,
            "mid_range": 0.8,
            "min": 0,
            "min_range": 0.6,
            "reverse": false,
            "stabilized": false
          }
        },
        "9772092283024acf91c0af6f214a4962": {
          "model_module": "bqplot",
          "model_name": "LinearScaleModel",
          "model_module_version": "^0.5.34",
          "state": {
            "_model_module": "bqplot",
            "_model_module_version": "^0.5.34",
            "_model_name": "LinearScaleModel",
            "_view_count": null,
            "_view_module": "bqplot",
            "_view_module_version": "^0.5.34",
            "_view_name": "LinearScale",
            "allow_padding": false,
            "max": 1,
            "mid_range": 0.8,
            "min": 0,
            "min_range": 0.6,
            "reverse": false,
            "stabilized": false
          }
        },
        "3592496f80fb4918bdc429057cf601dd": {
          "model_module": "bqplot",
          "model_name": "LinearScaleModel",
          "model_module_version": "^0.5.34",
          "state": {
            "_model_module": "bqplot",
            "_model_module_version": "^0.5.34",
            "_model_name": "LinearScaleModel",
            "_view_count": null,
            "_view_module": "bqplot",
            "_view_module_version": "^0.5.34",
            "_view_name": "LinearScale",
            "allow_padding": true,
            "max": null,
            "mid_range": 0.8,
            "min": null,
            "min_range": 0.6,
            "reverse": false,
            "stabilized": false
          }
        },
        "1ec194a7b7f24a9898439bc9597ffb0b": {
          "model_module": "bqplot",
          "model_name": "LinearScaleModel",
          "model_module_version": "^0.5.34",
          "state": {
            "_model_module": "bqplot",
            "_model_module_version": "^0.5.34",
            "_model_name": "LinearScaleModel",
            "_view_count": null,
            "_view_module": "bqplot",
            "_view_module_version": "^0.5.34",
            "_view_name": "LinearScale",
            "allow_padding": true,
            "max": null,
            "mid_range": 0.8,
            "min": null,
            "min_range": 0.6,
            "reverse": false,
            "stabilized": false
          }
        },
        "d7403d90489c48cfb1ca5fdb3dcf607e": {
          "model_module": "bqplot",
          "model_name": "FigureModel",
          "model_module_version": "^0.5.34",
          "state": {
            "_dom_classes": [],
            "_model_module": "bqplot",
            "_model_module_version": "^0.5.34",
            "_model_name": "FigureModel",
            "_view_count": null,
            "_view_module": "bqplot",
            "_view_module_version": "^0.5.34",
            "_view_name": "Figure",
            "animation_duration": 1000,
            "axes": [],
            "background_style": {},
            "fig_margin": {
              "top": 60,
              "bottom": 60,
              "left": 60,
              "right": 60
            },
            "interaction": null,
            "layout": "IPY_MODEL_e178b26c5cc548ff8f36be25499282dd",
            "legend_location": "top-right",
            "legend_style": {},
            "legend_text": {},
            "marks": [
              "IPY_MODEL_5380c3bbe14043f5be348ba49699db28"
            ],
            "max_aspect_ratio": 100,
            "min_aspect_ratio": 0.01,
            "padding_x": 0,
            "padding_y": 0.025,
            "pixel_ratio": null,
            "scale_x": "IPY_MODEL_986cd5a1447b4b6c9ed92d5fbdfc9777",
            "scale_y": "IPY_MODEL_46f83f0712ff4169b74db8feb205a745",
            "theme": "classic",
            "title": "",
            "title_style": {}
          }
        },
        "e178b26c5cc548ff8f36be25499282dd": {
          "model_module": "@jupyter-widgets/base",
          "model_name": "LayoutModel",
          "model_module_version": "1.2.0",
          "state": {
            "_model_module": "@jupyter-widgets/base",
            "_model_module_version": "1.2.0",
            "_model_name": "LayoutModel",
            "_view_count": null,
            "_view_module": "@jupyter-widgets/base",
            "_view_module_version": "1.2.0",
            "_view_name": "LayoutView",
            "align_content": null,
            "align_items": null,
            "align_self": null,
            "border": null,
            "bottom": null,
            "display": null,
            "flex": null,
            "flex_flow": null,
            "grid_area": null,
            "grid_auto_columns": null,
            "grid_auto_flow": null,
            "grid_auto_rows": null,
            "grid_column": null,
            "grid_gap": null,
            "grid_row": null,
            "grid_template_areas": null,
            "grid_template_columns": null,
            "grid_template_rows": null,
            "height": null,
            "justify_content": null,
            "justify_items": null,
            "left": null,
            "margin": null,
            "max_height": null,
            "max_width": null,
            "min_height": null,
            "min_width": null,
            "object_fit": null,
            "object_position": null,
            "order": null,
            "overflow": null,
            "overflow_x": null,
            "overflow_y": null,
            "padding": null,
            "right": null,
            "top": null,
            "visibility": null,
            "width": null
          }
        },
        "5380c3bbe14043f5be348ba49699db28": {
          "model_module": "bqplot",
          "model_name": "PieModel",
          "model_module_version": "^0.5.34",
          "state": {
            "_model_module": "bqplot",
            "_model_module_version": "^0.5.34",
            "_model_name": "PieModel",
            "_view_count": null,
            "_view_module": "bqplot",
            "_view_module_version": "^0.5.34",
            "_view_name": "Pie",
            "apply_clip": true,
            "color": null,
            "colors": [
              "#1f77b4",
              "#ff7f0e",
              "#2ca02c",
              "#d62728",
              "#9467bd",
              "#8c564b",
              "#e377c2",
              "#7f7f7f",
              "#bcbd22",
              "#17becf"
            ],
            "display_labels": "outside",
            "display_legend": false,
            "display_values": true,
            "enable_hover": true,
            "end_angle": 360,
            "font_size": "12px",
            "font_weight": "normal",
            "inner_radius": 120,
            "interactions": {
              "hover": "tooltip"
            },
            "label_color": null,
            "labels": [
              "A",
              "B",
              "C",
              "D",
              "E",
              "F",
              "G",
              "H",
              "I",
              "J"
            ],
            "opacities": [],
            "preserve_domain": {},
            "radius": 180,
            "scales": {},
            "scales_metadata": {
              "color": {
                "dimension": "color"
              }
            },
            "selected": null,
            "selected_style": {},
            "sizes": {
              "dtype": "float64",
              "shape": [
                8
              ],
              "type": null
            },
            "sort": true,
            "start_angle": 0,
            "stroke": null,
            "tooltip": null,
            "tooltip_location": "mouse",
            "tooltip_style": {
              "opacity": 0.9
            },
            "unselected_style": {},
            "values_format": ".0%",
            "visible": true,
            "x": 0.5,
            "y": 0.5
          }
        },
        "986cd5a1447b4b6c9ed92d5fbdfc9777": {
          "model_module": "bqplot",
          "model_name": "LinearScaleModel",
          "model_module_version": "^0.5.34",
          "state": {
            "_model_module": "bqplot",
            "_model_module_version": "^0.5.34",
            "_model_name": "LinearScaleModel",
            "_view_count": null,
            "_view_module": "bqplot",
            "_view_module_version": "^0.5.34",
            "_view_name": "LinearScale",
            "allow_padding": false,
            "max": 1,
            "mid_range": 0.8,
            "min": 0,
            "min_range": 0.6,
            "reverse": false,
            "stabilized": false
          }
        },
        "46f83f0712ff4169b74db8feb205a745": {
          "model_module": "bqplot",
          "model_name": "LinearScaleModel",
          "model_module_version": "^0.5.34",
          "state": {
            "_model_module": "bqplot",
            "_model_module_version": "^0.5.34",
            "_model_name": "LinearScaleModel",
            "_view_count": null,
            "_view_module": "bqplot",
            "_view_module_version": "^0.5.34",
            "_view_name": "LinearScale",
            "allow_padding": false,
            "max": 1,
            "mid_range": 0.8,
            "min": 0,
            "min_range": 0.6,
            "reverse": false,
            "stabilized": false
          }
        },
        "f8590fe978394a2997e443d99be688f3": {
          "model_module": "bqplot",
          "model_name": "FigureModel",
          "model_module_version": "^0.5.34",
          "state": {
            "_dom_classes": [],
            "_model_module": "bqplot",
            "_model_module_version": "^0.5.34",
            "_model_name": "FigureModel",
            "_view_count": null,
            "_view_module": "bqplot",
            "_view_module_version": "^0.5.34",
            "_view_name": "Figure",
            "animation_duration": 1000,
            "axes": [
              "IPY_MODEL_318e39f5db38411da50c60f803c703e7",
              "IPY_MODEL_eab914b0eb3f495d9f69cfe754891b3e"
            ],
            "background_style": {},
            "fig_margin": {
              "top": 60,
              "bottom": 60,
              "left": 60,
              "right": 60
            },
            "interaction": null,
            "layout": "IPY_MODEL_3bc8da07097f46b88de3439aa6c7e950",
            "legend_location": "top-right",
            "legend_style": {},
            "legend_text": {},
            "marks": [
              "IPY_MODEL_1649b28be641427a8090d323958cf9bb"
            ],
            "max_aspect_ratio": 100,
            "min_aspect_ratio": 0.01,
            "padding_x": 0,
            "padding_y": 0.025,
            "pixel_ratio": null,
            "scale_x": "IPY_MODEL_2f355782d241459eb42b5f5fcdb5fe68",
            "scale_y": "IPY_MODEL_6d583488a82a4d218e6374fa1c014e49",
            "theme": "classic",
            "title": "",
            "title_style": {}
          }
        },
        "318e39f5db38411da50c60f803c703e7": {
          "model_module": "bqplot",
          "model_name": "AxisModel",
          "model_module_version": "^0.5.34",
          "state": {
            "_model_module": "bqplot",
            "_model_module_version": "^0.5.34",
            "_model_name": "AxisModel",
            "_view_count": null,
            "_view_module": "bqplot",
            "_view_module_version": "^0.5.34",
            "_view_name": "Axis",
            "color": null,
            "grid_color": null,
            "grid_lines": "solid",
            "label": "",
            "label_color": null,
            "label_location": "middle",
            "label_offset": null,
            "num_ticks": null,
            "offset": {},
            "orientation": "horizontal",
            "scale": "IPY_MODEL_9cdd349e1f0341fea7700c95f1dba281",
            "side": "bottom",
            "tick_format": null,
            "tick_rotate": 0,
            "tick_style": {},
            "tick_values": null,
            "visible": true
          }
        },
        "eab914b0eb3f495d9f69cfe754891b3e": {
          "model_module": "bqplot",
          "model_name": "AxisModel",
          "model_module_version": "^0.5.34",
          "state": {
            "_model_module": "bqplot",
            "_model_module_version": "^0.5.34",
            "_model_name": "AxisModel",
            "_view_count": null,
            "_view_module": "bqplot",
            "_view_module_version": "^0.5.34",
            "_view_name": "Axis",
            "color": null,
            "grid_color": null,
            "grid_lines": "solid",
            "label": "",
            "label_color": null,
            "label_location": "middle",
            "label_offset": null,
            "num_ticks": null,
            "offset": {},
            "orientation": "vertical",
            "scale": "IPY_MODEL_24ef5f3c95f7412884d8e4c44fc7d9c3",
            "side": "left",
            "tick_format": null,
            "tick_rotate": 0,
            "tick_style": {},
            "tick_values": null,
            "visible": true
          }
        },
        "3bc8da07097f46b88de3439aa6c7e950": {
          "model_module": "@jupyter-widgets/base",
          "model_name": "LayoutModel",
          "model_module_version": "1.2.0",
          "state": {
            "_model_module": "@jupyter-widgets/base",
            "_model_module_version": "1.2.0",
            "_model_name": "LayoutModel",
            "_view_count": null,
            "_view_module": "@jupyter-widgets/base",
            "_view_module_version": "1.2.0",
            "_view_name": "LayoutView",
            "align_content": null,
            "align_items": null,
            "align_self": null,
            "border": null,
            "bottom": null,
            "display": null,
            "flex": null,
            "flex_flow": null,
            "grid_area": null,
            "grid_auto_columns": null,
            "grid_auto_flow": null,
            "grid_auto_rows": null,
            "grid_column": null,
            "grid_gap": null,
            "grid_row": null,
            "grid_template_areas": null,
            "grid_template_columns": null,
            "grid_template_rows": null,
            "height": null,
            "justify_content": null,
            "justify_items": null,
            "left": null,
            "margin": null,
            "max_height": null,
            "max_width": null,
            "min_height": null,
            "min_width": null,
            "object_fit": null,
            "object_position": null,
            "order": null,
            "overflow": null,
            "overflow_x": null,
            "overflow_y": null,
            "padding": null,
            "right": null,
            "top": null,
            "visibility": null,
            "width": null
          }
        },
        "1649b28be641427a8090d323958cf9bb": {
          "model_module": "bqplot",
          "model_name": "BarsModel",
          "model_module_version": "^0.5.34",
          "state": {
            "_model_module": "bqplot",
            "_model_module_version": "^0.5.34",
            "_model_name": "BarsModel",
            "_view_count": null,
            "_view_module": "bqplot",
            "_view_module_version": "^0.5.34",
            "_view_name": "Bars",
            "align": "center",
            "apply_clip": true,
            "base": 0,
            "color": null,
            "color_mode": "auto",
            "colors": [
              "steelblue"
            ],
            "display_legend": false,
            "enable_hover": true,
            "fill": true,
            "interactions": {
              "hover": "tooltip"
            },
            "label_display": false,
            "label_display_format": ".2f",
            "label_display_horizontal_offset": 0,
            "label_display_vertical_offset": 0,
            "label_font_style": {},
            "labels": [],
            "opacities": [],
            "opacity_mode": "auto",
            "orientation": "vertical",
            "padding": 0.2,
            "preserve_domain": {},
            "scales": {
              "x": "IPY_MODEL_9cdd349e1f0341fea7700c95f1dba281",
              "y": "IPY_MODEL_24ef5f3c95f7412884d8e4c44fc7d9c3"
            },
            "scales_metadata": {
              "x": {
                "orientation": "horizontal",
                "dimension": "x"
              },
              "y": {
                "orientation": "vertical",
                "dimension": "y"
              },
              "color": {
                "dimension": "color"
              }
            },
            "selected": null,
            "selected_style": {},
            "stroke": null,
            "stroke_width": 1,
            "tooltip": null,
            "tooltip_location": "mouse",
            "tooltip_style": {
              "opacity": 0.9
            },
            "type": "grouped",
            "unselected_style": {},
            "visible": true,
            "x": [
              "A",
              "B",
              "C",
              "D",
              "E",
              "F",
              "G",
              "H",
              "I",
              "J"
            ],
            "y": {
              "dtype": "float64",
              "shape": [
                2,
                10
              ],
              "type": null
            }
          }
        },
        "2f355782d241459eb42b5f5fcdb5fe68": {
          "model_module": "bqplot",
          "model_name": "LinearScaleModel",
          "model_module_version": "^0.5.34",
          "state": {
            "_model_module": "bqplot",
            "_model_module_version": "^0.5.34",
            "_model_name": "LinearScaleModel",
            "_view_count": null,
            "_view_module": "bqplot",
            "_view_module_version": "^0.5.34",
            "_view_name": "LinearScale",
            "allow_padding": false,
            "max": 1,
            "mid_range": 0.8,
            "min": 0,
            "min_range": 0.6,
            "reverse": false,
            "stabilized": false
          }
        },
        "6d583488a82a4d218e6374fa1c014e49": {
          "model_module": "bqplot",
          "model_name": "LinearScaleModel",
          "model_module_version": "^0.5.34",
          "state": {
            "_model_module": "bqplot",
            "_model_module_version": "^0.5.34",
            "_model_name": "LinearScaleModel",
            "_view_count": null,
            "_view_module": "bqplot",
            "_view_module_version": "^0.5.34",
            "_view_name": "LinearScale",
            "allow_padding": false,
            "max": 1,
            "mid_range": 0.8,
            "min": 0,
            "min_range": 0.6,
            "reverse": false,
            "stabilized": false
          }
        },
        "9cdd349e1f0341fea7700c95f1dba281": {
          "model_module": "bqplot",
          "model_name": "OrdinalScaleModel",
          "model_module_version": "^0.5.34",
          "state": {
            "_model_module": "bqplot",
            "_model_module_version": "^0.5.34",
            "_model_name": "OrdinalScaleModel",
            "_view_count": null,
            "_view_module": "bqplot",
            "_view_module_version": "^0.5.34",
            "_view_name": "OrdinalScale",
            "allow_padding": true,
            "domain": [],
            "reverse": false
          }
        },
        "24ef5f3c95f7412884d8e4c44fc7d9c3": {
          "model_module": "bqplot",
          "model_name": "LinearScaleModel",
          "model_module_version": "^0.5.34",
          "state": {
            "_model_module": "bqplot",
            "_model_module_version": "^0.5.34",
            "_model_name": "LinearScaleModel",
            "_view_count": null,
            "_view_module": "bqplot",
            "_view_module_version": "^0.5.34",
            "_view_name": "LinearScale",
            "allow_padding": true,
            "max": null,
            "mid_range": 0.8,
            "min": null,
            "min_range": 0.6,
            "reverse": false,
            "stabilized": false
          }
        },
        "f7cf3a302bef4ccab6f83a10c509f5ce": {
          "model_module": "bqplot",
          "model_name": "FigureModel",
          "model_module_version": "^0.5.34",
          "state": {
            "_dom_classes": [],
            "_model_module": "bqplot",
            "_model_module_version": "^0.5.34",
            "_model_name": "FigureModel",
            "_view_count": null,
            "_view_module": "bqplot",
            "_view_module_version": "^0.5.34",
            "_view_name": "Figure",
            "animation_duration": 1000,
            "axes": [
              "IPY_MODEL_b5a041c813d8439b9b2a10a8fd708df6",
              "IPY_MODEL_3b11e09bebfa4bd2955f5646ca1cf57d",
              "IPY_MODEL_416c674b9c314c56ba982686ddf0cc23"
            ],
            "background_style": {},
            "fig_margin": {
              "top": 60,
              "bottom": 60,
              "left": 60,
              "right": 60
            },
            "interaction": null,
            "layout": "IPY_MODEL_083a93fd44654a60823d68e38aae582e",
            "legend_location": "top-right",
            "legend_style": {},
            "legend_text": {},
            "marks": [
              "IPY_MODEL_3cbac07ecb4a4e9ca5322a053d5b83dc",
              "IPY_MODEL_5f699b9e00d147949bcd7b12ccfe42f3"
            ],
            "max_aspect_ratio": 100,
            "min_aspect_ratio": 0.01,
            "padding_x": 0,
            "padding_y": 0.025,
            "pixel_ratio": null,
            "scale_x": "IPY_MODEL_361d49e4b7f140aab3d921d6fbed7570",
            "scale_y": "IPY_MODEL_ca1abf8d582e424289dcbd7fda64694e",
            "theme": "classic",
            "title": "",
            "title_style": {}
          }
        },
        "b5a041c813d8439b9b2a10a8fd708df6": {
          "model_module": "bqplot",
          "model_name": "AxisModel",
          "model_module_version": "^0.5.34",
          "state": {
            "_model_module": "bqplot",
            "_model_module_version": "^0.5.34",
            "_model_name": "AxisModel",
            "_view_count": null,
            "_view_module": "bqplot",
            "_view_module_version": "^0.5.34",
            "_view_name": "Axis",
            "color": null,
            "grid_color": null,
            "grid_lines": "solid",
            "label": "x",
            "label_color": null,
            "label_location": "middle",
            "label_offset": null,
            "num_ticks": null,
            "offset": {},
            "orientation": "horizontal",
            "scale": "IPY_MODEL_649c2eaab5a94ff39cd37e1d48db7b04",
            "side": "bottom",
            "tick_format": null,
            "tick_rotate": 0,
            "tick_style": {},
            "tick_values": null,
            "visible": true
          }
        },
        "3b11e09bebfa4bd2955f5646ca1cf57d": {
          "model_module": "bqplot",
          "model_name": "AxisModel",
          "model_module_version": "^0.5.34",
          "state": {
            "_model_module": "bqplot",
            "_model_module_version": "^0.5.34",
            "_model_name": "AxisModel",
            "_view_count": null,
            "_view_module": "bqplot",
            "_view_module_version": "^0.5.34",
            "_view_name": "Axis",
            "color": null,
            "grid_color": null,
            "grid_lines": "solid",
            "label": "y",
            "label_color": null,
            "label_location": "middle",
            "label_offset": null,
            "num_ticks": null,
            "offset": {},
            "orientation": "vertical",
            "scale": "IPY_MODEL_8377cb1e2d60460e8dba6e48c5712d52",
            "side": "left",
            "tick_format": "0.1f",
            "tick_rotate": 0,
            "tick_style": {},
            "tick_values": null,
            "visible": true
          }
        },
        "416c674b9c314c56ba982686ddf0cc23": {
          "model_module": "bqplot",
          "model_name": "AxisModel",
          "model_module_version": "^0.5.34",
          "state": {
            "_model_module": "bqplot",
            "_model_module_version": "^0.5.34",
            "_model_name": "AxisModel",
            "_view_count": null,
            "_view_module": "bqplot",
            "_view_module_version": "^0.5.34",
            "_view_name": "Axis",
            "color": null,
            "grid_color": null,
            "grid_lines": "none",
            "label": "y1",
            "label_color": null,
            "label_location": "middle",
            "label_offset": null,
            "num_ticks": null,
            "offset": {},
            "orientation": "vertical",
            "scale": "IPY_MODEL_22e9414254954048b1a86af1f491d2ee",
            "side": "right",
            "tick_format": "0.0%",
            "tick_rotate": 0,
            "tick_style": {},
            "tick_values": null,
            "visible": true
          }
        },
        "083a93fd44654a60823d68e38aae582e": {
          "model_module": "@jupyter-widgets/base",
          "model_name": "LayoutModel",
          "model_module_version": "1.2.0",
          "state": {
            "_model_module": "@jupyter-widgets/base",
            "_model_module_version": "1.2.0",
            "_model_name": "LayoutModel",
            "_view_count": null,
            "_view_module": "@jupyter-widgets/base",
            "_view_module_version": "1.2.0",
            "_view_name": "LayoutView",
            "align_content": null,
            "align_items": null,
            "align_self": null,
            "border": null,
            "bottom": null,
            "display": null,
            "flex": null,
            "flex_flow": null,
            "grid_area": null,
            "grid_auto_columns": null,
            "grid_auto_flow": null,
            "grid_auto_rows": null,
            "grid_column": null,
            "grid_gap": null,
            "grid_row": null,
            "grid_template_areas": null,
            "grid_template_columns": null,
            "grid_template_rows": null,
            "height": null,
            "justify_content": null,
            "justify_items": null,
            "left": null,
            "margin": null,
            "max_height": null,
            "max_width": null,
            "min_height": null,
            "min_width": null,
            "object_fit": null,
            "object_position": null,
            "order": null,
            "overflow": null,
            "overflow_x": null,
            "overflow_y": null,
            "padding": null,
            "right": null,
            "top": null,
            "visibility": null,
            "width": null
          }
        },
        "3cbac07ecb4a4e9ca5322a053d5b83dc": {
          "model_module": "bqplot",
          "model_name": "BarsModel",
          "model_module_version": "^0.5.34",
          "state": {
            "_model_module": "bqplot",
            "_model_module_version": "^0.5.34",
            "_model_name": "BarsModel",
            "_view_count": null,
            "_view_module": "bqplot",
            "_view_module_version": "^0.5.34",
            "_view_name": "Bars",
            "align": "center",
            "apply_clip": true,
            "base": 0,
            "color": null,
            "color_mode": "auto",
            "colors": [
              "steelblue"
            ],
            "display_legend": false,
            "enable_hover": true,
            "fill": true,
            "interactions": {
              "hover": "tooltip"
            },
            "label_display": false,
            "label_display_format": ".2f",
            "label_display_horizontal_offset": 0,
            "label_display_vertical_offset": 0,
            "label_font_style": {},
            "labels": [],
            "opacities": [],
            "opacity_mode": "auto",
            "orientation": "vertical",
            "padding": 0.05,
            "preserve_domain": {},
            "scales": {
              "x": "IPY_MODEL_649c2eaab5a94ff39cd37e1d48db7b04",
              "y": "IPY_MODEL_22e9414254954048b1a86af1f491d2ee"
            },
            "scales_metadata": {
              "x": {
                "orientation": "horizontal",
                "dimension": "x"
              },
              "y": {
                "orientation": "vertical",
                "dimension": "y"
              },
              "color": {
                "dimension": "color"
              }
            },
            "selected": null,
            "selected_style": {},
            "stroke": null,
            "stroke_width": 1,
            "tooltip": null,
            "tooltip_location": "mouse",
            "tooltip_style": {
              "opacity": 0.9
            },
            "type": "stacked",
            "unselected_style": {},
            "visible": true,
            "x": {
              "dtype": "int32",
              "shape": [
                20
              ],
              "type": null
            },
            "y": {
              "dtype": "float64",
              "shape": [
                20
              ],
              "type": null
            }
          }
        },
        "5f699b9e00d147949bcd7b12ccfe42f3": {
          "model_module": "bqplot",
          "model_name": "LinesModel",
          "model_module_version": "^0.5.34",
          "state": {
            "_model_module": "bqplot",
            "_model_module_version": "^0.5.34",
            "_model_name": "LinesModel",
            "_view_count": null,
            "_view_module": "bqplot",
            "_view_module_version": "^0.5.34",
            "_view_name": "Lines",
            "apply_clip": true,
            "close_path": false,
            "color": null,
            "colors": [
              "magenta"
            ],
            "curves_subset": [],
            "display_legend": false,
            "enable_hover": true,
            "fill": "none",
            "fill_colors": [],
            "fill_opacities": [],
            "interactions": {
              "hover": "tooltip"
            },
            "interpolation": "linear",
            "labels": [],
            "labels_visibility": "none",
            "line_style": "solid",
            "marker": "square",
            "marker_size": 64,
            "opacities": [],
            "preserve_domain": {},
            "scales": {
              "x": "IPY_MODEL_649c2eaab5a94ff39cd37e1d48db7b04",
              "y": "IPY_MODEL_8377cb1e2d60460e8dba6e48c5712d52"
            },
            "scales_metadata": {
              "x": {
                "orientation": "horizontal",
                "dimension": "x"
              },
              "y": {
                "orientation": "vertical",
                "dimension": "y"
              },
              "color": {
                "dimension": "color"
              }
            },
            "selected": null,
            "selected_style": {},
            "stroke_width": 2,
            "tooltip": null,
            "tooltip_location": "mouse",
            "tooltip_style": {
              "opacity": 0.9
            },
            "unselected_style": {},
            "visible": true,
            "x": {
              "dtype": "int32",
              "shape": [
                20
              ],
              "type": null
            },
            "y": {
              "dtype": "float64",
              "shape": [
                20
              ],
              "type": null
            }
          }
        },
        "361d49e4b7f140aab3d921d6fbed7570": {
          "model_module": "bqplot",
          "model_name": "LinearScaleModel",
          "model_module_version": "^0.5.34",
          "state": {
            "_model_module": "bqplot",
            "_model_module_version": "^0.5.34",
            "_model_name": "LinearScaleModel",
            "_view_count": null,
            "_view_module": "bqplot",
            "_view_module_version": "^0.5.34",
            "_view_name": "LinearScale",
            "allow_padding": false,
            "max": 1,
            "mid_range": 0.8,
            "min": 0,
            "min_range": 0.6,
            "reverse": false,
            "stabilized": false
          }
        },
        "ca1abf8d582e424289dcbd7fda64694e": {
          "model_module": "bqplot",
          "model_name": "LinearScaleModel",
          "model_module_version": "^0.5.34",
          "state": {
            "_model_module": "bqplot",
            "_model_module_version": "^0.5.34",
            "_model_name": "LinearScaleModel",
            "_view_count": null,
            "_view_module": "bqplot",
            "_view_module_version": "^0.5.34",
            "_view_name": "LinearScale",
            "allow_padding": false,
            "max": 1,
            "mid_range": 0.8,
            "min": 0,
            "min_range": 0.6,
            "reverse": false,
            "stabilized": false
          }
        },
        "649c2eaab5a94ff39cd37e1d48db7b04": {
          "model_module": "bqplot",
          "model_name": "LinearScaleModel",
          "model_module_version": "^0.5.34",
          "state": {
            "_model_module": "bqplot",
            "_model_module_version": "^0.5.34",
            "_model_name": "LinearScaleModel",
            "_view_count": null,
            "_view_module": "bqplot",
            "_view_module_version": "^0.5.34",
            "_view_name": "LinearScale",
            "allow_padding": true,
            "max": null,
            "mid_range": 0.8,
            "min": null,
            "min_range": 0.6,
            "reverse": false,
            "stabilized": false
          }
        },
        "8377cb1e2d60460e8dba6e48c5712d52": {
          "model_module": "bqplot",
          "model_name": "LinearScaleModel",
          "model_module_version": "^0.5.34",
          "state": {
            "_model_module": "bqplot",
            "_model_module_version": "^0.5.34",
            "_model_name": "LinearScaleModel",
            "_view_count": null,
            "_view_module": "bqplot",
            "_view_module_version": "^0.5.34",
            "_view_name": "LinearScale",
            "allow_padding": true,
            "max": null,
            "mid_range": 0.8,
            "min": null,
            "min_range": 0.6,
            "reverse": false,
            "stabilized": false
          }
        },
        "22e9414254954048b1a86af1f491d2ee": {
          "model_module": "bqplot",
          "model_name": "LinearScaleModel",
          "model_module_version": "^0.5.34",
          "state": {
            "_model_module": "bqplot",
            "_model_module_version": "^0.5.34",
            "_model_name": "LinearScaleModel",
            "_view_count": null,
            "_view_module": "bqplot",
            "_view_module_version": "^0.5.34",
            "_view_name": "LinearScale",
            "allow_padding": true,
            "max": null,
            "mid_range": 0.8,
            "min": null,
            "min_range": 0.6,
            "reverse": false,
            "stabilized": false
          }
        }
      }
    }
  },
  "cells": [
    {
      "cell_type": "code",
      "execution_count": null,
      "metadata": {
        "id": "B3yZc7DBrGt5"
      },
      "outputs": [],
      "source": [
        "import ipywidgets as widgets"
      ]
    },
    {
      "cell_type": "code",
      "source": [
        "widgets.IntSlider()"
      ],
      "metadata": {
        "colab": {
          "base_uri": "https://localhost:8080/",
          "height": 49,
          "referenced_widgets": [
            "93dac521fbf94f119849644b00574849",
            "6594307b51f64173bb08a4082e81b68a",
            "3eeeda6b570946e0ab5f9f1725ac395f"
          ]
        },
        "id": "fN0TsH8XrMBR",
        "outputId": "95d4e25d-d19d-478a-ab42-8563278bf12f"
      },
      "execution_count": null,
      "outputs": [
        {
          "output_type": "display_data",
          "data": {
            "text/plain": [
              "IntSlider(value=0)"
            ],
            "application/vnd.jupyter.widget-view+json": {
              "version_major": 2,
              "version_minor": 0,
              "model_id": "93dac521fbf94f119849644b00574849"
            }
          },
          "metadata": {
            "application/vnd.jupyter.widget-view+json": {
              "colab": {
                "custom_widget_manager": {
                  "url": "https://ssl.gstatic.com/colaboratory-static/widgets/colab-cdn-widget-manager/a8874ba6619b6106/manager.min.js"
                }
              }
            }
          }
        }
      ]
    },
    {
      "cell_type": "code",
      "source": [
        "from google.colab import output\n",
        "output.enable_custom_widget_manager()"
      ],
      "metadata": {
        "id": "i9-ixOvUurSR"
      },
      "execution_count": null,
      "outputs": []
    },
    {
      "cell_type": "code",
      "source": [
        "!pip install bqplot"
      ],
      "metadata": {
        "colab": {
          "base_uri": "https://localhost:8080/"
        },
        "id": "_usMvyG9tP9A",
        "outputId": "ebd023cf-c1a0-44f4-b08a-d76dea6c03e4"
      },
      "execution_count": null,
      "outputs": [
        {
          "output_type": "stream",
          "name": "stdout",
          "text": [
            "Requirement already satisfied: bqplot in /usr/local/lib/python3.7/dist-packages (0.12.33)\n",
            "Requirement already satisfied: ipywidgets>=7.5.0 in /usr/local/lib/python3.7/dist-packages (from bqplot) (7.7.0)\n",
            "Requirement already satisfied: traittypes>=0.0.6 in /usr/local/lib/python3.7/dist-packages (from bqplot) (0.2.1)\n",
            "Requirement already satisfied: numpy<2.0.0,>=1.10.4 in /usr/local/lib/python3.7/dist-packages (from bqplot) (1.21.5)\n",
            "Requirement already satisfied: traitlets>=4.3.0 in /usr/local/lib/python3.7/dist-packages (from bqplot) (5.1.1)\n",
            "Requirement already satisfied: pandas<2.0.0,>=1.0.0 in /usr/local/lib/python3.7/dist-packages (from bqplot) (1.3.5)\n",
            "Requirement already satisfied: ipython>=4.0.0 in /usr/local/lib/python3.7/dist-packages (from ipywidgets>=7.5.0->bqplot) (5.5.0)\n",
            "Requirement already satisfied: ipython-genutils~=0.2.0 in /usr/local/lib/python3.7/dist-packages (from ipywidgets>=7.5.0->bqplot) (0.2.0)\n",
            "Requirement already satisfied: jupyterlab-widgets>=1.0.0 in /usr/local/lib/python3.7/dist-packages (from ipywidgets>=7.5.0->bqplot) (1.1.0)\n",
            "Requirement already satisfied: nbformat>=4.2.0 in /usr/local/lib/python3.7/dist-packages (from ipywidgets>=7.5.0->bqplot) (5.3.0)\n",
            "Requirement already satisfied: widgetsnbextension~=3.6.0 in /usr/local/lib/python3.7/dist-packages (from ipywidgets>=7.5.0->bqplot) (3.6.0)\n",
            "Requirement already satisfied: ipykernel>=4.5.1 in /usr/local/lib/python3.7/dist-packages (from ipywidgets>=7.5.0->bqplot) (4.10.1)\n",
            "Requirement already satisfied: jupyter-client in /usr/local/lib/python3.7/dist-packages (from ipykernel>=4.5.1->ipywidgets>=7.5.0->bqplot) (5.3.5)\n",
            "Requirement already satisfied: tornado>=4.0 in /usr/local/lib/python3.7/dist-packages (from ipykernel>=4.5.1->ipywidgets>=7.5.0->bqplot) (5.1.1)\n",
            "Requirement already satisfied: setuptools>=18.5 in /usr/local/lib/python3.7/dist-packages (from ipython>=4.0.0->ipywidgets>=7.5.0->bqplot) (57.4.0)\n",
            "Requirement already satisfied: prompt-toolkit<2.0.0,>=1.0.4 in /usr/local/lib/python3.7/dist-packages (from ipython>=4.0.0->ipywidgets>=7.5.0->bqplot) (1.0.18)\n",
            "Requirement already satisfied: pexpect in /usr/local/lib/python3.7/dist-packages (from ipython>=4.0.0->ipywidgets>=7.5.0->bqplot) (4.8.0)\n",
            "Requirement already satisfied: decorator in /usr/local/lib/python3.7/dist-packages (from ipython>=4.0.0->ipywidgets>=7.5.0->bqplot) (4.4.2)\n",
            "Requirement already satisfied: pickleshare in /usr/local/lib/python3.7/dist-packages (from ipython>=4.0.0->ipywidgets>=7.5.0->bqplot) (0.7.5)\n",
            "Requirement already satisfied: pygments in /usr/local/lib/python3.7/dist-packages (from ipython>=4.0.0->ipywidgets>=7.5.0->bqplot) (2.6.1)\n",
            "Requirement already satisfied: simplegeneric>0.8 in /usr/local/lib/python3.7/dist-packages (from ipython>=4.0.0->ipywidgets>=7.5.0->bqplot) (0.8.1)\n",
            "Requirement already satisfied: jupyter-core in /usr/local/lib/python3.7/dist-packages (from nbformat>=4.2.0->ipywidgets>=7.5.0->bqplot) (4.9.2)\n",
            "Requirement already satisfied: jsonschema>=2.6 in /usr/local/lib/python3.7/dist-packages (from nbformat>=4.2.0->ipywidgets>=7.5.0->bqplot) (4.3.3)\n",
            "Requirement already satisfied: fastjsonschema in /usr/local/lib/python3.7/dist-packages (from nbformat>=4.2.0->ipywidgets>=7.5.0->bqplot) (2.15.3)\n",
            "Requirement already satisfied: importlib-metadata in /usr/local/lib/python3.7/dist-packages (from jsonschema>=2.6->nbformat>=4.2.0->ipywidgets>=7.5.0->bqplot) (4.11.3)\n",
            "Requirement already satisfied: pyrsistent!=0.17.0,!=0.17.1,!=0.17.2,>=0.14.0 in /usr/local/lib/python3.7/dist-packages (from jsonschema>=2.6->nbformat>=4.2.0->ipywidgets>=7.5.0->bqplot) (0.18.1)\n",
            "Requirement already satisfied: typing-extensions in /usr/local/lib/python3.7/dist-packages (from jsonschema>=2.6->nbformat>=4.2.0->ipywidgets>=7.5.0->bqplot) (4.1.1)\n",
            "Requirement already satisfied: attrs>=17.4.0 in /usr/local/lib/python3.7/dist-packages (from jsonschema>=2.6->nbformat>=4.2.0->ipywidgets>=7.5.0->bqplot) (21.4.0)\n",
            "Requirement already satisfied: importlib-resources>=1.4.0 in /usr/local/lib/python3.7/dist-packages (from jsonschema>=2.6->nbformat>=4.2.0->ipywidgets>=7.5.0->bqplot) (5.6.0)\n",
            "Requirement already satisfied: zipp>=3.1.0 in /usr/local/lib/python3.7/dist-packages (from importlib-resources>=1.4.0->jsonschema>=2.6->nbformat>=4.2.0->ipywidgets>=7.5.0->bqplot) (3.8.0)\n",
            "Requirement already satisfied: pytz>=2017.3 in /usr/local/lib/python3.7/dist-packages (from pandas<2.0.0,>=1.0.0->bqplot) (2018.9)\n",
            "Requirement already satisfied: python-dateutil>=2.7.3 in /usr/local/lib/python3.7/dist-packages (from pandas<2.0.0,>=1.0.0->bqplot) (2.8.2)\n",
            "Requirement already satisfied: six>=1.9.0 in /usr/local/lib/python3.7/dist-packages (from prompt-toolkit<2.0.0,>=1.0.4->ipython>=4.0.0->ipywidgets>=7.5.0->bqplot) (1.15.0)\n",
            "Requirement already satisfied: wcwidth in /usr/local/lib/python3.7/dist-packages (from prompt-toolkit<2.0.0,>=1.0.4->ipython>=4.0.0->ipywidgets>=7.5.0->bqplot) (0.2.5)\n",
            "Requirement already satisfied: notebook>=4.4.1 in /usr/local/lib/python3.7/dist-packages (from widgetsnbextension~=3.6.0->ipywidgets>=7.5.0->bqplot) (5.3.1)\n",
            "Requirement already satisfied: Send2Trash in /usr/local/lib/python3.7/dist-packages (from notebook>=4.4.1->widgetsnbextension~=3.6.0->ipywidgets>=7.5.0->bqplot) (1.8.0)\n",
            "Requirement already satisfied: terminado>=0.8.1 in /usr/local/lib/python3.7/dist-packages (from notebook>=4.4.1->widgetsnbextension~=3.6.0->ipywidgets>=7.5.0->bqplot) (0.13.3)\n",
            "Requirement already satisfied: jinja2 in /usr/local/lib/python3.7/dist-packages (from notebook>=4.4.1->widgetsnbextension~=3.6.0->ipywidgets>=7.5.0->bqplot) (2.11.3)\n",
            "Requirement already satisfied: nbconvert in /usr/local/lib/python3.7/dist-packages (from notebook>=4.4.1->widgetsnbextension~=3.6.0->ipywidgets>=7.5.0->bqplot) (5.6.1)\n",
            "Requirement already satisfied: pyzmq>=13 in /usr/local/lib/python3.7/dist-packages (from jupyter-client->ipykernel>=4.5.1->ipywidgets>=7.5.0->bqplot) (22.3.0)\n",
            "Requirement already satisfied: ptyprocess in /usr/local/lib/python3.7/dist-packages (from terminado>=0.8.1->notebook>=4.4.1->widgetsnbextension~=3.6.0->ipywidgets>=7.5.0->bqplot) (0.7.0)\n",
            "Requirement already satisfied: MarkupSafe>=0.23 in /usr/local/lib/python3.7/dist-packages (from jinja2->notebook>=4.4.1->widgetsnbextension~=3.6.0->ipywidgets>=7.5.0->bqplot) (2.0.1)\n",
            "Requirement already satisfied: mistune<2,>=0.8.1 in /usr/local/lib/python3.7/dist-packages (from nbconvert->notebook>=4.4.1->widgetsnbextension~=3.6.0->ipywidgets>=7.5.0->bqplot) (0.8.4)\n",
            "Requirement already satisfied: pandocfilters>=1.4.1 in /usr/local/lib/python3.7/dist-packages (from nbconvert->notebook>=4.4.1->widgetsnbextension~=3.6.0->ipywidgets>=7.5.0->bqplot) (1.5.0)\n",
            "Requirement already satisfied: defusedxml in /usr/local/lib/python3.7/dist-packages (from nbconvert->notebook>=4.4.1->widgetsnbextension~=3.6.0->ipywidgets>=7.5.0->bqplot) (0.7.1)\n",
            "Requirement already satisfied: entrypoints>=0.2.2 in /usr/local/lib/python3.7/dist-packages (from nbconvert->notebook>=4.4.1->widgetsnbextension~=3.6.0->ipywidgets>=7.5.0->bqplot) (0.4)\n",
            "Requirement already satisfied: bleach in /usr/local/lib/python3.7/dist-packages (from nbconvert->notebook>=4.4.1->widgetsnbextension~=3.6.0->ipywidgets>=7.5.0->bqplot) (5.0.0)\n",
            "Requirement already satisfied: testpath in /usr/local/lib/python3.7/dist-packages (from nbconvert->notebook>=4.4.1->widgetsnbextension~=3.6.0->ipywidgets>=7.5.0->bqplot) (0.6.0)\n",
            "Requirement already satisfied: webencodings in /usr/local/lib/python3.7/dist-packages (from bleach->nbconvert->notebook>=4.4.1->widgetsnbextension~=3.6.0->ipywidgets>=7.5.0->bqplot) (0.5.1)\n"
          ]
        }
      ]
    },
    {
      "cell_type": "code",
      "source": [
        "import numpy as np\n",
        "import bqplot.pyplot as plt\n",
        "from bqplot import LinearScale, Axis, Lines, Bars, Figure"
      ],
      "metadata": {
        "id": "WIfsu8yEtwdf"
      },
      "execution_count": null,
      "outputs": []
    },
    {
      "cell_type": "code",
      "source": [
        "axes_options = {\"x\": {\"label\": \"x\"}, \"y\": {\"label\": \"y\"}}"
      ],
      "metadata": {
        "id": "jxPNalKgtzNA"
      },
      "execution_count": null,
      "outputs": []
    },
    {
      "cell_type": "code",
      "source": [
        "x = np.arange(100)\n",
        "y = np.cumsum(np.random.randn(2, 100), axis=1)  # two random walks\n",
        "\n",
        "fig = plt.figure(animation_duration=1000)\n",
        "lines = plt.plot(x=x, y=y, colors=[\"red\", \"green\"], axes_options=axes_options)\n",
        "fig"
      ],
      "metadata": {
        "colab": {
          "base_uri": "https://localhost:8080/",
          "height": 17,
          "referenced_widgets": [
            "cd6414b973924b138138c31ec1f9ae6c",
            "58f701c5c07b4d6980837a366959964b",
            "351cb354c18a42b1a26706f4df8e72ae",
            "d1f5046a3ca74e86863a71f6228ff138",
            "0c9f5406fcf64070abadedf691c5c7b3",
            "980f41eb336749a6b83c09b45b36d276",
            "7a9c9246c7bb49faa55c24e3c1a5095e",
            "3f747d339c9c41e5a1c492d81a1c7c10",
            "e8f535df943a4cfa914eeb9ad4332dda"
          ]
        },
        "id": "3tawIbpqt1qT",
        "outputId": "3db432f1-4c67-4c9d-b72e-f27f084074eb"
      },
      "execution_count": null,
      "outputs": [
        {
          "output_type": "display_data",
          "data": {
            "text/plain": [
              "Figure(animation_duration=1000, axes=[Axis(label='x', scale=LinearScale()), Axis(label='y', orientation='verti…"
            ],
            "application/vnd.jupyter.widget-view+json": {
              "version_major": 2,
              "version_minor": 0,
              "model_id": "cd6414b973924b138138c31ec1f9ae6c"
            }
          },
          "metadata": {
            "application/vnd.jupyter.widget-view+json": {
              "colab": {
                "custom_widget_manager": {
                  "url": "https://ssl.gstatic.com/colaboratory-static/widgets/colab-cdn-widget-manager/a8874ba6619b6106/manager.min.js"
                }
              }
            }
          }
        }
      ]
    },
    {
      "cell_type": "code",
      "source": [
        "# update data of the line mark\n",
        "lines.y = np.cumsum(np.random.randn(2, 100), axis=1)"
      ],
      "metadata": {
        "id": "5UoCLszguA4R"
      },
      "execution_count": null,
      "outputs": []
    },
    {
      "cell_type": "code",
      "source": [
        "fig = plt.figure(animation_duration=1000)\n",
        "x, y = np.random.rand(2, 20)\n",
        "scatt = plt.scatter(x, y, colors=[\"blue\"], axes_options=axes_options)\n",
        "fig"
      ],
      "metadata": {
        "colab": {
          "base_uri": "https://localhost:8080/",
          "height": 17,
          "referenced_widgets": [
            "7e18e345640641eab02626c1a36fe373",
            "21379a5ce12e450b8e396dab02ac46cb",
            "880abfc968a442f6ab08166c84352ef6",
            "9203a3bbf20f459d86fe638e8575c4de",
            "af8fa94d249649d783f31cf9801742b9",
            "1b441fb80e74415487173c9c981ece36",
            "9772092283024acf91c0af6f214a4962",
            "3592496f80fb4918bdc429057cf601dd",
            "1ec194a7b7f24a9898439bc9597ffb0b"
          ]
        },
        "id": "sptTsu_FuEz3",
        "outputId": "d06dc322-3126-4a45-8cbc-c8112825eb9f"
      },
      "execution_count": null,
      "outputs": [
        {
          "output_type": "display_data",
          "data": {
            "text/plain": [
              "Figure(animation_duration=1000, axes=[Axis(label='x', scale=LinearScale()), Axis(label='y', orientation='verti…"
            ],
            "application/vnd.jupyter.widget-view+json": {
              "version_major": 2,
              "version_minor": 0,
              "model_id": "7e18e345640641eab02626c1a36fe373"
            }
          },
          "metadata": {
            "application/vnd.jupyter.widget-view+json": {
              "colab": {
                "custom_widget_manager": {
                  "url": "https://ssl.gstatic.com/colaboratory-static/widgets/colab-cdn-widget-manager/a8874ba6619b6106/manager.min.js"
                }
              }
            }
          }
        }
      ]
    },
    {
      "cell_type": "code",
      "source": [
        "# data updates\n",
        "scatt.x = np.random.rand(20) * 10\n",
        "scatt.y = np.random.rand(20)"
      ],
      "metadata": {
        "id": "QoKCgV5VuHty"
      },
      "execution_count": null,
      "outputs": []
    },
    {
      "cell_type": "code",
      "source": [
        "data = np.random.rand(6)\n",
        "\n",
        "fig = plt.figure(animation_duration=1000)\n",
        "pie = plt.pie(\n",
        "    data,\n",
        "    radius=180,\n",
        "    sort=False,\n",
        "    display_labels=\"outside\",\n",
        "    display_values=True,\n",
        "    values_format=\".0%\",\n",
        "    labels=list(\"ABCDEFGHIJ\"),\n",
        ")\n",
        "fig"
      ],
      "metadata": {
        "colab": {
          "base_uri": "https://localhost:8080/",
          "height": 521,
          "referenced_widgets": [
            "d7403d90489c48cfb1ca5fdb3dcf607e",
            "e178b26c5cc548ff8f36be25499282dd",
            "5380c3bbe14043f5be348ba49699db28",
            "986cd5a1447b4b6c9ed92d5fbdfc9777",
            "46f83f0712ff4169b74db8feb205a745"
          ]
        },
        "id": "d-MLU_fnuK0j",
        "outputId": "14663eac-09ca-4d9a-806c-8aa4fb51afc3"
      },
      "execution_count": null,
      "outputs": [
        {
          "output_type": "display_data",
          "data": {
            "text/plain": [
              "Figure(animation_duration=1000, fig_margin={'top': 60, 'bottom': 60, 'left': 60, 'right': 60}, marks=[Pie(colo…"
            ],
            "application/vnd.jupyter.widget-view+json": {
              "version_major": 2,
              "version_minor": 0,
              "model_id": "d7403d90489c48cfb1ca5fdb3dcf607e"
            }
          },
          "metadata": {
            "application/vnd.jupyter.widget-view+json": {
              "colab": {
                "custom_widget_manager": {
                  "url": "https://ssl.gstatic.com/colaboratory-static/widgets/colab-cdn-widget-manager/a8874ba6619b6106/manager.min.js"
                }
              }
            }
          }
        }
      ]
    },
    {
      "cell_type": "code",
      "source": [
        "pie.sizes = np.random.rand(8)"
      ],
      "metadata": {
        "id": "YTbdPQLiuNWb"
      },
      "execution_count": null,
      "outputs": []
    },
    {
      "cell_type": "code",
      "source": [
        "pie.sort = True"
      ],
      "metadata": {
        "id": "yO9k3FT-uP5C"
      },
      "execution_count": null,
      "outputs": []
    },
    {
      "cell_type": "code",
      "source": [
        "# make pie a donut\n",
        "with pie.hold_sync():\n",
        "    pie.radius = 180\n",
        "    pie.inner_radius = 120"
      ],
      "metadata": {
        "id": "iUQwuR0ruS-L"
      },
      "execution_count": null,
      "outputs": []
    },
    {
      "cell_type": "code",
      "source": [
        "n = 10\n",
        "x = list(\"ABCDEFGHIJ\")\n",
        "y1, y2 = np.random.rand(2, n)"
      ],
      "metadata": {
        "id": "BA0oyu_WuVpI"
      },
      "execution_count": null,
      "outputs": []
    },
    {
      "cell_type": "code",
      "source": [
        "fig = plt.figure(animation_duration=1000)\n",
        "bar = plt.bar(x, [y1, y2], padding=0.2, type=\"grouped\")\n",
        "fig"
      ],
      "metadata": {
        "colab": {
          "base_uri": "https://localhost:8080/",
          "height": 521,
          "referenced_widgets": [
            "f8590fe978394a2997e443d99be688f3",
            "318e39f5db38411da50c60f803c703e7",
            "eab914b0eb3f495d9f69cfe754891b3e",
            "3bc8da07097f46b88de3439aa6c7e950",
            "1649b28be641427a8090d323958cf9bb",
            "2f355782d241459eb42b5f5fcdb5fe68",
            "6d583488a82a4d218e6374fa1c014e49",
            "9cdd349e1f0341fea7700c95f1dba281",
            "24ef5f3c95f7412884d8e4c44fc7d9c3"
          ]
        },
        "id": "oXCzict6uYnr",
        "outputId": "4ecfd6eb-5821-4c1f-c114-31876523a9dc"
      },
      "execution_count": null,
      "outputs": [
        {
          "output_type": "display_data",
          "data": {
            "text/plain": [
              "Figure(animation_duration=1000, axes=[Axis(scale=OrdinalScale()), Axis(orientation='vertical', scale=LinearSca…"
            ],
            "application/vnd.jupyter.widget-view+json": {
              "version_major": 2,
              "version_minor": 0,
              "model_id": "f8590fe978394a2997e443d99be688f3"
            }
          },
          "metadata": {
            "application/vnd.jupyter.widget-view+json": {
              "colab": {
                "custom_widget_manager": {
                  "url": "https://ssl.gstatic.com/colaboratory-static/widgets/colab-cdn-widget-manager/a8874ba6619b6106/manager.min.js"
                }
              }
            }
          }
        }
      ]
    },
    {
      "cell_type": "code",
      "source": [
        "y1, y2 = np.random.rand(2, n)\n",
        "bar.y = [y1, y2]"
      ],
      "metadata": {
        "id": "mFbiJeVPubhU"
      },
      "execution_count": null,
      "outputs": []
    },
    {
      "cell_type": "code",
      "source": [
        "xs = LinearScale()\n",
        "ys1 = LinearScale()\n",
        "ys2 = LinearScale()\n",
        "\n",
        "x = np.arange(20)\n",
        "y = np.cumsum(np.random.randn(20))\n",
        "y1 = np.random.rand(20)\n",
        "\n",
        "line = Lines(x=x, y=y, scales={\"x\": xs, \"y\": ys1}, colors=[\"magenta\"], marker=\"square\")\n",
        "bar = Bars(\n",
        "    x=x, y=y1, scales={\"x\": xs, \"y\": ys2}, colorpadding=0.2, colors=[\"steelblue\"]\n",
        ")\n",
        "\n",
        "xax = Axis(scale=xs, label=\"x\", grid_lines=\"solid\")\n",
        "yax1 = Axis(\n",
        "    scale=ys1, orientation=\"vertical\", tick_format=\"0.1f\", label=\"y\", grid_lines=\"solid\"\n",
        ")\n",
        "yax2 = Axis(\n",
        "    scale=ys2,\n",
        "    orientation=\"vertical\",\n",
        "    side=\"right\",\n",
        "    tick_format=\"0.0%\",\n",
        "    label=\"y1\",\n",
        "    grid_lines=\"none\",\n",
        ")\n",
        "\n",
        "Figure(marks=[bar, line], axes=[xax, yax1, yax2], animation_duration=1000)\n"
      ],
      "metadata": {
        "colab": {
          "base_uri": "https://localhost:8080/",
          "height": 17,
          "referenced_widgets": [
            "f7cf3a302bef4ccab6f83a10c509f5ce",
            "b5a041c813d8439b9b2a10a8fd708df6",
            "3b11e09bebfa4bd2955f5646ca1cf57d",
            "416c674b9c314c56ba982686ddf0cc23",
            "083a93fd44654a60823d68e38aae582e",
            "3cbac07ecb4a4e9ca5322a053d5b83dc",
            "5f699b9e00d147949bcd7b12ccfe42f3",
            "361d49e4b7f140aab3d921d6fbed7570",
            "ca1abf8d582e424289dcbd7fda64694e",
            "649c2eaab5a94ff39cd37e1d48db7b04",
            "8377cb1e2d60460e8dba6e48c5712d52",
            "22e9414254954048b1a86af1f491d2ee"
          ]
        },
        "id": "vSqLmBowuhbM",
        "outputId": "3c58b8da-ce02-4aa2-de78-a0f34ac38af3"
      },
      "execution_count": null,
      "outputs": [
        {
          "output_type": "display_data",
          "data": {
            "text/plain": [
              "Figure(animation_duration=1000, axes=[Axis(label='x', scale=LinearScale()), Axis(label='y', orientation='verti…"
            ],
            "application/vnd.jupyter.widget-view+json": {
              "version_major": 2,
              "version_minor": 0,
              "model_id": "f7cf3a302bef4ccab6f83a10c509f5ce"
            }
          },
          "metadata": {
            "application/vnd.jupyter.widget-view+json": {
              "colab": {
                "custom_widget_manager": {
                  "url": "https://ssl.gstatic.com/colaboratory-static/widgets/colab-cdn-widget-manager/a8874ba6619b6106/manager.min.js"
                }
              }
            }
          }
        }
      ]
    },
    {
      "cell_type": "code",
      "source": [
        "# update mark data\n",
        "line.y = np.cumsum(np.random.randn(20))\n",
        "bar.y = np.random.rand(20)"
      ],
      "metadata": {
        "id": "T1YSkz95uj8Q"
      },
      "execution_count": null,
      "outputs": []
    }
  ]
}