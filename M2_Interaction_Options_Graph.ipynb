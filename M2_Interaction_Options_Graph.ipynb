{
  "nbformat": 4,
  "nbformat_minor": 0,
  "metadata": {
    "colab": {
      "name": "Interaction_Options_Graph.ipynb",
      "provenance": []
    },
    "kernelspec": {
      "name": "python3",
      "display_name": "Python 3"
    },
    "language_info": {
      "name": "python"
    },
    "widgets": {
      "application/vnd.jupyter.widget-state+json": {
        "48b98cc0867843429567827070e89014": {
          "model_module": "@jupyter-widgets/controls",
          "model_name": "VBoxModel",
          "model_module_version": "1.5.0",
          "state": {
            "_dom_classes": [],
            "_model_module": "@jupyter-widgets/controls",
            "_model_module_version": "1.5.0",
            "_model_name": "VBoxModel",
            "_view_count": null,
            "_view_module": "@jupyter-widgets/controls",
            "_view_module_version": "1.5.0",
            "_view_name": "VBoxView",
            "box_style": "",
            "children": [
              "IPY_MODEL_4dae9c67d09949e388fe42d1f823e8f3",
              "IPY_MODEL_bdf11c0f222b4e94becff405c585cf29"
            ],
            "layout": "IPY_MODEL_7b943f776aee428ea5658111937b8ac1"
          }
        },
        "4dae9c67d09949e388fe42d1f823e8f3": {
          "model_module": "@jupyter-widgets/controls",
          "model_name": "HTMLModel",
          "model_module_version": "1.5.0",
          "state": {
            "_dom_classes": [],
            "_model_module": "@jupyter-widgets/controls",
            "_model_module_version": "1.5.0",
            "_model_name": "HTMLModel",
            "_view_count": null,
            "_view_module": "@jupyter-widgets/controls",
            "_view_module_version": "1.5.0",
            "_view_name": "HTMLView",
            "description": "",
            "description_tooltip": null,
            "layout": "IPY_MODEL_4a5ba14d38b94fcebc1478dbfa7d1185",
            "placeholder": "​",
            "style": "IPY_MODEL_79ffbd8137e2478a8e34e93b9a58efb3",
            "value": "The selected period is ['2006-12-31T21:08:58.880' '2007-05-15T13:24:08.145']"
          }
        },
        "bdf11c0f222b4e94becff405c585cf29": {
          "model_module": "bqplot",
          "model_name": "FigureModel",
          "model_module_version": "^0.5.34",
          "state": {
            "_dom_classes": [],
            "_model_module": "bqplot",
            "_model_module_version": "^0.5.34",
            "_model_name": "FigureModel",
            "_view_count": null,
            "_view_module": "bqplot",
            "_view_module_version": "^0.5.34",
            "_view_name": "Figure",
            "animation_duration": 0,
            "axes": [
              "IPY_MODEL_43b34772dbf74e78b45c563afa679e66",
              "IPY_MODEL_ec0f3a753449443ead5ac30c773dfdf2"
            ],
            "background_style": {},
            "fig_margin": {
              "top": 60,
              "bottom": 60,
              "left": 60,
              "right": 60
            },
            "interaction": "IPY_MODEL_2c888ae940e74556abe186bbb50682eb",
            "layout": "IPY_MODEL_11fd1e70c7b74853936dae4655d59e35",
            "legend_location": "top-right",
            "legend_style": {},
            "legend_text": {},
            "marks": [
              "IPY_MODEL_d22f866af00042fba246f286c4d258fe",
              "IPY_MODEL_a7bf1623fea14028a5df0e5102aaa905"
            ],
            "max_aspect_ratio": 100,
            "min_aspect_ratio": 0.01,
            "padding_x": 0,
            "padding_y": 0.025,
            "pixel_ratio": null,
            "scale_x": "IPY_MODEL_9b9921787cbf4958a1df47125dc89bd9",
            "scale_y": "IPY_MODEL_9b776f023fd646cb8db2fbc93775e07c",
            "theme": "classic",
            "title": "Fast Interval Selector Example",
            "title_style": {}
          }
        },
        "7b943f776aee428ea5658111937b8ac1": {
          "model_module": "@jupyter-widgets/base",
          "model_name": "LayoutModel",
          "model_module_version": "1.2.0",
          "state": {
            "_model_module": "@jupyter-widgets/base",
            "_model_module_version": "1.2.0",
            "_model_name": "LayoutModel",
            "_view_count": null,
            "_view_module": "@jupyter-widgets/base",
            "_view_module_version": "1.2.0",
            "_view_name": "LayoutView",
            "align_content": null,
            "align_items": null,
            "align_self": null,
            "border": null,
            "bottom": null,
            "display": null,
            "flex": null,
            "flex_flow": null,
            "grid_area": null,
            "grid_auto_columns": null,
            "grid_auto_flow": null,
            "grid_auto_rows": null,
            "grid_column": null,
            "grid_gap": null,
            "grid_row": null,
            "grid_template_areas": null,
            "grid_template_columns": null,
            "grid_template_rows": null,
            "height": null,
            "justify_content": null,
            "justify_items": null,
            "left": null,
            "margin": null,
            "max_height": null,
            "max_width": null,
            "min_height": null,
            "min_width": null,
            "object_fit": null,
            "object_position": null,
            "order": null,
            "overflow": null,
            "overflow_x": null,
            "overflow_y": null,
            "padding": null,
            "right": null,
            "top": null,
            "visibility": null,
            "width": null
          }
        },
        "4a5ba14d38b94fcebc1478dbfa7d1185": {
          "model_module": "@jupyter-widgets/base",
          "model_name": "LayoutModel",
          "model_module_version": "1.2.0",
          "state": {
            "_model_module": "@jupyter-widgets/base",
            "_model_module_version": "1.2.0",
            "_model_name": "LayoutModel",
            "_view_count": null,
            "_view_module": "@jupyter-widgets/base",
            "_view_module_version": "1.2.0",
            "_view_name": "LayoutView",
            "align_content": null,
            "align_items": null,
            "align_self": null,
            "border": null,
            "bottom": null,
            "display": null,
            "flex": null,
            "flex_flow": null,
            "grid_area": null,
            "grid_auto_columns": null,
            "grid_auto_flow": null,
            "grid_auto_rows": null,
            "grid_column": null,
            "grid_gap": null,
            "grid_row": null,
            "grid_template_areas": null,
            "grid_template_columns": null,
            "grid_template_rows": null,
            "height": null,
            "justify_content": null,
            "justify_items": null,
            "left": null,
            "margin": null,
            "max_height": null,
            "max_width": null,
            "min_height": null,
            "min_width": null,
            "object_fit": null,
            "object_position": null,
            "order": null,
            "overflow": null,
            "overflow_x": null,
            "overflow_y": null,
            "padding": null,
            "right": null,
            "top": null,
            "visibility": null,
            "width": null
          }
        },
        "79ffbd8137e2478a8e34e93b9a58efb3": {
          "model_module": "@jupyter-widgets/controls",
          "model_name": "DescriptionStyleModel",
          "model_module_version": "1.5.0",
          "state": {
            "_model_module": "@jupyter-widgets/controls",
            "_model_module_version": "1.5.0",
            "_model_name": "DescriptionStyleModel",
            "_view_count": null,
            "_view_module": "@jupyter-widgets/base",
            "_view_module_version": "1.2.0",
            "_view_name": "StyleView",
            "description_width": ""
          }
        },
        "43b34772dbf74e78b45c563afa679e66": {
          "model_module": "bqplot",
          "model_name": "AxisModel",
          "model_module_version": "^0.5.34",
          "state": {
            "_model_module": "bqplot",
            "_model_module_version": "^0.5.34",
            "_model_name": "AxisModel",
            "_view_count": null,
            "_view_module": "bqplot",
            "_view_module_version": "^0.5.34",
            "_view_name": "Axis",
            "color": null,
            "grid_color": null,
            "grid_lines": "solid",
            "label": "Index",
            "label_color": null,
            "label_location": "middle",
            "label_offset": null,
            "num_ticks": null,
            "offset": {},
            "orientation": "horizontal",
            "scale": "IPY_MODEL_4a1774bf1c3f44678bccd115717ed478",
            "side": "bottom",
            "tick_format": null,
            "tick_rotate": 0,
            "tick_style": {},
            "tick_values": null,
            "visible": true
          }
        },
        "ec0f3a753449443ead5ac30c773dfdf2": {
          "model_module": "bqplot",
          "model_name": "AxisModel",
          "model_module_version": "^0.5.34",
          "state": {
            "_model_module": "bqplot",
            "_model_module_version": "^0.5.34",
            "_model_name": "AxisModel",
            "_view_count": null,
            "_view_module": "bqplot",
            "_view_module_version": "^0.5.34",
            "_view_name": "Axis",
            "color": null,
            "grid_color": null,
            "grid_lines": "solid",
            "label": "Security 1 Price",
            "label_color": null,
            "label_location": "middle",
            "label_offset": null,
            "num_ticks": null,
            "offset": {},
            "orientation": "vertical",
            "scale": "IPY_MODEL_dc72e9448f8a407ea8677118799bdc6f",
            "side": "left",
            "tick_format": null,
            "tick_rotate": 0,
            "tick_style": {},
            "tick_values": null,
            "visible": true
          }
        },
        "2c888ae940e74556abe186bbb50682eb": {
          "model_module": "bqplot",
          "model_name": "FastIntervalSelectorModel",
          "model_module_version": "^0.5.34",
          "state": {
            "_model_module": "bqplot",
            "_model_module_version": "^0.5.34",
            "_model_name": "FastIntervalSelectorModel",
            "_view_count": null,
            "_view_module": "bqplot",
            "_view_module_version": "^0.5.34",
            "_view_name": "FastIntervalSelector",
            "color": null,
            "marks": [
              "IPY_MODEL_d22f866af00042fba246f286c4d258fe",
              "IPY_MODEL_a7bf1623fea14028a5df0e5102aaa905"
            ],
            "scale": "IPY_MODEL_4a1774bf1c3f44678bccd115717ed478",
            "selected": {
              "dtype": "float64",
              "shape": [
                2
              ],
              "type": "date"
            },
            "size": null
          }
        },
        "11fd1e70c7b74853936dae4655d59e35": {
          "model_module": "@jupyter-widgets/base",
          "model_name": "LayoutModel",
          "model_module_version": "1.2.0",
          "state": {
            "_model_module": "@jupyter-widgets/base",
            "_model_module_version": "1.2.0",
            "_model_name": "LayoutModel",
            "_view_count": null,
            "_view_module": "@jupyter-widgets/base",
            "_view_module_version": "1.2.0",
            "_view_name": "LayoutView",
            "align_content": null,
            "align_items": null,
            "align_self": null,
            "border": null,
            "bottom": null,
            "display": null,
            "flex": null,
            "flex_flow": null,
            "grid_area": null,
            "grid_auto_columns": null,
            "grid_auto_flow": null,
            "grid_auto_rows": null,
            "grid_column": null,
            "grid_gap": null,
            "grid_row": null,
            "grid_template_areas": null,
            "grid_template_columns": null,
            "grid_template_rows": null,
            "height": null,
            "justify_content": null,
            "justify_items": null,
            "left": null,
            "margin": null,
            "max_height": null,
            "max_width": null,
            "min_height": null,
            "min_width": null,
            "object_fit": null,
            "object_position": null,
            "order": null,
            "overflow": null,
            "overflow_x": null,
            "overflow_y": null,
            "padding": null,
            "right": null,
            "top": null,
            "visibility": null,
            "width": null
          }
        },
        "d22f866af00042fba246f286c4d258fe": {
          "model_module": "bqplot",
          "model_name": "LinesModel",
          "model_module_version": "^0.5.34",
          "state": {
            "_model_module": "bqplot",
            "_model_module_version": "^0.5.34",
            "_model_name": "LinesModel",
            "_view_count": null,
            "_view_module": "bqplot",
            "_view_module_version": "^0.5.34",
            "_view_name": "Lines",
            "apply_clip": true,
            "close_path": false,
            "color": null,
            "colors": [
              "orange"
            ],
            "curves_subset": [],
            "display_legend": false,
            "enable_hover": true,
            "fill": "none",
            "fill_colors": [],
            "fill_opacities": [],
            "interactions": {
              "hover": "tooltip"
            },
            "interpolation": "linear",
            "labels": [],
            "labels_visibility": "none",
            "line_style": "solid",
            "marker": null,
            "marker_size": 64,
            "opacities": [],
            "preserve_domain": {},
            "scales": {
              "x": "IPY_MODEL_4a1774bf1c3f44678bccd115717ed478",
              "y": "IPY_MODEL_dc72e9448f8a407ea8677118799bdc6f"
            },
            "scales_metadata": {
              "x": {
                "orientation": "horizontal",
                "dimension": "x"
              },
              "y": {
                "orientation": "vertical",
                "dimension": "y"
              },
              "color": {
                "dimension": "color"
              }
            },
            "selected": {
              "dtype": "uint32",
              "shape": [
                135
              ],
              "type": null
            },
            "selected_style": {},
            "stroke_width": 2,
            "tooltip": null,
            "tooltip_location": "mouse",
            "tooltip_style": {
              "opacity": 0.9
            },
            "unselected_style": {},
            "visible": true,
            "x": {
              "dtype": "float64",
              "shape": [
                150
              ],
              "type": "date"
            },
            "y": {
              "dtype": "float64",
              "shape": [
                150
              ],
              "type": null
            }
          }
        },
        "a7bf1623fea14028a5df0e5102aaa905": {
          "model_module": "bqplot",
          "model_name": "LinesModel",
          "model_module_version": "^0.5.34",
          "state": {
            "_model_module": "bqplot",
            "_model_module_version": "^0.5.34",
            "_model_name": "LinesModel",
            "_view_count": null,
            "_view_module": "bqplot",
            "_view_module_version": "^0.5.34",
            "_view_name": "Lines",
            "apply_clip": true,
            "close_path": false,
            "color": null,
            "colors": [
              "blue"
            ],
            "curves_subset": [],
            "display_legend": false,
            "enable_hover": true,
            "fill": "none",
            "fill_colors": [],
            "fill_opacities": [],
            "interactions": {
              "hover": "tooltip"
            },
            "interpolation": "linear",
            "labels": [],
            "labels_visibility": "none",
            "line_style": "solid",
            "marker": null,
            "marker_size": 64,
            "opacities": [],
            "preserve_domain": {},
            "scales": {
              "x": "IPY_MODEL_4a1774bf1c3f44678bccd115717ed478",
              "y": "IPY_MODEL_dc72e9448f8a407ea8677118799bdc6f"
            },
            "scales_metadata": {
              "x": {
                "orientation": "horizontal",
                "dimension": "x"
              },
              "y": {
                "orientation": "vertical",
                "dimension": "y"
              },
              "color": {
                "dimension": "color"
              }
            },
            "selected": {
              "dtype": "uint32",
              "shape": [
                85
              ],
              "type": null
            },
            "selected_style": {},
            "stroke_width": 2,
            "tooltip": null,
            "tooltip_location": "mouse",
            "tooltip_style": {
              "opacity": 0.9
            },
            "unselected_style": {},
            "visible": true,
            "x": {
              "dtype": "float64",
              "shape": [
                100
              ],
              "type": "date"
            },
            "y": {
              "dtype": "float64",
              "shape": [
                100
              ],
              "type": null
            }
          }
        },
        "9b9921787cbf4958a1df47125dc89bd9": {
          "model_module": "bqplot",
          "model_name": "LinearScaleModel",
          "model_module_version": "^0.5.34",
          "state": {
            "_model_module": "bqplot",
            "_model_module_version": "^0.5.34",
            "_model_name": "LinearScaleModel",
            "_view_count": null,
            "_view_module": "bqplot",
            "_view_module_version": "^0.5.34",
            "_view_name": "LinearScale",
            "allow_padding": false,
            "max": 1,
            "mid_range": 0.8,
            "min": 0,
            "min_range": 0.6,
            "reverse": false,
            "stabilized": false
          }
        },
        "9b776f023fd646cb8db2fbc93775e07c": {
          "model_module": "bqplot",
          "model_name": "LinearScaleModel",
          "model_module_version": "^0.5.34",
          "state": {
            "_model_module": "bqplot",
            "_model_module_version": "^0.5.34",
            "_model_name": "LinearScaleModel",
            "_view_count": null,
            "_view_module": "bqplot",
            "_view_module_version": "^0.5.34",
            "_view_name": "LinearScale",
            "allow_padding": false,
            "max": 1,
            "mid_range": 0.8,
            "min": 0,
            "min_range": 0.6,
            "reverse": false,
            "stabilized": false
          }
        },
        "4a1774bf1c3f44678bccd115717ed478": {
          "model_module": "bqplot",
          "model_name": "DateScaleModel",
          "model_module_version": "^0.5.34",
          "state": {
            "_model_module": "bqplot",
            "_model_module_version": "^0.5.34",
            "_model_name": "DateScaleModel",
            "_view_count": null,
            "_view_module": "bqplot",
            "_view_module_version": "^0.5.34",
            "_view_name": "DateScale",
            "allow_padding": true,
            "max": null,
            "min": null,
            "reverse": false
          }
        },
        "dc72e9448f8a407ea8677118799bdc6f": {
          "model_module": "bqplot",
          "model_name": "LinearScaleModel",
          "model_module_version": "^0.5.34",
          "state": {
            "_model_module": "bqplot",
            "_model_module_version": "^0.5.34",
            "_model_name": "LinearScaleModel",
            "_view_count": null,
            "_view_module": "bqplot",
            "_view_module_version": "^0.5.34",
            "_view_name": "LinearScale",
            "allow_padding": true,
            "max": null,
            "mid_range": 0.8,
            "min": null,
            "min_range": 0.6,
            "reverse": false,
            "stabilized": false
          }
        }
      }
    }
  },
  "cells": [
    {
      "cell_type": "code",
      "source": [
        "import plotly.express as px\n",
        "data = px.data.iris()\n",
        "data.head()"
      ],
      "metadata": {
        "colab": {
          "base_uri": "https://localhost:8080/",
          "height": 206
        },
        "id": "r1vSmrUvWROJ",
        "outputId": "7fd7b59b-b1f4-49b2-ceca-ae3e4ce3264b"
      },
      "execution_count": 4,
      "outputs": [
        {
          "output_type": "execute_result",
          "data": {
            "text/plain": [
              "   sepal_length  sepal_width  petal_length  petal_width species  species_id\n",
              "0           5.1          3.5           1.4          0.2  setosa           1\n",
              "1           4.9          3.0           1.4          0.2  setosa           1\n",
              "2           4.7          3.2           1.3          0.2  setosa           1\n",
              "3           4.6          3.1           1.5          0.2  setosa           1\n",
              "4           5.0          3.6           1.4          0.2  setosa           1"
            ],
            "text/html": [
              "\n",
              "  <div id=\"df-2788f3c7-d18a-4429-bd46-f03b302d2cb7\">\n",
              "    <div class=\"colab-df-container\">\n",
              "      <div>\n",
              "<style scoped>\n",
              "    .dataframe tbody tr th:only-of-type {\n",
              "        vertical-align: middle;\n",
              "    }\n",
              "\n",
              "    .dataframe tbody tr th {\n",
              "        vertical-align: top;\n",
              "    }\n",
              "\n",
              "    .dataframe thead th {\n",
              "        text-align: right;\n",
              "    }\n",
              "</style>\n",
              "<table border=\"1\" class=\"dataframe\">\n",
              "  <thead>\n",
              "    <tr style=\"text-align: right;\">\n",
              "      <th></th>\n",
              "      <th>sepal_length</th>\n",
              "      <th>sepal_width</th>\n",
              "      <th>petal_length</th>\n",
              "      <th>petal_width</th>\n",
              "      <th>species</th>\n",
              "      <th>species_id</th>\n",
              "    </tr>\n",
              "  </thead>\n",
              "  <tbody>\n",
              "    <tr>\n",
              "      <th>0</th>\n",
              "      <td>5.1</td>\n",
              "      <td>3.5</td>\n",
              "      <td>1.4</td>\n",
              "      <td>0.2</td>\n",
              "      <td>setosa</td>\n",
              "      <td>1</td>\n",
              "    </tr>\n",
              "    <tr>\n",
              "      <th>1</th>\n",
              "      <td>4.9</td>\n",
              "      <td>3.0</td>\n",
              "      <td>1.4</td>\n",
              "      <td>0.2</td>\n",
              "      <td>setosa</td>\n",
              "      <td>1</td>\n",
              "    </tr>\n",
              "    <tr>\n",
              "      <th>2</th>\n",
              "      <td>4.7</td>\n",
              "      <td>3.2</td>\n",
              "      <td>1.3</td>\n",
              "      <td>0.2</td>\n",
              "      <td>setosa</td>\n",
              "      <td>1</td>\n",
              "    </tr>\n",
              "    <tr>\n",
              "      <th>3</th>\n",
              "      <td>4.6</td>\n",
              "      <td>3.1</td>\n",
              "      <td>1.5</td>\n",
              "      <td>0.2</td>\n",
              "      <td>setosa</td>\n",
              "      <td>1</td>\n",
              "    </tr>\n",
              "    <tr>\n",
              "      <th>4</th>\n",
              "      <td>5.0</td>\n",
              "      <td>3.6</td>\n",
              "      <td>1.4</td>\n",
              "      <td>0.2</td>\n",
              "      <td>setosa</td>\n",
              "      <td>1</td>\n",
              "    </tr>\n",
              "  </tbody>\n",
              "</table>\n",
              "</div>\n",
              "      <button class=\"colab-df-convert\" onclick=\"convertToInteractive('df-2788f3c7-d18a-4429-bd46-f03b302d2cb7')\"\n",
              "              title=\"Convert this dataframe to an interactive table.\"\n",
              "              style=\"display:none;\">\n",
              "        \n",
              "  <svg xmlns=\"http://www.w3.org/2000/svg\" height=\"24px\"viewBox=\"0 0 24 24\"\n",
              "       width=\"24px\">\n",
              "    <path d=\"M0 0h24v24H0V0z\" fill=\"none\"/>\n",
              "    <path d=\"M18.56 5.44l.94 2.06.94-2.06 2.06-.94-2.06-.94-.94-2.06-.94 2.06-2.06.94zm-11 1L8.5 8.5l.94-2.06 2.06-.94-2.06-.94L8.5 2.5l-.94 2.06-2.06.94zm10 10l.94 2.06.94-2.06 2.06-.94-2.06-.94-.94-2.06-.94 2.06-2.06.94z\"/><path d=\"M17.41 7.96l-1.37-1.37c-.4-.4-.92-.59-1.43-.59-.52 0-1.04.2-1.43.59L10.3 9.45l-7.72 7.72c-.78.78-.78 2.05 0 2.83L4 21.41c.39.39.9.59 1.41.59.51 0 1.02-.2 1.41-.59l7.78-7.78 2.81-2.81c.8-.78.8-2.07 0-2.86zM5.41 20L4 18.59l7.72-7.72 1.47 1.35L5.41 20z\"/>\n",
              "  </svg>\n",
              "      </button>\n",
              "      \n",
              "  <style>\n",
              "    .colab-df-container {\n",
              "      display:flex;\n",
              "      flex-wrap:wrap;\n",
              "      gap: 12px;\n",
              "    }\n",
              "\n",
              "    .colab-df-convert {\n",
              "      background-color: #E8F0FE;\n",
              "      border: none;\n",
              "      border-radius: 50%;\n",
              "      cursor: pointer;\n",
              "      display: none;\n",
              "      fill: #1967D2;\n",
              "      height: 32px;\n",
              "      padding: 0 0 0 0;\n",
              "      width: 32px;\n",
              "    }\n",
              "\n",
              "    .colab-df-convert:hover {\n",
              "      background-color: #E2EBFA;\n",
              "      box-shadow: 0px 1px 2px rgba(60, 64, 67, 0.3), 0px 1px 3px 1px rgba(60, 64, 67, 0.15);\n",
              "      fill: #174EA6;\n",
              "    }\n",
              "\n",
              "    [theme=dark] .colab-df-convert {\n",
              "      background-color: #3B4455;\n",
              "      fill: #D2E3FC;\n",
              "    }\n",
              "\n",
              "    [theme=dark] .colab-df-convert:hover {\n",
              "      background-color: #434B5C;\n",
              "      box-shadow: 0px 1px 3px 1px rgba(0, 0, 0, 0.15);\n",
              "      filter: drop-shadow(0px 1px 2px rgba(0, 0, 0, 0.3));\n",
              "      fill: #FFFFFF;\n",
              "    }\n",
              "  </style>\n",
              "\n",
              "      <script>\n",
              "        const buttonEl =\n",
              "          document.querySelector('#df-2788f3c7-d18a-4429-bd46-f03b302d2cb7 button.colab-df-convert');\n",
              "        buttonEl.style.display =\n",
              "          google.colab.kernel.accessAllowed ? 'block' : 'none';\n",
              "\n",
              "        async function convertToInteractive(key) {\n",
              "          const element = document.querySelector('#df-2788f3c7-d18a-4429-bd46-f03b302d2cb7');\n",
              "          const dataTable =\n",
              "            await google.colab.kernel.invokeFunction('convertToInteractive',\n",
              "                                                     [key], {});\n",
              "          if (!dataTable) return;\n",
              "\n",
              "          const docLinkHtml = 'Like what you see? Visit the ' +\n",
              "            '<a target=\"_blank\" href=https://colab.research.google.com/notebooks/data_table.ipynb>data table notebook</a>'\n",
              "            + ' to learn more about interactive tables.';\n",
              "          element.innerHTML = '';\n",
              "          dataTable['output_type'] = 'display_data';\n",
              "          await google.colab.output.renderOutput(dataTable, element);\n",
              "          const docLink = document.createElement('div');\n",
              "          docLink.innerHTML = docLinkHtml;\n",
              "          element.appendChild(docLink);\n",
              "        }\n",
              "      </script>\n",
              "    </div>\n",
              "  </div>\n",
              "  "
            ]
          },
          "metadata": {},
          "execution_count": 4
        }
      ]
    },
    {
      "cell_type": "code",
      "source": [
        "!pip install altair"
      ],
      "metadata": {
        "colab": {
          "base_uri": "https://localhost:8080/"
        },
        "id": "98HgPoo1WCDr",
        "outputId": "5cadfda0-cb08-4c6f-b0af-af12c710ec0f"
      },
      "execution_count": 2,
      "outputs": [
        {
          "output_type": "stream",
          "name": "stdout",
          "text": [
            "Requirement already satisfied: altair in /usr/local/lib/python3.7/dist-packages (4.2.0)\n",
            "Requirement already satisfied: toolz in /usr/local/lib/python3.7/dist-packages (from altair) (0.11.2)\n",
            "Requirement already satisfied: pandas>=0.18 in /usr/local/lib/python3.7/dist-packages (from altair) (1.3.5)\n",
            "Requirement already satisfied: entrypoints in /usr/local/lib/python3.7/dist-packages (from altair) (0.4)\n",
            "Requirement already satisfied: jinja2 in /usr/local/lib/python3.7/dist-packages (from altair) (2.11.3)\n",
            "Requirement already satisfied: numpy in /usr/local/lib/python3.7/dist-packages (from altair) (1.21.5)\n",
            "Requirement already satisfied: jsonschema>=3.0 in /usr/local/lib/python3.7/dist-packages (from altair) (4.3.3)\n",
            "Requirement already satisfied: importlib-resources>=1.4.0 in /usr/local/lib/python3.7/dist-packages (from jsonschema>=3.0->altair) (5.6.0)\n",
            "Requirement already satisfied: pyrsistent!=0.17.0,!=0.17.1,!=0.17.2,>=0.14.0 in /usr/local/lib/python3.7/dist-packages (from jsonschema>=3.0->altair) (0.18.1)\n",
            "Requirement already satisfied: attrs>=17.4.0 in /usr/local/lib/python3.7/dist-packages (from jsonschema>=3.0->altair) (21.4.0)\n",
            "Requirement already satisfied: typing-extensions in /usr/local/lib/python3.7/dist-packages (from jsonschema>=3.0->altair) (4.1.1)\n",
            "Requirement already satisfied: importlib-metadata in /usr/local/lib/python3.7/dist-packages (from jsonschema>=3.0->altair) (4.11.3)\n",
            "Requirement already satisfied: zipp>=3.1.0 in /usr/local/lib/python3.7/dist-packages (from importlib-resources>=1.4.0->jsonschema>=3.0->altair) (3.8.0)\n",
            "Requirement already satisfied: python-dateutil>=2.7.3 in /usr/local/lib/python3.7/dist-packages (from pandas>=0.18->altair) (2.8.2)\n",
            "Requirement already satisfied: pytz>=2017.3 in /usr/local/lib/python3.7/dist-packages (from pandas>=0.18->altair) (2018.9)\n",
            "Requirement already satisfied: six>=1.5 in /usr/local/lib/python3.7/dist-packages (from python-dateutil>=2.7.3->pandas>=0.18->altair) (1.15.0)\n",
            "Requirement already satisfied: MarkupSafe>=0.23 in /usr/local/lib/python3.7/dist-packages (from jinja2->altair) (2.0.1)\n"
          ]
        }
      ]
    },
    {
      "cell_type": "code",
      "execution_count": 5,
      "metadata": {
        "colab": {
          "base_uri": "https://localhost:8080/",
          "height": 371
        },
        "id": "I3ZGb-QxWAMe",
        "outputId": "dcf89528-28c9-4ebc-b2c8-4a5eb9425a0f"
      },
      "outputs": [
        {
          "output_type": "execute_result",
          "data": {
            "text/html": [
              "\n",
              "<div id=\"altair-viz-7961a0b5f1d544dcae50f22ef1c11e6b\"></div>\n",
              "<script type=\"text/javascript\">\n",
              "  var VEGA_DEBUG = (typeof VEGA_DEBUG == \"undefined\") ? {} : VEGA_DEBUG;\n",
              "  (function(spec, embedOpt){\n",
              "    let outputDiv = document.currentScript.previousElementSibling;\n",
              "    if (outputDiv.id !== \"altair-viz-7961a0b5f1d544dcae50f22ef1c11e6b\") {\n",
              "      outputDiv = document.getElementById(\"altair-viz-7961a0b5f1d544dcae50f22ef1c11e6b\");\n",
              "    }\n",
              "    const paths = {\n",
              "      \"vega\": \"https://cdn.jsdelivr.net/npm//vega@5?noext\",\n",
              "      \"vega-lib\": \"https://cdn.jsdelivr.net/npm//vega-lib?noext\",\n",
              "      \"vega-lite\": \"https://cdn.jsdelivr.net/npm//vega-lite@4.17.0?noext\",\n",
              "      \"vega-embed\": \"https://cdn.jsdelivr.net/npm//vega-embed@6?noext\",\n",
              "    };\n",
              "\n",
              "    function maybeLoadScript(lib, version) {\n",
              "      var key = `${lib.replace(\"-\", \"\")}_version`;\n",
              "      return (VEGA_DEBUG[key] == version) ?\n",
              "        Promise.resolve(paths[lib]) :\n",
              "        new Promise(function(resolve, reject) {\n",
              "          var s = document.createElement('script');\n",
              "          document.getElementsByTagName(\"head\")[0].appendChild(s);\n",
              "          s.async = true;\n",
              "          s.onload = () => {\n",
              "            VEGA_DEBUG[key] = version;\n",
              "            return resolve(paths[lib]);\n",
              "          };\n",
              "          s.onerror = () => reject(`Error loading script: ${paths[lib]}`);\n",
              "          s.src = paths[lib];\n",
              "        });\n",
              "    }\n",
              "\n",
              "    function showError(err) {\n",
              "      outputDiv.innerHTML = `<div class=\"error\" style=\"color:red;\">${err}</div>`;\n",
              "      throw err;\n",
              "    }\n",
              "\n",
              "    function displayChart(vegaEmbed) {\n",
              "      vegaEmbed(outputDiv, spec, embedOpt)\n",
              "        .catch(err => showError(`Javascript Error: ${err.message}<br>This usually means there's a typo in your chart specification. See the javascript console for the full traceback.`));\n",
              "    }\n",
              "\n",
              "    if(typeof define === \"function\" && define.amd) {\n",
              "      requirejs.config({paths});\n",
              "      require([\"vega-embed\"], displayChart, err => showError(`Error loading script: ${err.message}`));\n",
              "    } else {\n",
              "      maybeLoadScript(\"vega\", \"5\")\n",
              "        .then(() => maybeLoadScript(\"vega-lite\", \"4.17.0\"))\n",
              "        .then(() => maybeLoadScript(\"vega-embed\", \"6\"))\n",
              "        .catch(showError)\n",
              "        .then(() => displayChart(vegaEmbed));\n",
              "    }\n",
              "  })({\"config\": {\"view\": {\"continuousWidth\": 400, \"continuousHeight\": 300}}, \"data\": {\"name\": \"data-98ae83e5d702045aa997eca40b770a99\"}, \"mark\": \"point\", \"encoding\": {\"color\": {\"field\": \"species\", \"type\": \"nominal\"}, \"size\": {\"field\": \"sepal_length\", \"type\": \"quantitative\"}, \"x\": {\"field\": \"sepal_width\", \"type\": \"quantitative\"}, \"y\": {\"field\": \"sepal_length\", \"type\": \"quantitative\"}}, \"$schema\": \"https://vega.github.io/schema/vega-lite/v4.17.0.json\", \"datasets\": {\"data-98ae83e5d702045aa997eca40b770a99\": [{\"sepal_length\": 5.1, \"sepal_width\": 3.5, \"petal_length\": 1.4, \"petal_width\": 0.2, \"species\": \"setosa\", \"species_id\": 1}, {\"sepal_length\": 4.9, \"sepal_width\": 3.0, \"petal_length\": 1.4, \"petal_width\": 0.2, \"species\": \"setosa\", \"species_id\": 1}, {\"sepal_length\": 4.7, \"sepal_width\": 3.2, \"petal_length\": 1.3, \"petal_width\": 0.2, \"species\": \"setosa\", \"species_id\": 1}, {\"sepal_length\": 4.6, \"sepal_width\": 3.1, \"petal_length\": 1.5, \"petal_width\": 0.2, \"species\": \"setosa\", \"species_id\": 1}, {\"sepal_length\": 5.0, \"sepal_width\": 3.6, \"petal_length\": 1.4, \"petal_width\": 0.2, \"species\": \"setosa\", \"species_id\": 1}, {\"sepal_length\": 5.4, \"sepal_width\": 3.9, \"petal_length\": 1.7, \"petal_width\": 0.4, \"species\": \"setosa\", \"species_id\": 1}, {\"sepal_length\": 4.6, \"sepal_width\": 3.4, \"petal_length\": 1.4, \"petal_width\": 0.3, \"species\": \"setosa\", \"species_id\": 1}, {\"sepal_length\": 5.0, \"sepal_width\": 3.4, \"petal_length\": 1.5, \"petal_width\": 0.2, \"species\": \"setosa\", \"species_id\": 1}, {\"sepal_length\": 4.4, \"sepal_width\": 2.9, \"petal_length\": 1.4, \"petal_width\": 0.2, \"species\": \"setosa\", \"species_id\": 1}, {\"sepal_length\": 4.9, \"sepal_width\": 3.1, \"petal_length\": 1.5, \"petal_width\": 0.1, \"species\": \"setosa\", \"species_id\": 1}, {\"sepal_length\": 5.4, \"sepal_width\": 3.7, \"petal_length\": 1.5, \"petal_width\": 0.2, \"species\": \"setosa\", \"species_id\": 1}, {\"sepal_length\": 4.8, \"sepal_width\": 3.4, \"petal_length\": 1.6, \"petal_width\": 0.2, \"species\": \"setosa\", \"species_id\": 1}, {\"sepal_length\": 4.8, \"sepal_width\": 3.0, \"petal_length\": 1.4, \"petal_width\": 0.1, \"species\": \"setosa\", \"species_id\": 1}, {\"sepal_length\": 4.3, \"sepal_width\": 3.0, \"petal_length\": 1.1, \"petal_width\": 0.1, \"species\": \"setosa\", \"species_id\": 1}, {\"sepal_length\": 5.8, \"sepal_width\": 4.0, \"petal_length\": 1.2, \"petal_width\": 0.2, \"species\": \"setosa\", \"species_id\": 1}, {\"sepal_length\": 5.7, \"sepal_width\": 4.4, \"petal_length\": 1.5, \"petal_width\": 0.4, \"species\": \"setosa\", \"species_id\": 1}, {\"sepal_length\": 5.4, \"sepal_width\": 3.9, \"petal_length\": 1.3, \"petal_width\": 0.4, \"species\": \"setosa\", \"species_id\": 1}, {\"sepal_length\": 5.1, \"sepal_width\": 3.5, \"petal_length\": 1.4, \"petal_width\": 0.3, \"species\": \"setosa\", \"species_id\": 1}, {\"sepal_length\": 5.7, \"sepal_width\": 3.8, \"petal_length\": 1.7, \"petal_width\": 0.3, \"species\": \"setosa\", \"species_id\": 1}, {\"sepal_length\": 5.1, \"sepal_width\": 3.8, \"petal_length\": 1.5, \"petal_width\": 0.3, \"species\": \"setosa\", \"species_id\": 1}, {\"sepal_length\": 5.4, \"sepal_width\": 3.4, \"petal_length\": 1.7, \"petal_width\": 0.2, \"species\": \"setosa\", \"species_id\": 1}, {\"sepal_length\": 5.1, \"sepal_width\": 3.7, \"petal_length\": 1.5, \"petal_width\": 0.4, \"species\": \"setosa\", \"species_id\": 1}, {\"sepal_length\": 4.6, \"sepal_width\": 3.6, \"petal_length\": 1.0, \"petal_width\": 0.2, \"species\": \"setosa\", \"species_id\": 1}, {\"sepal_length\": 5.1, \"sepal_width\": 3.3, \"petal_length\": 1.7, \"petal_width\": 0.5, \"species\": \"setosa\", \"species_id\": 1}, {\"sepal_length\": 4.8, \"sepal_width\": 3.4, \"petal_length\": 1.9, \"petal_width\": 0.2, \"species\": \"setosa\", \"species_id\": 1}, {\"sepal_length\": 5.0, \"sepal_width\": 3.0, \"petal_length\": 1.6, \"petal_width\": 0.2, \"species\": \"setosa\", \"species_id\": 1}, {\"sepal_length\": 5.0, \"sepal_width\": 3.4, \"petal_length\": 1.6, \"petal_width\": 0.4, \"species\": \"setosa\", \"species_id\": 1}, {\"sepal_length\": 5.2, \"sepal_width\": 3.5, \"petal_length\": 1.5, \"petal_width\": 0.2, \"species\": \"setosa\", \"species_id\": 1}, {\"sepal_length\": 5.2, \"sepal_width\": 3.4, \"petal_length\": 1.4, \"petal_width\": 0.2, \"species\": \"setosa\", \"species_id\": 1}, {\"sepal_length\": 4.7, \"sepal_width\": 3.2, \"petal_length\": 1.6, \"petal_width\": 0.2, \"species\": \"setosa\", \"species_id\": 1}, {\"sepal_length\": 4.8, \"sepal_width\": 3.1, \"petal_length\": 1.6, \"petal_width\": 0.2, \"species\": \"setosa\", \"species_id\": 1}, {\"sepal_length\": 5.4, \"sepal_width\": 3.4, \"petal_length\": 1.5, \"petal_width\": 0.4, \"species\": \"setosa\", \"species_id\": 1}, {\"sepal_length\": 5.2, \"sepal_width\": 4.1, \"petal_length\": 1.5, \"petal_width\": 0.1, \"species\": \"setosa\", \"species_id\": 1}, {\"sepal_length\": 5.5, \"sepal_width\": 4.2, \"petal_length\": 1.4, \"petal_width\": 0.2, \"species\": \"setosa\", \"species_id\": 1}, {\"sepal_length\": 4.9, \"sepal_width\": 3.1, \"petal_length\": 1.5, \"petal_width\": 0.1, \"species\": \"setosa\", \"species_id\": 1}, {\"sepal_length\": 5.0, \"sepal_width\": 3.2, \"petal_length\": 1.2, \"petal_width\": 0.2, \"species\": \"setosa\", \"species_id\": 1}, {\"sepal_length\": 5.5, \"sepal_width\": 3.5, \"petal_length\": 1.3, \"petal_width\": 0.2, \"species\": \"setosa\", \"species_id\": 1}, {\"sepal_length\": 4.9, \"sepal_width\": 3.1, \"petal_length\": 1.5, \"petal_width\": 0.1, \"species\": \"setosa\", \"species_id\": 1}, {\"sepal_length\": 4.4, \"sepal_width\": 3.0, \"petal_length\": 1.3, \"petal_width\": 0.2, \"species\": \"setosa\", \"species_id\": 1}, {\"sepal_length\": 5.1, \"sepal_width\": 3.4, \"petal_length\": 1.5, \"petal_width\": 0.2, \"species\": \"setosa\", \"species_id\": 1}, {\"sepal_length\": 5.0, \"sepal_width\": 3.5, \"petal_length\": 1.3, \"petal_width\": 0.3, \"species\": \"setosa\", \"species_id\": 1}, {\"sepal_length\": 4.5, \"sepal_width\": 2.3, \"petal_length\": 1.3, \"petal_width\": 0.3, \"species\": \"setosa\", \"species_id\": 1}, {\"sepal_length\": 4.4, \"sepal_width\": 3.2, \"petal_length\": 1.3, \"petal_width\": 0.2, \"species\": \"setosa\", \"species_id\": 1}, {\"sepal_length\": 5.0, \"sepal_width\": 3.5, \"petal_length\": 1.6, \"petal_width\": 0.6, \"species\": \"setosa\", \"species_id\": 1}, {\"sepal_length\": 5.1, \"sepal_width\": 3.8, \"petal_length\": 1.9, \"petal_width\": 0.4, \"species\": \"setosa\", \"species_id\": 1}, {\"sepal_length\": 4.8, \"sepal_width\": 3.0, \"petal_length\": 1.4, \"petal_width\": 0.3, \"species\": \"setosa\", \"species_id\": 1}, {\"sepal_length\": 5.1, \"sepal_width\": 3.8, \"petal_length\": 1.6, \"petal_width\": 0.2, \"species\": \"setosa\", \"species_id\": 1}, {\"sepal_length\": 4.6, \"sepal_width\": 3.2, \"petal_length\": 1.4, \"petal_width\": 0.2, \"species\": \"setosa\", \"species_id\": 1}, {\"sepal_length\": 5.3, \"sepal_width\": 3.7, \"petal_length\": 1.5, \"petal_width\": 0.2, \"species\": \"setosa\", \"species_id\": 1}, {\"sepal_length\": 5.0, \"sepal_width\": 3.3, \"petal_length\": 1.4, \"petal_width\": 0.2, \"species\": \"setosa\", \"species_id\": 1}, {\"sepal_length\": 7.0, \"sepal_width\": 3.2, \"petal_length\": 4.7, \"petal_width\": 1.4, \"species\": \"versicolor\", \"species_id\": 2}, {\"sepal_length\": 6.4, \"sepal_width\": 3.2, \"petal_length\": 4.5, \"petal_width\": 1.5, \"species\": \"versicolor\", \"species_id\": 2}, {\"sepal_length\": 6.9, \"sepal_width\": 3.1, \"petal_length\": 4.9, \"petal_width\": 1.5, \"species\": \"versicolor\", \"species_id\": 2}, {\"sepal_length\": 5.5, \"sepal_width\": 2.3, \"petal_length\": 4.0, \"petal_width\": 1.3, \"species\": \"versicolor\", \"species_id\": 2}, {\"sepal_length\": 6.5, \"sepal_width\": 2.8, \"petal_length\": 4.6, \"petal_width\": 1.5, \"species\": \"versicolor\", \"species_id\": 2}, {\"sepal_length\": 5.7, \"sepal_width\": 2.8, \"petal_length\": 4.5, \"petal_width\": 1.3, \"species\": \"versicolor\", \"species_id\": 2}, {\"sepal_length\": 6.3, \"sepal_width\": 3.3, \"petal_length\": 4.7, \"petal_width\": 1.6, \"species\": \"versicolor\", \"species_id\": 2}, {\"sepal_length\": 4.9, \"sepal_width\": 2.4, \"petal_length\": 3.3, \"petal_width\": 1.0, \"species\": \"versicolor\", \"species_id\": 2}, {\"sepal_length\": 6.6, \"sepal_width\": 2.9, \"petal_length\": 4.6, \"petal_width\": 1.3, \"species\": \"versicolor\", \"species_id\": 2}, {\"sepal_length\": 5.2, \"sepal_width\": 2.7, \"petal_length\": 3.9, \"petal_width\": 1.4, \"species\": \"versicolor\", \"species_id\": 2}, {\"sepal_length\": 5.0, \"sepal_width\": 2.0, \"petal_length\": 3.5, \"petal_width\": 1.0, \"species\": \"versicolor\", \"species_id\": 2}, {\"sepal_length\": 5.9, \"sepal_width\": 3.0, \"petal_length\": 4.2, \"petal_width\": 1.5, \"species\": \"versicolor\", \"species_id\": 2}, {\"sepal_length\": 6.0, \"sepal_width\": 2.2, \"petal_length\": 4.0, \"petal_width\": 1.0, \"species\": \"versicolor\", \"species_id\": 2}, {\"sepal_length\": 6.1, \"sepal_width\": 2.9, \"petal_length\": 4.7, \"petal_width\": 1.4, \"species\": \"versicolor\", \"species_id\": 2}, {\"sepal_length\": 5.6, \"sepal_width\": 2.9, \"petal_length\": 3.6, \"petal_width\": 1.3, \"species\": \"versicolor\", \"species_id\": 2}, {\"sepal_length\": 6.7, \"sepal_width\": 3.1, \"petal_length\": 4.4, \"petal_width\": 1.4, \"species\": \"versicolor\", \"species_id\": 2}, {\"sepal_length\": 5.6, \"sepal_width\": 3.0, \"petal_length\": 4.5, \"petal_width\": 1.5, \"species\": \"versicolor\", \"species_id\": 2}, {\"sepal_length\": 5.8, \"sepal_width\": 2.7, \"petal_length\": 4.1, \"petal_width\": 1.0, \"species\": \"versicolor\", \"species_id\": 2}, {\"sepal_length\": 6.2, \"sepal_width\": 2.2, \"petal_length\": 4.5, \"petal_width\": 1.5, \"species\": \"versicolor\", \"species_id\": 2}, {\"sepal_length\": 5.6, \"sepal_width\": 2.5, \"petal_length\": 3.9, \"petal_width\": 1.1, \"species\": \"versicolor\", \"species_id\": 2}, {\"sepal_length\": 5.9, \"sepal_width\": 3.2, \"petal_length\": 4.8, \"petal_width\": 1.8, \"species\": \"versicolor\", \"species_id\": 2}, {\"sepal_length\": 6.1, \"sepal_width\": 2.8, \"petal_length\": 4.0, \"petal_width\": 1.3, \"species\": \"versicolor\", \"species_id\": 2}, {\"sepal_length\": 6.3, \"sepal_width\": 2.5, \"petal_length\": 4.9, \"petal_width\": 1.5, \"species\": \"versicolor\", \"species_id\": 2}, {\"sepal_length\": 6.1, \"sepal_width\": 2.8, \"petal_length\": 4.7, \"petal_width\": 1.2, \"species\": \"versicolor\", \"species_id\": 2}, {\"sepal_length\": 6.4, \"sepal_width\": 2.9, \"petal_length\": 4.3, \"petal_width\": 1.3, \"species\": \"versicolor\", \"species_id\": 2}, {\"sepal_length\": 6.6, \"sepal_width\": 3.0, \"petal_length\": 4.4, \"petal_width\": 1.4, \"species\": \"versicolor\", \"species_id\": 2}, {\"sepal_length\": 6.8, \"sepal_width\": 2.8, \"petal_length\": 4.8, \"petal_width\": 1.4, \"species\": \"versicolor\", \"species_id\": 2}, {\"sepal_length\": 6.7, \"sepal_width\": 3.0, \"petal_length\": 5.0, \"petal_width\": 1.7, \"species\": \"versicolor\", \"species_id\": 2}, {\"sepal_length\": 6.0, \"sepal_width\": 2.9, \"petal_length\": 4.5, \"petal_width\": 1.5, \"species\": \"versicolor\", \"species_id\": 2}, {\"sepal_length\": 5.7, \"sepal_width\": 2.6, \"petal_length\": 3.5, \"petal_width\": 1.0, \"species\": \"versicolor\", \"species_id\": 2}, {\"sepal_length\": 5.5, \"sepal_width\": 2.4, \"petal_length\": 3.8, \"petal_width\": 1.1, \"species\": \"versicolor\", \"species_id\": 2}, {\"sepal_length\": 5.5, \"sepal_width\": 2.4, \"petal_length\": 3.7, \"petal_width\": 1.0, \"species\": \"versicolor\", \"species_id\": 2}, {\"sepal_length\": 5.8, \"sepal_width\": 2.7, \"petal_length\": 3.9, \"petal_width\": 1.2, \"species\": \"versicolor\", \"species_id\": 2}, {\"sepal_length\": 6.0, \"sepal_width\": 2.7, \"petal_length\": 5.1, \"petal_width\": 1.6, \"species\": \"versicolor\", \"species_id\": 2}, {\"sepal_length\": 5.4, \"sepal_width\": 3.0, \"petal_length\": 4.5, \"petal_width\": 1.5, \"species\": \"versicolor\", \"species_id\": 2}, {\"sepal_length\": 6.0, \"sepal_width\": 3.4, \"petal_length\": 4.5, \"petal_width\": 1.6, \"species\": \"versicolor\", \"species_id\": 2}, {\"sepal_length\": 6.7, \"sepal_width\": 3.1, \"petal_length\": 4.7, \"petal_width\": 1.5, \"species\": \"versicolor\", \"species_id\": 2}, {\"sepal_length\": 6.3, \"sepal_width\": 2.3, \"petal_length\": 4.4, \"petal_width\": 1.3, \"species\": \"versicolor\", \"species_id\": 2}, {\"sepal_length\": 5.6, \"sepal_width\": 3.0, \"petal_length\": 4.1, \"petal_width\": 1.3, \"species\": \"versicolor\", \"species_id\": 2}, {\"sepal_length\": 5.5, \"sepal_width\": 2.5, \"petal_length\": 4.0, \"petal_width\": 1.3, \"species\": \"versicolor\", \"species_id\": 2}, {\"sepal_length\": 5.5, \"sepal_width\": 2.6, \"petal_length\": 4.4, \"petal_width\": 1.2, \"species\": \"versicolor\", \"species_id\": 2}, {\"sepal_length\": 6.1, \"sepal_width\": 3.0, \"petal_length\": 4.6, \"petal_width\": 1.4, \"species\": \"versicolor\", \"species_id\": 2}, {\"sepal_length\": 5.8, \"sepal_width\": 2.6, \"petal_length\": 4.0, \"petal_width\": 1.2, \"species\": \"versicolor\", \"species_id\": 2}, {\"sepal_length\": 5.0, \"sepal_width\": 2.3, \"petal_length\": 3.3, \"petal_width\": 1.0, \"species\": \"versicolor\", \"species_id\": 2}, {\"sepal_length\": 5.6, \"sepal_width\": 2.7, \"petal_length\": 4.2, \"petal_width\": 1.3, \"species\": \"versicolor\", \"species_id\": 2}, {\"sepal_length\": 5.7, \"sepal_width\": 3.0, \"petal_length\": 4.2, \"petal_width\": 1.2, \"species\": \"versicolor\", \"species_id\": 2}, {\"sepal_length\": 5.7, \"sepal_width\": 2.9, \"petal_length\": 4.2, \"petal_width\": 1.3, \"species\": \"versicolor\", \"species_id\": 2}, {\"sepal_length\": 6.2, \"sepal_width\": 2.9, \"petal_length\": 4.3, \"petal_width\": 1.3, \"species\": \"versicolor\", \"species_id\": 2}, {\"sepal_length\": 5.1, \"sepal_width\": 2.5, \"petal_length\": 3.0, \"petal_width\": 1.1, \"species\": \"versicolor\", \"species_id\": 2}, {\"sepal_length\": 5.7, \"sepal_width\": 2.8, \"petal_length\": 4.1, \"petal_width\": 1.3, \"species\": \"versicolor\", \"species_id\": 2}, {\"sepal_length\": 6.3, \"sepal_width\": 3.3, \"petal_length\": 6.0, \"petal_width\": 2.5, \"species\": \"virginica\", \"species_id\": 3}, {\"sepal_length\": 5.8, \"sepal_width\": 2.7, \"petal_length\": 5.1, \"petal_width\": 1.9, \"species\": \"virginica\", \"species_id\": 3}, {\"sepal_length\": 7.1, \"sepal_width\": 3.0, \"petal_length\": 5.9, \"petal_width\": 2.1, \"species\": \"virginica\", \"species_id\": 3}, {\"sepal_length\": 6.3, \"sepal_width\": 2.9, \"petal_length\": 5.6, \"petal_width\": 1.8, \"species\": \"virginica\", \"species_id\": 3}, {\"sepal_length\": 6.5, \"sepal_width\": 3.0, \"petal_length\": 5.8, \"petal_width\": 2.2, \"species\": \"virginica\", \"species_id\": 3}, {\"sepal_length\": 7.6, \"sepal_width\": 3.0, \"petal_length\": 6.6, \"petal_width\": 2.1, \"species\": \"virginica\", \"species_id\": 3}, {\"sepal_length\": 4.9, \"sepal_width\": 2.5, \"petal_length\": 4.5, \"petal_width\": 1.7, \"species\": \"virginica\", \"species_id\": 3}, {\"sepal_length\": 7.3, \"sepal_width\": 2.9, \"petal_length\": 6.3, \"petal_width\": 1.8, \"species\": \"virginica\", \"species_id\": 3}, {\"sepal_length\": 6.7, \"sepal_width\": 2.5, \"petal_length\": 5.8, \"petal_width\": 1.8, \"species\": \"virginica\", \"species_id\": 3}, {\"sepal_length\": 7.2, \"sepal_width\": 3.6, \"petal_length\": 6.1, \"petal_width\": 2.5, \"species\": \"virginica\", \"species_id\": 3}, {\"sepal_length\": 6.5, \"sepal_width\": 3.2, \"petal_length\": 5.1, \"petal_width\": 2.0, \"species\": \"virginica\", \"species_id\": 3}, {\"sepal_length\": 6.4, \"sepal_width\": 2.7, \"petal_length\": 5.3, \"petal_width\": 1.9, \"species\": \"virginica\", \"species_id\": 3}, {\"sepal_length\": 6.8, \"sepal_width\": 3.0, \"petal_length\": 5.5, \"petal_width\": 2.1, \"species\": \"virginica\", \"species_id\": 3}, {\"sepal_length\": 5.7, \"sepal_width\": 2.5, \"petal_length\": 5.0, \"petal_width\": 2.0, \"species\": \"virginica\", \"species_id\": 3}, {\"sepal_length\": 5.8, \"sepal_width\": 2.8, \"petal_length\": 5.1, \"petal_width\": 2.4, \"species\": \"virginica\", \"species_id\": 3}, {\"sepal_length\": 6.4, \"sepal_width\": 3.2, \"petal_length\": 5.3, \"petal_width\": 2.3, \"species\": \"virginica\", \"species_id\": 3}, {\"sepal_length\": 6.5, \"sepal_width\": 3.0, \"petal_length\": 5.5, \"petal_width\": 1.8, \"species\": \"virginica\", \"species_id\": 3}, {\"sepal_length\": 7.7, \"sepal_width\": 3.8, \"petal_length\": 6.7, \"petal_width\": 2.2, \"species\": \"virginica\", \"species_id\": 3}, {\"sepal_length\": 7.7, \"sepal_width\": 2.6, \"petal_length\": 6.9, \"petal_width\": 2.3, \"species\": \"virginica\", \"species_id\": 3}, {\"sepal_length\": 6.0, \"sepal_width\": 2.2, \"petal_length\": 5.0, \"petal_width\": 1.5, \"species\": \"virginica\", \"species_id\": 3}, {\"sepal_length\": 6.9, \"sepal_width\": 3.2, \"petal_length\": 5.7, \"petal_width\": 2.3, \"species\": \"virginica\", \"species_id\": 3}, {\"sepal_length\": 5.6, \"sepal_width\": 2.8, \"petal_length\": 4.9, \"petal_width\": 2.0, \"species\": \"virginica\", \"species_id\": 3}, {\"sepal_length\": 7.7, \"sepal_width\": 2.8, \"petal_length\": 6.7, \"petal_width\": 2.0, \"species\": \"virginica\", \"species_id\": 3}, {\"sepal_length\": 6.3, \"sepal_width\": 2.7, \"petal_length\": 4.9, \"petal_width\": 1.8, \"species\": \"virginica\", \"species_id\": 3}, {\"sepal_length\": 6.7, \"sepal_width\": 3.3, \"petal_length\": 5.7, \"petal_width\": 2.1, \"species\": \"virginica\", \"species_id\": 3}, {\"sepal_length\": 7.2, \"sepal_width\": 3.2, \"petal_length\": 6.0, \"petal_width\": 1.8, \"species\": \"virginica\", \"species_id\": 3}, {\"sepal_length\": 6.2, \"sepal_width\": 2.8, \"petal_length\": 4.8, \"petal_width\": 1.8, \"species\": \"virginica\", \"species_id\": 3}, {\"sepal_length\": 6.1, \"sepal_width\": 3.0, \"petal_length\": 4.9, \"petal_width\": 1.8, \"species\": \"virginica\", \"species_id\": 3}, {\"sepal_length\": 6.4, \"sepal_width\": 2.8, \"petal_length\": 5.6, \"petal_width\": 2.1, \"species\": \"virginica\", \"species_id\": 3}, {\"sepal_length\": 7.2, \"sepal_width\": 3.0, \"petal_length\": 5.8, \"petal_width\": 1.6, \"species\": \"virginica\", \"species_id\": 3}, {\"sepal_length\": 7.4, \"sepal_width\": 2.8, \"petal_length\": 6.1, \"petal_width\": 1.9, \"species\": \"virginica\", \"species_id\": 3}, {\"sepal_length\": 7.9, \"sepal_width\": 3.8, \"petal_length\": 6.4, \"petal_width\": 2.0, \"species\": \"virginica\", \"species_id\": 3}, {\"sepal_length\": 6.4, \"sepal_width\": 2.8, \"petal_length\": 5.6, \"petal_width\": 2.2, \"species\": \"virginica\", \"species_id\": 3}, {\"sepal_length\": 6.3, \"sepal_width\": 2.8, \"petal_length\": 5.1, \"petal_width\": 1.5, \"species\": \"virginica\", \"species_id\": 3}, {\"sepal_length\": 6.1, \"sepal_width\": 2.6, \"petal_length\": 5.6, \"petal_width\": 1.4, \"species\": \"virginica\", \"species_id\": 3}, {\"sepal_length\": 7.7, \"sepal_width\": 3.0, \"petal_length\": 6.1, \"petal_width\": 2.3, \"species\": \"virginica\", \"species_id\": 3}, {\"sepal_length\": 6.3, \"sepal_width\": 3.4, \"petal_length\": 5.6, \"petal_width\": 2.4, \"species\": \"virginica\", \"species_id\": 3}, {\"sepal_length\": 6.4, \"sepal_width\": 3.1, \"petal_length\": 5.5, \"petal_width\": 1.8, \"species\": \"virginica\", \"species_id\": 3}, {\"sepal_length\": 6.0, \"sepal_width\": 3.0, \"petal_length\": 4.8, \"petal_width\": 1.8, \"species\": \"virginica\", \"species_id\": 3}, {\"sepal_length\": 6.9, \"sepal_width\": 3.1, \"petal_length\": 5.4, \"petal_width\": 2.1, \"species\": \"virginica\", \"species_id\": 3}, {\"sepal_length\": 6.7, \"sepal_width\": 3.1, \"petal_length\": 5.6, \"petal_width\": 2.4, \"species\": \"virginica\", \"species_id\": 3}, {\"sepal_length\": 6.9, \"sepal_width\": 3.1, \"petal_length\": 5.1, \"petal_width\": 2.3, \"species\": \"virginica\", \"species_id\": 3}, {\"sepal_length\": 5.8, \"sepal_width\": 2.7, \"petal_length\": 5.1, \"petal_width\": 1.9, \"species\": \"virginica\", \"species_id\": 3}, {\"sepal_length\": 6.8, \"sepal_width\": 3.2, \"petal_length\": 5.9, \"petal_width\": 2.3, \"species\": \"virginica\", \"species_id\": 3}, {\"sepal_length\": 6.7, \"sepal_width\": 3.3, \"petal_length\": 5.7, \"petal_width\": 2.5, \"species\": \"virginica\", \"species_id\": 3}, {\"sepal_length\": 6.7, \"sepal_width\": 3.0, \"petal_length\": 5.2, \"petal_width\": 2.3, \"species\": \"virginica\", \"species_id\": 3}, {\"sepal_length\": 6.3, \"sepal_width\": 2.5, \"petal_length\": 5.0, \"petal_width\": 1.9, \"species\": \"virginica\", \"species_id\": 3}, {\"sepal_length\": 6.5, \"sepal_width\": 3.0, \"petal_length\": 5.2, \"petal_width\": 2.0, \"species\": \"virginica\", \"species_id\": 3}, {\"sepal_length\": 6.2, \"sepal_width\": 3.4, \"petal_length\": 5.4, \"petal_width\": 2.3, \"species\": \"virginica\", \"species_id\": 3}, {\"sepal_length\": 5.9, \"sepal_width\": 3.0, \"petal_length\": 5.1, \"petal_width\": 1.8, \"species\": \"virginica\", \"species_id\": 3}]}}, {\"mode\": \"vega-lite\"});\n",
              "</script>"
            ],
            "text/plain": [
              "alt.Chart(...)"
            ]
          },
          "metadata": {},
          "execution_count": 5
        }
      ],
      "source": [
        "import altair as alt\n",
        "alt.Chart(data=data).mark_point().encode(\n",
        "    x=\"sepal_width\",\n",
        "    y=\"sepal_length\",\n",
        "    color=\"species\",\n",
        "    size='sepal_length'\n",
        ")\n",
        "\n",
        "# use ... to save as png"
      ]
    },
    {
      "cell_type": "code",
      "source": [
        "!pip install plotly"
      ],
      "metadata": {
        "colab": {
          "base_uri": "https://localhost:8080/"
        },
        "id": "4F6tc7BLXK4_",
        "outputId": "f1317026-ceab-44c6-f337-6e0eaffa2ea8"
      },
      "execution_count": 11,
      "outputs": [
        {
          "output_type": "stream",
          "name": "stdout",
          "text": [
            "Requirement already satisfied: plotly in /usr/local/lib/python3.7/dist-packages (5.5.0)\n",
            "Requirement already satisfied: tenacity>=6.2.0 in /usr/local/lib/python3.7/dist-packages (from plotly) (8.0.1)\n",
            "Requirement already satisfied: six in /usr/local/lib/python3.7/dist-packages (from plotly) (1.15.0)\n"
          ]
        }
      ]
    },
    {
      "cell_type": "code",
      "source": [
        "import plotly.io as pio\n",
        "import plotly.express as px\n",
        "import plotly.offline as py\n",
        "\n",
        "df = px.data.iris()\n",
        "fig = px.scatter(df, x=\"sepal_width\", y=\"sepal_length\", color=\"species\", size=\"sepal_length\")\n",
        "fig\n",
        "\n",
        "\n",
        "# Hover over graph to see interactive feature in top right"
      ],
      "metadata": {
        "colab": {
          "base_uri": "https://localhost:8080/",
          "height": 542
        },
        "id": "6HN9-O0YWeaB",
        "outputId": "0aecac7e-c520-42e8-80bd-7cd1c53de29d"
      },
      "execution_count": 6,
      "outputs": [
        {
          "output_type": "display_data",
          "data": {
            "text/html": [
              "<html>\n",
              "<head><meta charset=\"utf-8\" /></head>\n",
              "<body>\n",
              "    <div>            <script src=\"https://cdnjs.cloudflare.com/ajax/libs/mathjax/2.7.5/MathJax.js?config=TeX-AMS-MML_SVG\"></script><script type=\"text/javascript\">if (window.MathJax) {MathJax.Hub.Config({SVG: {font: \"STIX-Web\"}});}</script>                <script type=\"text/javascript\">window.PlotlyConfig = {MathJaxConfig: 'local'};</script>\n",
              "        <script src=\"https://cdn.plot.ly/plotly-2.8.3.min.js\"></script>                <div id=\"aefc6c98-e7b1-4bea-bc54-3d7ebce7b806\" class=\"plotly-graph-div\" style=\"height:525px; width:100%;\"></div>            <script type=\"text/javascript\">                                    window.PLOTLYENV=window.PLOTLYENV || {};                                    if (document.getElementById(\"aefc6c98-e7b1-4bea-bc54-3d7ebce7b806\")) {                    Plotly.newPlot(                        \"aefc6c98-e7b1-4bea-bc54-3d7ebce7b806\",                        [{\"hovertemplate\":\"species=setosa<br>sepal_width=%{x}<br>sepal_length=%{marker.size}<extra></extra>\",\"legendgroup\":\"setosa\",\"marker\":{\"color\":\"#636efa\",\"size\":[5.1,4.9,4.7,4.6,5.0,5.4,4.6,5.0,4.4,4.9,5.4,4.8,4.8,4.3,5.8,5.7,5.4,5.1,5.7,5.1,5.4,5.1,4.6,5.1,4.8,5.0,5.0,5.2,5.2,4.7,4.8,5.4,5.2,5.5,4.9,5.0,5.5,4.9,4.4,5.1,5.0,4.5,4.4,5.0,5.1,4.8,5.1,4.6,5.3,5.0],\"sizemode\":\"area\",\"sizeref\":0.01975,\"symbol\":\"circle\"},\"mode\":\"markers\",\"name\":\"setosa\",\"orientation\":\"v\",\"showlegend\":true,\"x\":[3.5,3.0,3.2,3.1,3.6,3.9,3.4,3.4,2.9,3.1,3.7,3.4,3.0,3.0,4.0,4.4,3.9,3.5,3.8,3.8,3.4,3.7,3.6,3.3,3.4,3.0,3.4,3.5,3.4,3.2,3.1,3.4,4.1,4.2,3.1,3.2,3.5,3.1,3.0,3.4,3.5,2.3,3.2,3.5,3.8,3.0,3.8,3.2,3.7,3.3],\"xaxis\":\"x\",\"y\":[5.1,4.9,4.7,4.6,5.0,5.4,4.6,5.0,4.4,4.9,5.4,4.8,4.8,4.3,5.8,5.7,5.4,5.1,5.7,5.1,5.4,5.1,4.6,5.1,4.8,5.0,5.0,5.2,5.2,4.7,4.8,5.4,5.2,5.5,4.9,5.0,5.5,4.9,4.4,5.1,5.0,4.5,4.4,5.0,5.1,4.8,5.1,4.6,5.3,5.0],\"yaxis\":\"y\",\"type\":\"scatter\"},{\"hovertemplate\":\"species=versicolor<br>sepal_width=%{x}<br>sepal_length=%{marker.size}<extra></extra>\",\"legendgroup\":\"versicolor\",\"marker\":{\"color\":\"#EF553B\",\"size\":[7.0,6.4,6.9,5.5,6.5,5.7,6.3,4.9,6.6,5.2,5.0,5.9,6.0,6.1,5.6,6.7,5.6,5.8,6.2,5.6,5.9,6.1,6.3,6.1,6.4,6.6,6.8,6.7,6.0,5.7,5.5,5.5,5.8,6.0,5.4,6.0,6.7,6.3,5.6,5.5,5.5,6.1,5.8,5.0,5.6,5.7,5.7,6.2,5.1,5.7],\"sizemode\":\"area\",\"sizeref\":0.01975,\"symbol\":\"circle\"},\"mode\":\"markers\",\"name\":\"versicolor\",\"orientation\":\"v\",\"showlegend\":true,\"x\":[3.2,3.2,3.1,2.3,2.8,2.8,3.3,2.4,2.9,2.7,2.0,3.0,2.2,2.9,2.9,3.1,3.0,2.7,2.2,2.5,3.2,2.8,2.5,2.8,2.9,3.0,2.8,3.0,2.9,2.6,2.4,2.4,2.7,2.7,3.0,3.4,3.1,2.3,3.0,2.5,2.6,3.0,2.6,2.3,2.7,3.0,2.9,2.9,2.5,2.8],\"xaxis\":\"x\",\"y\":[7.0,6.4,6.9,5.5,6.5,5.7,6.3,4.9,6.6,5.2,5.0,5.9,6.0,6.1,5.6,6.7,5.6,5.8,6.2,5.6,5.9,6.1,6.3,6.1,6.4,6.6,6.8,6.7,6.0,5.7,5.5,5.5,5.8,6.0,5.4,6.0,6.7,6.3,5.6,5.5,5.5,6.1,5.8,5.0,5.6,5.7,5.7,6.2,5.1,5.7],\"yaxis\":\"y\",\"type\":\"scatter\"},{\"hovertemplate\":\"species=virginica<br>sepal_width=%{x}<br>sepal_length=%{marker.size}<extra></extra>\",\"legendgroup\":\"virginica\",\"marker\":{\"color\":\"#00cc96\",\"size\":[6.3,5.8,7.1,6.3,6.5,7.6,4.9,7.3,6.7,7.2,6.5,6.4,6.8,5.7,5.8,6.4,6.5,7.7,7.7,6.0,6.9,5.6,7.7,6.3,6.7,7.2,6.2,6.1,6.4,7.2,7.4,7.9,6.4,6.3,6.1,7.7,6.3,6.4,6.0,6.9,6.7,6.9,5.8,6.8,6.7,6.7,6.3,6.5,6.2,5.9],\"sizemode\":\"area\",\"sizeref\":0.01975,\"symbol\":\"circle\"},\"mode\":\"markers\",\"name\":\"virginica\",\"orientation\":\"v\",\"showlegend\":true,\"x\":[3.3,2.7,3.0,2.9,3.0,3.0,2.5,2.9,2.5,3.6,3.2,2.7,3.0,2.5,2.8,3.2,3.0,3.8,2.6,2.2,3.2,2.8,2.8,2.7,3.3,3.2,2.8,3.0,2.8,3.0,2.8,3.8,2.8,2.8,2.6,3.0,3.4,3.1,3.0,3.1,3.1,3.1,2.7,3.2,3.3,3.0,2.5,3.0,3.4,3.0],\"xaxis\":\"x\",\"y\":[6.3,5.8,7.1,6.3,6.5,7.6,4.9,7.3,6.7,7.2,6.5,6.4,6.8,5.7,5.8,6.4,6.5,7.7,7.7,6.0,6.9,5.6,7.7,6.3,6.7,7.2,6.2,6.1,6.4,7.2,7.4,7.9,6.4,6.3,6.1,7.7,6.3,6.4,6.0,6.9,6.7,6.9,5.8,6.8,6.7,6.7,6.3,6.5,6.2,5.9],\"yaxis\":\"y\",\"type\":\"scatter\"}],                        {\"template\":{\"data\":{\"bar\":[{\"error_x\":{\"color\":\"#2a3f5f\"},\"error_y\":{\"color\":\"#2a3f5f\"},\"marker\":{\"line\":{\"color\":\"#E5ECF6\",\"width\":0.5},\"pattern\":{\"fillmode\":\"overlay\",\"size\":10,\"solidity\":0.2}},\"type\":\"bar\"}],\"barpolar\":[{\"marker\":{\"line\":{\"color\":\"#E5ECF6\",\"width\":0.5},\"pattern\":{\"fillmode\":\"overlay\",\"size\":10,\"solidity\":0.2}},\"type\":\"barpolar\"}],\"carpet\":[{\"aaxis\":{\"endlinecolor\":\"#2a3f5f\",\"gridcolor\":\"white\",\"linecolor\":\"white\",\"minorgridcolor\":\"white\",\"startlinecolor\":\"#2a3f5f\"},\"baxis\":{\"endlinecolor\":\"#2a3f5f\",\"gridcolor\":\"white\",\"linecolor\":\"white\",\"minorgridcolor\":\"white\",\"startlinecolor\":\"#2a3f5f\"},\"type\":\"carpet\"}],\"choropleth\":[{\"colorbar\":{\"outlinewidth\":0,\"ticks\":\"\"},\"type\":\"choropleth\"}],\"contour\":[{\"colorbar\":{\"outlinewidth\":0,\"ticks\":\"\"},\"colorscale\":[[0.0,\"#0d0887\"],[0.1111111111111111,\"#46039f\"],[0.2222222222222222,\"#7201a8\"],[0.3333333333333333,\"#9c179e\"],[0.4444444444444444,\"#bd3786\"],[0.5555555555555556,\"#d8576b\"],[0.6666666666666666,\"#ed7953\"],[0.7777777777777778,\"#fb9f3a\"],[0.8888888888888888,\"#fdca26\"],[1.0,\"#f0f921\"]],\"type\":\"contour\"}],\"contourcarpet\":[{\"colorbar\":{\"outlinewidth\":0,\"ticks\":\"\"},\"type\":\"contourcarpet\"}],\"heatmap\":[{\"colorbar\":{\"outlinewidth\":0,\"ticks\":\"\"},\"colorscale\":[[0.0,\"#0d0887\"],[0.1111111111111111,\"#46039f\"],[0.2222222222222222,\"#7201a8\"],[0.3333333333333333,\"#9c179e\"],[0.4444444444444444,\"#bd3786\"],[0.5555555555555556,\"#d8576b\"],[0.6666666666666666,\"#ed7953\"],[0.7777777777777778,\"#fb9f3a\"],[0.8888888888888888,\"#fdca26\"],[1.0,\"#f0f921\"]],\"type\":\"heatmap\"}],\"heatmapgl\":[{\"colorbar\":{\"outlinewidth\":0,\"ticks\":\"\"},\"colorscale\":[[0.0,\"#0d0887\"],[0.1111111111111111,\"#46039f\"],[0.2222222222222222,\"#7201a8\"],[0.3333333333333333,\"#9c179e\"],[0.4444444444444444,\"#bd3786\"],[0.5555555555555556,\"#d8576b\"],[0.6666666666666666,\"#ed7953\"],[0.7777777777777778,\"#fb9f3a\"],[0.8888888888888888,\"#fdca26\"],[1.0,\"#f0f921\"]],\"type\":\"heatmapgl\"}],\"histogram\":[{\"marker\":{\"pattern\":{\"fillmode\":\"overlay\",\"size\":10,\"solidity\":0.2}},\"type\":\"histogram\"}],\"histogram2d\":[{\"colorbar\":{\"outlinewidth\":0,\"ticks\":\"\"},\"colorscale\":[[0.0,\"#0d0887\"],[0.1111111111111111,\"#46039f\"],[0.2222222222222222,\"#7201a8\"],[0.3333333333333333,\"#9c179e\"],[0.4444444444444444,\"#bd3786\"],[0.5555555555555556,\"#d8576b\"],[0.6666666666666666,\"#ed7953\"],[0.7777777777777778,\"#fb9f3a\"],[0.8888888888888888,\"#fdca26\"],[1.0,\"#f0f921\"]],\"type\":\"histogram2d\"}],\"histogram2dcontour\":[{\"colorbar\":{\"outlinewidth\":0,\"ticks\":\"\"},\"colorscale\":[[0.0,\"#0d0887\"],[0.1111111111111111,\"#46039f\"],[0.2222222222222222,\"#7201a8\"],[0.3333333333333333,\"#9c179e\"],[0.4444444444444444,\"#bd3786\"],[0.5555555555555556,\"#d8576b\"],[0.6666666666666666,\"#ed7953\"],[0.7777777777777778,\"#fb9f3a\"],[0.8888888888888888,\"#fdca26\"],[1.0,\"#f0f921\"]],\"type\":\"histogram2dcontour\"}],\"mesh3d\":[{\"colorbar\":{\"outlinewidth\":0,\"ticks\":\"\"},\"type\":\"mesh3d\"}],\"parcoords\":[{\"line\":{\"colorbar\":{\"outlinewidth\":0,\"ticks\":\"\"}},\"type\":\"parcoords\"}],\"pie\":[{\"automargin\":true,\"type\":\"pie\"}],\"scatter\":[{\"marker\":{\"colorbar\":{\"outlinewidth\":0,\"ticks\":\"\"}},\"type\":\"scatter\"}],\"scatter3d\":[{\"line\":{\"colorbar\":{\"outlinewidth\":0,\"ticks\":\"\"}},\"marker\":{\"colorbar\":{\"outlinewidth\":0,\"ticks\":\"\"}},\"type\":\"scatter3d\"}],\"scattercarpet\":[{\"marker\":{\"colorbar\":{\"outlinewidth\":0,\"ticks\":\"\"}},\"type\":\"scattercarpet\"}],\"scattergeo\":[{\"marker\":{\"colorbar\":{\"outlinewidth\":0,\"ticks\":\"\"}},\"type\":\"scattergeo\"}],\"scattergl\":[{\"marker\":{\"colorbar\":{\"outlinewidth\":0,\"ticks\":\"\"}},\"type\":\"scattergl\"}],\"scattermapbox\":[{\"marker\":{\"colorbar\":{\"outlinewidth\":0,\"ticks\":\"\"}},\"type\":\"scattermapbox\"}],\"scatterpolar\":[{\"marker\":{\"colorbar\":{\"outlinewidth\":0,\"ticks\":\"\"}},\"type\":\"scatterpolar\"}],\"scatterpolargl\":[{\"marker\":{\"colorbar\":{\"outlinewidth\":0,\"ticks\":\"\"}},\"type\":\"scatterpolargl\"}],\"scatterternary\":[{\"marker\":{\"colorbar\":{\"outlinewidth\":0,\"ticks\":\"\"}},\"type\":\"scatterternary\"}],\"surface\":[{\"colorbar\":{\"outlinewidth\":0,\"ticks\":\"\"},\"colorscale\":[[0.0,\"#0d0887\"],[0.1111111111111111,\"#46039f\"],[0.2222222222222222,\"#7201a8\"],[0.3333333333333333,\"#9c179e\"],[0.4444444444444444,\"#bd3786\"],[0.5555555555555556,\"#d8576b\"],[0.6666666666666666,\"#ed7953\"],[0.7777777777777778,\"#fb9f3a\"],[0.8888888888888888,\"#fdca26\"],[1.0,\"#f0f921\"]],\"type\":\"surface\"}],\"table\":[{\"cells\":{\"fill\":{\"color\":\"#EBF0F8\"},\"line\":{\"color\":\"white\"}},\"header\":{\"fill\":{\"color\":\"#C8D4E3\"},\"line\":{\"color\":\"white\"}},\"type\":\"table\"}]},\"layout\":{\"annotationdefaults\":{\"arrowcolor\":\"#2a3f5f\",\"arrowhead\":0,\"arrowwidth\":1},\"autotypenumbers\":\"strict\",\"coloraxis\":{\"colorbar\":{\"outlinewidth\":0,\"ticks\":\"\"}},\"colorscale\":{\"diverging\":[[0,\"#8e0152\"],[0.1,\"#c51b7d\"],[0.2,\"#de77ae\"],[0.3,\"#f1b6da\"],[0.4,\"#fde0ef\"],[0.5,\"#f7f7f7\"],[0.6,\"#e6f5d0\"],[0.7,\"#b8e186\"],[0.8,\"#7fbc41\"],[0.9,\"#4d9221\"],[1,\"#276419\"]],\"sequential\":[[0.0,\"#0d0887\"],[0.1111111111111111,\"#46039f\"],[0.2222222222222222,\"#7201a8\"],[0.3333333333333333,\"#9c179e\"],[0.4444444444444444,\"#bd3786\"],[0.5555555555555556,\"#d8576b\"],[0.6666666666666666,\"#ed7953\"],[0.7777777777777778,\"#fb9f3a\"],[0.8888888888888888,\"#fdca26\"],[1.0,\"#f0f921\"]],\"sequentialminus\":[[0.0,\"#0d0887\"],[0.1111111111111111,\"#46039f\"],[0.2222222222222222,\"#7201a8\"],[0.3333333333333333,\"#9c179e\"],[0.4444444444444444,\"#bd3786\"],[0.5555555555555556,\"#d8576b\"],[0.6666666666666666,\"#ed7953\"],[0.7777777777777778,\"#fb9f3a\"],[0.8888888888888888,\"#fdca26\"],[1.0,\"#f0f921\"]]},\"colorway\":[\"#636efa\",\"#EF553B\",\"#00cc96\",\"#ab63fa\",\"#FFA15A\",\"#19d3f3\",\"#FF6692\",\"#B6E880\",\"#FF97FF\",\"#FECB52\"],\"font\":{\"color\":\"#2a3f5f\"},\"geo\":{\"bgcolor\":\"white\",\"lakecolor\":\"white\",\"landcolor\":\"#E5ECF6\",\"showlakes\":true,\"showland\":true,\"subunitcolor\":\"white\"},\"hoverlabel\":{\"align\":\"left\"},\"hovermode\":\"closest\",\"mapbox\":{\"style\":\"light\"},\"paper_bgcolor\":\"white\",\"plot_bgcolor\":\"#E5ECF6\",\"polar\":{\"angularaxis\":{\"gridcolor\":\"white\",\"linecolor\":\"white\",\"ticks\":\"\"},\"bgcolor\":\"#E5ECF6\",\"radialaxis\":{\"gridcolor\":\"white\",\"linecolor\":\"white\",\"ticks\":\"\"}},\"scene\":{\"xaxis\":{\"backgroundcolor\":\"#E5ECF6\",\"gridcolor\":\"white\",\"gridwidth\":2,\"linecolor\":\"white\",\"showbackground\":true,\"ticks\":\"\",\"zerolinecolor\":\"white\"},\"yaxis\":{\"backgroundcolor\":\"#E5ECF6\",\"gridcolor\":\"white\",\"gridwidth\":2,\"linecolor\":\"white\",\"showbackground\":true,\"ticks\":\"\",\"zerolinecolor\":\"white\"},\"zaxis\":{\"backgroundcolor\":\"#E5ECF6\",\"gridcolor\":\"white\",\"gridwidth\":2,\"linecolor\":\"white\",\"showbackground\":true,\"ticks\":\"\",\"zerolinecolor\":\"white\"}},\"shapedefaults\":{\"line\":{\"color\":\"#2a3f5f\"}},\"ternary\":{\"aaxis\":{\"gridcolor\":\"white\",\"linecolor\":\"white\",\"ticks\":\"\"},\"baxis\":{\"gridcolor\":\"white\",\"linecolor\":\"white\",\"ticks\":\"\"},\"bgcolor\":\"#E5ECF6\",\"caxis\":{\"gridcolor\":\"white\",\"linecolor\":\"white\",\"ticks\":\"\"}},\"title\":{\"x\":0.05},\"xaxis\":{\"automargin\":true,\"gridcolor\":\"white\",\"linecolor\":\"white\",\"ticks\":\"\",\"title\":{\"standoff\":15},\"zerolinecolor\":\"white\",\"zerolinewidth\":2},\"yaxis\":{\"automargin\":true,\"gridcolor\":\"white\",\"linecolor\":\"white\",\"ticks\":\"\",\"title\":{\"standoff\":15},\"zerolinecolor\":\"white\",\"zerolinewidth\":2}}},\"xaxis\":{\"anchor\":\"y\",\"domain\":[0.0,1.0],\"title\":{\"text\":\"sepal_width\"}},\"yaxis\":{\"anchor\":\"x\",\"domain\":[0.0,1.0],\"title\":{\"text\":\"sepal_length\"}},\"legend\":{\"title\":{\"text\":\"species\"},\"tracegroupgap\":0,\"itemsizing\":\"constant\"},\"margin\":{\"t\":60}},                        {\"responsive\": true}                    ).then(function(){\n",
              "                            \n",
              "var gd = document.getElementById('aefc6c98-e7b1-4bea-bc54-3d7ebce7b806');\n",
              "var x = new MutationObserver(function (mutations, observer) {{\n",
              "        var display = window.getComputedStyle(gd).display;\n",
              "        if (!display || display === 'none') {{\n",
              "            console.log([gd, 'removed!']);\n",
              "            Plotly.purge(gd);\n",
              "            observer.disconnect();\n",
              "        }}\n",
              "}});\n",
              "\n",
              "// Listen for the removal of the full notebook cells\n",
              "var notebookContainer = gd.closest('#notebook-container');\n",
              "if (notebookContainer) {{\n",
              "    x.observe(notebookContainer, {childList: true});\n",
              "}}\n",
              "\n",
              "// Listen for the clearing of the current output cell\n",
              "var outputEl = gd.closest('.output');\n",
              "if (outputEl) {{\n",
              "    x.observe(outputEl, {childList: true});\n",
              "}}\n",
              "\n",
              "                        })                };                            </script>        </div>\n",
              "</body>\n",
              "</html>"
            ]
          },
          "metadata": {}
        }
      ]
    },
    {
      "cell_type": "code",
      "source": [
        "!pip install bokeh"
      ],
      "metadata": {
        "colab": {
          "base_uri": "https://localhost:8080/"
        },
        "id": "fhbFboLNXC03",
        "outputId": "a461306f-ffcd-4c28-acce-ace09a542308"
      },
      "execution_count": 10,
      "outputs": [
        {
          "output_type": "stream",
          "name": "stdout",
          "text": [
            "Requirement already satisfied: bokeh in /usr/local/lib/python3.7/dist-packages (2.3.3)\n",
            "Requirement already satisfied: python-dateutil>=2.1 in /usr/local/lib/python3.7/dist-packages (from bokeh) (2.8.2)\n",
            "Requirement already satisfied: pillow>=7.1.0 in /usr/local/lib/python3.7/dist-packages (from bokeh) (7.1.2)\n",
            "Requirement already satisfied: packaging>=16.8 in /usr/local/lib/python3.7/dist-packages (from bokeh) (21.3)\n",
            "Requirement already satisfied: typing-extensions>=3.7.4 in /usr/local/lib/python3.7/dist-packages (from bokeh) (4.1.1)\n",
            "Requirement already satisfied: tornado>=5.1 in /usr/local/lib/python3.7/dist-packages (from bokeh) (5.1.1)\n",
            "Requirement already satisfied: PyYAML>=3.10 in /usr/local/lib/python3.7/dist-packages (from bokeh) (3.13)\n",
            "Requirement already satisfied: Jinja2>=2.9 in /usr/local/lib/python3.7/dist-packages (from bokeh) (2.11.3)\n",
            "Requirement already satisfied: numpy>=1.11.3 in /usr/local/lib/python3.7/dist-packages (from bokeh) (1.21.5)\n",
            "Requirement already satisfied: MarkupSafe>=0.23 in /usr/local/lib/python3.7/dist-packages (from Jinja2>=2.9->bokeh) (2.0.1)\n",
            "Requirement already satisfied: pyparsing!=3.0.5,>=2.0.2 in /usr/local/lib/python3.7/dist-packages (from packaging>=16.8->bokeh) (3.0.8)\n",
            "Requirement already satisfied: six>=1.5 in /usr/local/lib/python3.7/dist-packages (from python-dateutil>=2.1->bokeh) (1.15.0)\n"
          ]
        }
      ]
    },
    {
      "cell_type": "code",
      "source": [
        "from bokeh.plotting import figure, show, output_notebook\n",
        "output_notebook()"
      ],
      "metadata": {
        "id": "rGn3iK3JWwSC"
      },
      "execution_count": 7,
      "outputs": []
    },
    {
      "cell_type": "code",
      "source": [
        "p = figure()\n",
        "p.circle(data[\"sepal_width\"], data[\"sepal_length\"], fill_color=data[\"species\"], size=data[\"sepal_length\"])\n",
        "show(p)"
      ],
      "metadata": {
        "colab": {
          "base_uri": "https://localhost:8080/",
          "height": 617
        },
        "id": "IND-JPnsW5IL",
        "outputId": "e0628e23-0bf8-44c5-8248-896caec5f721"
      },
      "execution_count": 9,
      "outputs": [
        {
          "output_type": "display_data",
          "data": {
            "application/javascript": [
              "\n",
              "(function(root) {\n",
              "  function now() {\n",
              "    return new Date();\n",
              "  }\n",
              "\n",
              "  var force = true;\n",
              "\n",
              "  if (typeof root._bokeh_onload_callbacks === \"undefined\" || force === true) {\n",
              "    root._bokeh_onload_callbacks = [];\n",
              "    root._bokeh_is_loading = undefined;\n",
              "  }\n",
              "\n",
              "  var JS_MIME_TYPE = 'application/javascript';\n",
              "  var HTML_MIME_TYPE = 'text/html';\n",
              "  var EXEC_MIME_TYPE = 'application/vnd.bokehjs_exec.v0+json';\n",
              "  var CLASS_NAME = 'output_bokeh rendered_html';\n",
              "\n",
              "  /**\n",
              "   * Render data to the DOM node\n",
              "   */\n",
              "  function render(props, node) {\n",
              "    var script = document.createElement(\"script\");\n",
              "    node.appendChild(script);\n",
              "  }\n",
              "\n",
              "  /**\n",
              "   * Handle when an output is cleared or removed\n",
              "   */\n",
              "  function handleClearOutput(event, handle) {\n",
              "    var cell = handle.cell;\n",
              "\n",
              "    var id = cell.output_area._bokeh_element_id;\n",
              "    var server_id = cell.output_area._bokeh_server_id;\n",
              "    // Clean up Bokeh references\n",
              "    if (id != null && id in Bokeh.index) {\n",
              "      Bokeh.index[id].model.document.clear();\n",
              "      delete Bokeh.index[id];\n",
              "    }\n",
              "\n",
              "    if (server_id !== undefined) {\n",
              "      // Clean up Bokeh references\n",
              "      var cmd = \"from bokeh.io.state import curstate; print(curstate().uuid_to_server['\" + server_id + \"'].get_sessions()[0].document.roots[0]._id)\";\n",
              "      cell.notebook.kernel.execute(cmd, {\n",
              "        iopub: {\n",
              "          output: function(msg) {\n",
              "            var id = msg.content.text.trim();\n",
              "            if (id in Bokeh.index) {\n",
              "              Bokeh.index[id].model.document.clear();\n",
              "              delete Bokeh.index[id];\n",
              "            }\n",
              "          }\n",
              "        }\n",
              "      });\n",
              "      // Destroy server and session\n",
              "      var cmd = \"import bokeh.io.notebook as ion; ion.destroy_server('\" + server_id + \"')\";\n",
              "      cell.notebook.kernel.execute(cmd);\n",
              "    }\n",
              "  }\n",
              "\n",
              "  /**\n",
              "   * Handle when a new output is added\n",
              "   */\n",
              "  function handleAddOutput(event, handle) {\n",
              "    var output_area = handle.output_area;\n",
              "    var output = handle.output;\n",
              "\n",
              "    // limit handleAddOutput to display_data with EXEC_MIME_TYPE content only\n",
              "    if ((output.output_type != \"display_data\") || (!Object.prototype.hasOwnProperty.call(output.data, EXEC_MIME_TYPE))) {\n",
              "      return\n",
              "    }\n",
              "\n",
              "    var toinsert = output_area.element.find(\".\" + CLASS_NAME.split(' ')[0]);\n",
              "\n",
              "    if (output.metadata[EXEC_MIME_TYPE][\"id\"] !== undefined) {\n",
              "      toinsert[toinsert.length - 1].firstChild.textContent = output.data[JS_MIME_TYPE];\n",
              "      // store reference to embed id on output_area\n",
              "      output_area._bokeh_element_id = output.metadata[EXEC_MIME_TYPE][\"id\"];\n",
              "    }\n",
              "    if (output.metadata[EXEC_MIME_TYPE][\"server_id\"] !== undefined) {\n",
              "      var bk_div = document.createElement(\"div\");\n",
              "      bk_div.innerHTML = output.data[HTML_MIME_TYPE];\n",
              "      var script_attrs = bk_div.children[0].attributes;\n",
              "      for (var i = 0; i < script_attrs.length; i++) {\n",
              "        toinsert[toinsert.length - 1].firstChild.setAttribute(script_attrs[i].name, script_attrs[i].value);\n",
              "        toinsert[toinsert.length - 1].firstChild.textContent = bk_div.children[0].textContent\n",
              "      }\n",
              "      // store reference to server id on output_area\n",
              "      output_area._bokeh_server_id = output.metadata[EXEC_MIME_TYPE][\"server_id\"];\n",
              "    }\n",
              "  }\n",
              "\n",
              "  function register_renderer(events, OutputArea) {\n",
              "\n",
              "    function append_mime(data, metadata, element) {\n",
              "      // create a DOM node to render to\n",
              "      var toinsert = this.create_output_subarea(\n",
              "        metadata,\n",
              "        CLASS_NAME,\n",
              "        EXEC_MIME_TYPE\n",
              "      );\n",
              "      this.keyboard_manager.register_events(toinsert);\n",
              "      // Render to node\n",
              "      var props = {data: data, metadata: metadata[EXEC_MIME_TYPE]};\n",
              "      render(props, toinsert[toinsert.length - 1]);\n",
              "      element.append(toinsert);\n",
              "      return toinsert\n",
              "    }\n",
              "\n",
              "    /* Handle when an output is cleared or removed */\n",
              "    events.on('clear_output.CodeCell', handleClearOutput);\n",
              "    events.on('delete.Cell', handleClearOutput);\n",
              "\n",
              "    /* Handle when a new output is added */\n",
              "    events.on('output_added.OutputArea', handleAddOutput);\n",
              "\n",
              "    /**\n",
              "     * Register the mime type and append_mime function with output_area\n",
              "     */\n",
              "    OutputArea.prototype.register_mime_type(EXEC_MIME_TYPE, append_mime, {\n",
              "      /* Is output safe? */\n",
              "      safe: true,\n",
              "      /* Index of renderer in `output_area.display_order` */\n",
              "      index: 0\n",
              "    });\n",
              "  }\n",
              "\n",
              "  // register the mime type if in Jupyter Notebook environment and previously unregistered\n",
              "  if (root.Jupyter !== undefined) {\n",
              "    var events = require('base/js/events');\n",
              "    var OutputArea = require('notebook/js/outputarea').OutputArea;\n",
              "\n",
              "    if (OutputArea.prototype.mime_types().indexOf(EXEC_MIME_TYPE) == -1) {\n",
              "      register_renderer(events, OutputArea);\n",
              "    }\n",
              "  }\n",
              "\n",
              "  \n",
              "  if (typeof (root._bokeh_timeout) === \"undefined\" || force === true) {\n",
              "    root._bokeh_timeout = Date.now() + 5000;\n",
              "    root._bokeh_failed_load = false;\n",
              "  }\n",
              "\n",
              "  var NB_LOAD_WARNING = {'data': {'text/html':\n",
              "     \"<div style='background-color: #fdd'>\\n\"+\n",
              "     \"<p>\\n\"+\n",
              "     \"BokehJS does not appear to have successfully loaded. If loading BokehJS from CDN, this \\n\"+\n",
              "     \"may be due to a slow or bad network connection. Possible fixes:\\n\"+\n",
              "     \"</p>\\n\"+\n",
              "     \"<ul>\\n\"+\n",
              "     \"<li>re-rerun `output_notebook()` to attempt to load from CDN again, or</li>\\n\"+\n",
              "     \"<li>use INLINE resources instead, as so:</li>\\n\"+\n",
              "     \"</ul>\\n\"+\n",
              "     \"<code>\\n\"+\n",
              "     \"from bokeh.resources import INLINE\\n\"+\n",
              "     \"output_notebook(resources=INLINE)\\n\"+\n",
              "     \"</code>\\n\"+\n",
              "     \"</div>\"}};\n",
              "\n",
              "  function display_loaded() {\n",
              "    var el = document.getElementById(null);\n",
              "    if (el != null) {\n",
              "      el.textContent = \"BokehJS is loading...\";\n",
              "    }\n",
              "    if (root.Bokeh !== undefined) {\n",
              "      if (el != null) {\n",
              "        el.textContent = \"BokehJS \" + root.Bokeh.version + \" successfully loaded.\";\n",
              "      }\n",
              "    } else if (Date.now() < root._bokeh_timeout) {\n",
              "      setTimeout(display_loaded, 100)\n",
              "    }\n",
              "  }\n",
              "\n",
              "\n",
              "  function run_callbacks() {\n",
              "    try {\n",
              "      root._bokeh_onload_callbacks.forEach(function(callback) {\n",
              "        if (callback != null)\n",
              "          callback();\n",
              "      });\n",
              "    } finally {\n",
              "      delete root._bokeh_onload_callbacks\n",
              "    }\n",
              "    console.debug(\"Bokeh: all callbacks have finished\");\n",
              "  }\n",
              "\n",
              "  function load_libs(css_urls, js_urls, callback) {\n",
              "    if (css_urls == null) css_urls = [];\n",
              "    if (js_urls == null) js_urls = [];\n",
              "\n",
              "    root._bokeh_onload_callbacks.push(callback);\n",
              "    if (root._bokeh_is_loading > 0) {\n",
              "      console.debug(\"Bokeh: BokehJS is being loaded, scheduling callback at\", now());\n",
              "      return null;\n",
              "    }\n",
              "    if (js_urls == null || js_urls.length === 0) {\n",
              "      run_callbacks();\n",
              "      return null;\n",
              "    }\n",
              "    console.debug(\"Bokeh: BokehJS not loaded, scheduling load and callback at\", now());\n",
              "    root._bokeh_is_loading = css_urls.length + js_urls.length;\n",
              "\n",
              "    function on_load() {\n",
              "      root._bokeh_is_loading--;\n",
              "      if (root._bokeh_is_loading === 0) {\n",
              "        console.debug(\"Bokeh: all BokehJS libraries/stylesheets loaded\");\n",
              "        run_callbacks()\n",
              "      }\n",
              "    }\n",
              "\n",
              "    function on_error(url) {\n",
              "      console.error(\"failed to load \" + url);\n",
              "    }\n",
              "\n",
              "    for (let i = 0; i < css_urls.length; i++) {\n",
              "      const url = css_urls[i];\n",
              "      const element = document.createElement(\"link\");\n",
              "      element.onload = on_load;\n",
              "      element.onerror = on_error.bind(null, url);\n",
              "      element.rel = \"stylesheet\";\n",
              "      element.type = \"text/css\";\n",
              "      element.href = url;\n",
              "      console.debug(\"Bokeh: injecting link tag for BokehJS stylesheet: \", url);\n",
              "      document.body.appendChild(element);\n",
              "    }\n",
              "\n",
              "    const hashes = {\"https://cdn.bokeh.org/bokeh/release/bokeh-2.3.3.min.js\": \"dM3QQsP+wXdHg42wTqW85BjZQdLNNIXqlPw/BgKoExPmTG7ZLML4EGqLMfqHT6ON\", \"https://cdn.bokeh.org/bokeh/release/bokeh-tables-2.3.3.min.js\": \"8x57I4YuIfu8XyZfFo0XVr2WAT8EK4rh/uDe3wF7YuW2FNUSNEpJbsPaB1nJ2fz2\", \"https://cdn.bokeh.org/bokeh/release/bokeh-widgets-2.3.3.min.js\": \"3QTqdz9LyAm2i0sG5XTePsHec3UHWwVsrOL68SYRoAXsafvfAyqtQ+h440+qIBhS\"};\n",
              "\n",
              "    for (let i = 0; i < js_urls.length; i++) {\n",
              "      const url = js_urls[i];\n",
              "      const element = document.createElement('script');\n",
              "      element.onload = on_load;\n",
              "      element.onerror = on_error.bind(null, url);\n",
              "      element.async = false;\n",
              "      element.src = url;\n",
              "      if (url in hashes) {\n",
              "        element.crossOrigin = \"anonymous\";\n",
              "        element.integrity = \"sha384-\" + hashes[url];\n",
              "      }\n",
              "      console.debug(\"Bokeh: injecting script tag for BokehJS library: \", url);\n",
              "      document.head.appendChild(element);\n",
              "    }\n",
              "  };\n",
              "\n",
              "  function inject_raw_css(css) {\n",
              "    const element = document.createElement(\"style\");\n",
              "    element.appendChild(document.createTextNode(css));\n",
              "    document.body.appendChild(element);\n",
              "  }\n",
              "\n",
              "  \n",
              "  var js_urls = [\"https://cdn.bokeh.org/bokeh/release/bokeh-2.3.3.min.js\", \"https://cdn.bokeh.org/bokeh/release/bokeh-widgets-2.3.3.min.js\", \"https://cdn.bokeh.org/bokeh/release/bokeh-tables-2.3.3.min.js\"];\n",
              "  var css_urls = [];\n",
              "  \n",
              "\n",
              "  var inline_js = [\n",
              "    function(Bokeh) {\n",
              "      Bokeh.set_log_level(\"info\");\n",
              "    },\n",
              "    function(Bokeh) {\n",
              "    \n",
              "    \n",
              "    }\n",
              "  ];\n",
              "\n",
              "  function run_inline_js() {\n",
              "    \n",
              "    if (root.Bokeh !== undefined || force === true) {\n",
              "      \n",
              "    for (var i = 0; i < inline_js.length; i++) {\n",
              "      inline_js[i].call(root, root.Bokeh);\n",
              "    }\n",
              "    } else if (Date.now() < root._bokeh_timeout) {\n",
              "      setTimeout(run_inline_js, 100);\n",
              "    } else if (!root._bokeh_failed_load) {\n",
              "      console.log(\"Bokeh: BokehJS failed to load within specified timeout.\");\n",
              "      root._bokeh_failed_load = true;\n",
              "    } else if (force !== true) {\n",
              "      var cell = $(document.getElementById(null)).parents('.cell').data().cell;\n",
              "      cell.output_area.append_execute_result(NB_LOAD_WARNING)\n",
              "    }\n",
              "\n",
              "  }\n",
              "\n",
              "  if (root._bokeh_is_loading === 0) {\n",
              "    console.debug(\"Bokeh: BokehJS loaded, going straight to plotting\");\n",
              "    run_inline_js();\n",
              "  } else {\n",
              "    load_libs(css_urls, js_urls, function() {\n",
              "      console.debug(\"Bokeh: BokehJS plotting callback run at\", now());\n",
              "      run_inline_js();\n",
              "    });\n",
              "  }\n",
              "}(window));"
            ],
            "application/vnd.bokehjs_load.v0+json": "\n(function(root) {\n  function now() {\n    return new Date();\n  }\n\n  var force = true;\n\n  if (typeof root._bokeh_onload_callbacks === \"undefined\" || force === true) {\n    root._bokeh_onload_callbacks = [];\n    root._bokeh_is_loading = undefined;\n  }\n\n  \n\n  \n  if (typeof (root._bokeh_timeout) === \"undefined\" || force === true) {\n    root._bokeh_timeout = Date.now() + 5000;\n    root._bokeh_failed_load = false;\n  }\n\n  var NB_LOAD_WARNING = {'data': {'text/html':\n     \"<div style='background-color: #fdd'>\\n\"+\n     \"<p>\\n\"+\n     \"BokehJS does not appear to have successfully loaded. If loading BokehJS from CDN, this \\n\"+\n     \"may be due to a slow or bad network connection. Possible fixes:\\n\"+\n     \"</p>\\n\"+\n     \"<ul>\\n\"+\n     \"<li>re-rerun `output_notebook()` to attempt to load from CDN again, or</li>\\n\"+\n     \"<li>use INLINE resources instead, as so:</li>\\n\"+\n     \"</ul>\\n\"+\n     \"<code>\\n\"+\n     \"from bokeh.resources import INLINE\\n\"+\n     \"output_notebook(resources=INLINE)\\n\"+\n     \"</code>\\n\"+\n     \"</div>\"}};\n\n  function display_loaded() {\n    var el = document.getElementById(null);\n    if (el != null) {\n      el.textContent = \"BokehJS is loading...\";\n    }\n    if (root.Bokeh !== undefined) {\n      if (el != null) {\n        el.textContent = \"BokehJS \" + root.Bokeh.version + \" successfully loaded.\";\n      }\n    } else if (Date.now() < root._bokeh_timeout) {\n      setTimeout(display_loaded, 100)\n    }\n  }\n\n\n  function run_callbacks() {\n    try {\n      root._bokeh_onload_callbacks.forEach(function(callback) {\n        if (callback != null)\n          callback();\n      });\n    } finally {\n      delete root._bokeh_onload_callbacks\n    }\n    console.debug(\"Bokeh: all callbacks have finished\");\n  }\n\n  function load_libs(css_urls, js_urls, callback) {\n    if (css_urls == null) css_urls = [];\n    if (js_urls == null) js_urls = [];\n\n    root._bokeh_onload_callbacks.push(callback);\n    if (root._bokeh_is_loading > 0) {\n      console.debug(\"Bokeh: BokehJS is being loaded, scheduling callback at\", now());\n      return null;\n    }\n    if (js_urls == null || js_urls.length === 0) {\n      run_callbacks();\n      return null;\n    }\n    console.debug(\"Bokeh: BokehJS not loaded, scheduling load and callback at\", now());\n    root._bokeh_is_loading = css_urls.length + js_urls.length;\n\n    function on_load() {\n      root._bokeh_is_loading--;\n      if (root._bokeh_is_loading === 0) {\n        console.debug(\"Bokeh: all BokehJS libraries/stylesheets loaded\");\n        run_callbacks()\n      }\n    }\n\n    function on_error(url) {\n      console.error(\"failed to load \" + url);\n    }\n\n    for (let i = 0; i < css_urls.length; i++) {\n      const url = css_urls[i];\n      const element = document.createElement(\"link\");\n      element.onload = on_load;\n      element.onerror = on_error.bind(null, url);\n      element.rel = \"stylesheet\";\n      element.type = \"text/css\";\n      element.href = url;\n      console.debug(\"Bokeh: injecting link tag for BokehJS stylesheet: \", url);\n      document.body.appendChild(element);\n    }\n\n    const hashes = {\"https://cdn.bokeh.org/bokeh/release/bokeh-2.3.3.min.js\": \"dM3QQsP+wXdHg42wTqW85BjZQdLNNIXqlPw/BgKoExPmTG7ZLML4EGqLMfqHT6ON\", \"https://cdn.bokeh.org/bokeh/release/bokeh-tables-2.3.3.min.js\": \"8x57I4YuIfu8XyZfFo0XVr2WAT8EK4rh/uDe3wF7YuW2FNUSNEpJbsPaB1nJ2fz2\", \"https://cdn.bokeh.org/bokeh/release/bokeh-widgets-2.3.3.min.js\": \"3QTqdz9LyAm2i0sG5XTePsHec3UHWwVsrOL68SYRoAXsafvfAyqtQ+h440+qIBhS\"};\n\n    for (let i = 0; i < js_urls.length; i++) {\n      const url = js_urls[i];\n      const element = document.createElement('script');\n      element.onload = on_load;\n      element.onerror = on_error.bind(null, url);\n      element.async = false;\n      element.src = url;\n      if (url in hashes) {\n        element.crossOrigin = \"anonymous\";\n        element.integrity = \"sha384-\" + hashes[url];\n      }\n      console.debug(\"Bokeh: injecting script tag for BokehJS library: \", url);\n      document.head.appendChild(element);\n    }\n  };\n\n  function inject_raw_css(css) {\n    const element = document.createElement(\"style\");\n    element.appendChild(document.createTextNode(css));\n    document.body.appendChild(element);\n  }\n\n  \n  var js_urls = [\"https://cdn.bokeh.org/bokeh/release/bokeh-2.3.3.min.js\", \"https://cdn.bokeh.org/bokeh/release/bokeh-widgets-2.3.3.min.js\", \"https://cdn.bokeh.org/bokeh/release/bokeh-tables-2.3.3.min.js\"];\n  var css_urls = [];\n  \n\n  var inline_js = [\n    function(Bokeh) {\n      Bokeh.set_log_level(\"info\");\n    },\n    function(Bokeh) {\n    \n    \n    }\n  ];\n\n  function run_inline_js() {\n    \n    if (root.Bokeh !== undefined || force === true) {\n      \n    for (var i = 0; i < inline_js.length; i++) {\n      inline_js[i].call(root, root.Bokeh);\n    }\n    } else if (Date.now() < root._bokeh_timeout) {\n      setTimeout(run_inline_js, 100);\n    } else if (!root._bokeh_failed_load) {\n      console.log(\"Bokeh: BokehJS failed to load within specified timeout.\");\n      root._bokeh_failed_load = true;\n    } else if (force !== true) {\n      var cell = $(document.getElementById(null)).parents('.cell').data().cell;\n      cell.output_area.append_execute_result(NB_LOAD_WARNING)\n    }\n\n  }\n\n  if (root._bokeh_is_loading === 0) {\n    console.debug(\"Bokeh: BokehJS loaded, going straight to plotting\");\n    run_inline_js();\n  } else {\n    load_libs(css_urls, js_urls, function() {\n      console.debug(\"Bokeh: BokehJS plotting callback run at\", now());\n      run_inline_js();\n    });\n  }\n}(window));"
          },
          "metadata": {}
        },
        {
          "output_type": "display_data",
          "data": {
            "text/html": [
              "\n",
              "\n",
              "\n",
              "\n",
              "\n",
              "\n",
              "  <div class=\"bk-root\" id=\"f28d9d3b-be68-4a18-93cf-06b9561e00e2\" data-root-id=\"1104\"></div>\n"
            ]
          },
          "metadata": {}
        },
        {
          "output_type": "display_data",
          "data": {
            "application/javascript": [
              "(function(root) {\n",
              "  function embed_document(root) {\n",
              "    \n",
              "  var docs_json = {\"8b46663c-0919-4907-bb46-33aa05ccc5d0\":{\"defs\":[],\"roots\":{\"references\":[{\"attributes\":{\"below\":[{\"id\":\"1113\"}],\"center\":[{\"id\":\"1116\"},{\"id\":\"1120\"}],\"left\":[{\"id\":\"1117\"}],\"renderers\":[{\"id\":\"1138\"}],\"title\":{\"id\":\"1152\"},\"toolbar\":{\"id\":\"1128\"},\"x_range\":{\"id\":\"1105\"},\"x_scale\":{\"id\":\"1109\"},\"y_range\":{\"id\":\"1107\"},\"y_scale\":{\"id\":\"1111\"}},\"id\":\"1104\",\"subtype\":\"Figure\",\"type\":\"Plot\"},{\"attributes\":{\"formatter\":{\"id\":\"1158\"},\"major_label_policy\":{\"id\":\"1157\"},\"ticker\":{\"id\":\"1118\"}},\"id\":\"1117\",\"type\":\"LinearAxis\"},{\"attributes\":{},\"id\":\"1152\",\"type\":\"Title\"},{\"attributes\":{\"data\":{\"fill_color\":[\"setosa\",\"setosa\",\"setosa\",\"setosa\",\"setosa\",\"setosa\",\"setosa\",\"setosa\",\"setosa\",\"setosa\",\"setosa\",\"setosa\",\"setosa\",\"setosa\",\"setosa\",\"setosa\",\"setosa\",\"setosa\",\"setosa\",\"setosa\",\"setosa\",\"setosa\",\"setosa\",\"setosa\",\"setosa\",\"setosa\",\"setosa\",\"setosa\",\"setosa\",\"setosa\",\"setosa\",\"setosa\",\"setosa\",\"setosa\",\"setosa\",\"setosa\",\"setosa\",\"setosa\",\"setosa\",\"setosa\",\"setosa\",\"setosa\",\"setosa\",\"setosa\",\"setosa\",\"setosa\",\"setosa\",\"setosa\",\"setosa\",\"setosa\",\"versicolor\",\"versicolor\",\"versicolor\",\"versicolor\",\"versicolor\",\"versicolor\",\"versicolor\",\"versicolor\",\"versicolor\",\"versicolor\",\"versicolor\",\"versicolor\",\"versicolor\",\"versicolor\",\"versicolor\",\"versicolor\",\"versicolor\",\"versicolor\",\"versicolor\",\"versicolor\",\"versicolor\",\"versicolor\",\"versicolor\",\"versicolor\",\"versicolor\",\"versicolor\",\"versicolor\",\"versicolor\",\"versicolor\",\"versicolor\",\"versicolor\",\"versicolor\",\"versicolor\",\"versicolor\",\"versicolor\",\"versicolor\",\"versicolor\",\"versicolor\",\"versicolor\",\"versicolor\",\"versicolor\",\"versicolor\",\"versicolor\",\"versicolor\",\"versicolor\",\"versicolor\",\"versicolor\",\"versicolor\",\"versicolor\",\"versicolor\",\"virginica\",\"virginica\",\"virginica\",\"virginica\",\"virginica\",\"virginica\",\"virginica\",\"virginica\",\"virginica\",\"virginica\",\"virginica\",\"virginica\",\"virginica\",\"virginica\",\"virginica\",\"virginica\",\"virginica\",\"virginica\",\"virginica\",\"virginica\",\"virginica\",\"virginica\",\"virginica\",\"virginica\",\"virginica\",\"virginica\",\"virginica\",\"virginica\",\"virginica\",\"virginica\",\"virginica\",\"virginica\",\"virginica\",\"virginica\",\"virginica\",\"virginica\",\"virginica\",\"virginica\",\"virginica\",\"virginica\",\"virginica\",\"virginica\",\"virginica\",\"virginica\",\"virginica\",\"virginica\",\"virginica\",\"virginica\",\"virginica\",\"virginica\"],\"size\":{\"__ndarray__\":\"ZmZmZmZmFECamZmZmZkTQM3MzMzMzBJAZmZmZmZmEkAAAAAAAAAUQJqZmZmZmRVAZmZmZmZmEkAAAAAAAAAUQJqZmZmZmRFAmpmZmZmZE0CamZmZmZkVQDMzMzMzMxNAMzMzMzMzE0AzMzMzMzMRQDMzMzMzMxdAzczMzMzMFkCamZmZmZkVQGZmZmZmZhRAzczMzMzMFkBmZmZmZmYUQJqZmZmZmRVAZmZmZmZmFEBmZmZmZmYSQGZmZmZmZhRAMzMzMzMzE0AAAAAAAAAUQAAAAAAAABRAzczMzMzMFEDNzMzMzMwUQM3MzMzMzBJAMzMzMzMzE0CamZmZmZkVQM3MzMzMzBRAAAAAAAAAFkCamZmZmZkTQAAAAAAAABRAAAAAAAAAFkCamZmZmZkTQJqZmZmZmRFAZmZmZmZmFEAAAAAAAAAUQAAAAAAAABJAmpmZmZmZEUAAAAAAAAAUQGZmZmZmZhRAMzMzMzMzE0BmZmZmZmYUQGZmZmZmZhJAMzMzMzMzFUAAAAAAAAAUQAAAAAAAABxAmpmZmZmZGUCamZmZmZkbQAAAAAAAABZAAAAAAAAAGkDNzMzMzMwWQDMzMzMzMxlAmpmZmZmZE0BmZmZmZmYaQM3MzMzMzBRAAAAAAAAAFECamZmZmZkXQAAAAAAAABhAZmZmZmZmGEBmZmZmZmYWQM3MzMzMzBpAZmZmZmZmFkAzMzMzMzMXQM3MzMzMzBhAZmZmZmZmFkCamZmZmZkXQGZmZmZmZhhAMzMzMzMzGUBmZmZmZmYYQJqZmZmZmRlAZmZmZmZmGkAzMzMzMzMbQM3MzMzMzBpAAAAAAAAAGEDNzMzMzMwWQAAAAAAAABZAAAAAAAAAFkAzMzMzMzMXQAAAAAAAABhAmpmZmZmZFUAAAAAAAAAYQM3MzMzMzBpAMzMzMzMzGUBmZmZmZmYWQAAAAAAAABZAAAAAAAAAFkBmZmZmZmYYQDMzMzMzMxdAAAAAAAAAFEBmZmZmZmYWQM3MzMzMzBZAzczMzMzMFkDNzMzMzMwYQGZmZmZmZhRAzczMzMzMFkAzMzMzMzMZQDMzMzMzMxdAZmZmZmZmHEAzMzMzMzMZQAAAAAAAABpAZmZmZmZmHkCamZmZmZkTQDMzMzMzMx1AzczMzMzMGkDNzMzMzMwcQAAAAAAAABpAmpmZmZmZGUAzMzMzMzMbQM3MzMzMzBZAMzMzMzMzF0CamZmZmZkZQAAAAAAAABpAzczMzMzMHkDNzMzMzMweQAAAAAAAABhAmpmZmZmZG0BmZmZmZmYWQM3MzMzMzB5AMzMzMzMzGUDNzMzMzMwaQM3MzMzMzBxAzczMzMzMGEBmZmZmZmYYQJqZmZmZmRlAzczMzMzMHECamZmZmZkdQJqZmZmZmR9AmpmZmZmZGUAzMzMzMzMZQGZmZmZmZhhAzczMzMzMHkAzMzMzMzMZQJqZmZmZmRlAAAAAAAAAGECamZmZmZkbQM3MzMzMzBpAmpmZmZmZG0AzMzMzMzMXQDMzMzMzMxtAzczMzMzMGkDNzMzMzMwaQDMzMzMzMxlAAAAAAAAAGkDNzMzMzMwYQJqZmZmZmRdA\",\"dtype\":\"float64\",\"order\":\"little\",\"shape\":[150]},\"x\":{\"__ndarray__\":\"AAAAAAAADEAAAAAAAAAIQJqZmZmZmQlAzczMzMzMCEDNzMzMzMwMQDMzMzMzMw9AMzMzMzMzC0AzMzMzMzMLQDMzMzMzMwdAzczMzMzMCECamZmZmZkNQDMzMzMzMwtAAAAAAAAACEAAAAAAAAAIQAAAAAAAABBAmpmZmZmZEUAzMzMzMzMPQAAAAAAAAAxAZmZmZmZmDkBmZmZmZmYOQDMzMzMzMwtAmpmZmZmZDUDNzMzMzMwMQGZmZmZmZgpAMzMzMzMzC0AAAAAAAAAIQDMzMzMzMwtAAAAAAAAADEAzMzMzMzMLQJqZmZmZmQlAzczMzMzMCEAzMzMzMzMLQGZmZmZmZhBAzczMzMzMEEDNzMzMzMwIQJqZmZmZmQlAAAAAAAAADEDNzMzMzMwIQAAAAAAAAAhAMzMzMzMzC0AAAAAAAAAMQGZmZmZmZgJAmpmZmZmZCUAAAAAAAAAMQGZmZmZmZg5AAAAAAAAACEBmZmZmZmYOQJqZmZmZmQlAmpmZmZmZDUBmZmZmZmYKQJqZmZmZmQlAmpmZmZmZCUDNzMzMzMwIQGZmZmZmZgJAZmZmZmZmBkBmZmZmZmYGQGZmZmZmZgpAMzMzMzMzA0AzMzMzMzMHQJqZmZmZmQVAAAAAAAAAAEAAAAAAAAAIQJqZmZmZmQFAMzMzMzMzB0AzMzMzMzMHQM3MzMzMzAhAAAAAAAAACECamZmZmZkFQJqZmZmZmQFAAAAAAAAABECamZmZmZkJQGZmZmZmZgZAAAAAAAAABEBmZmZmZmYGQDMzMzMzMwdAAAAAAAAACEBmZmZmZmYGQAAAAAAAAAhAMzMzMzMzB0DNzMzMzMwEQDMzMzMzMwNAMzMzMzMzA0CamZmZmZkFQJqZmZmZmQVAAAAAAAAACEAzMzMzMzMLQM3MzMzMzAhAZmZmZmZmAkAAAAAAAAAIQAAAAAAAAARAzczMzMzMBEAAAAAAAAAIQM3MzMzMzARAZmZmZmZmAkCamZmZmZkFQAAAAAAAAAhAMzMzMzMzB0AzMzMzMzMHQAAAAAAAAARAZmZmZmZmBkBmZmZmZmYKQJqZmZmZmQVAAAAAAAAACEAzMzMzMzMHQAAAAAAAAAhAAAAAAAAACEAAAAAAAAAEQDMzMzMzMwdAAAAAAAAABEDNzMzMzMwMQJqZmZmZmQlAmpmZmZmZBUAAAAAAAAAIQAAAAAAAAARAZmZmZmZmBkCamZmZmZkJQAAAAAAAAAhAZmZmZmZmDkDNzMzMzMwEQJqZmZmZmQFAmpmZmZmZCUBmZmZmZmYGQGZmZmZmZgZAmpmZmZmZBUBmZmZmZmYKQJqZmZmZmQlAZmZmZmZmBkAAAAAAAAAIQGZmZmZmZgZAAAAAAAAACEBmZmZmZmYGQGZmZmZmZg5AZmZmZmZmBkBmZmZmZmYGQM3MzMzMzARAAAAAAAAACEAzMzMzMzMLQM3MzMzMzAhAAAAAAAAACEDNzMzMzMwIQM3MzMzMzAhAzczMzMzMCECamZmZmZkFQJqZmZmZmQlAZmZmZmZmCkAAAAAAAAAIQAAAAAAAAARAAAAAAAAACEAzMzMzMzMLQAAAAAAAAAhA\",\"dtype\":\"float64\",\"order\":\"little\",\"shape\":[150]},\"y\":{\"__ndarray__\":\"ZmZmZmZmFECamZmZmZkTQM3MzMzMzBJAZmZmZmZmEkAAAAAAAAAUQJqZmZmZmRVAZmZmZmZmEkAAAAAAAAAUQJqZmZmZmRFAmpmZmZmZE0CamZmZmZkVQDMzMzMzMxNAMzMzMzMzE0AzMzMzMzMRQDMzMzMzMxdAzczMzMzMFkCamZmZmZkVQGZmZmZmZhRAzczMzMzMFkBmZmZmZmYUQJqZmZmZmRVAZmZmZmZmFEBmZmZmZmYSQGZmZmZmZhRAMzMzMzMzE0AAAAAAAAAUQAAAAAAAABRAzczMzMzMFEDNzMzMzMwUQM3MzMzMzBJAMzMzMzMzE0CamZmZmZkVQM3MzMzMzBRAAAAAAAAAFkCamZmZmZkTQAAAAAAAABRAAAAAAAAAFkCamZmZmZkTQJqZmZmZmRFAZmZmZmZmFEAAAAAAAAAUQAAAAAAAABJAmpmZmZmZEUAAAAAAAAAUQGZmZmZmZhRAMzMzMzMzE0BmZmZmZmYUQGZmZmZmZhJAMzMzMzMzFUAAAAAAAAAUQAAAAAAAABxAmpmZmZmZGUCamZmZmZkbQAAAAAAAABZAAAAAAAAAGkDNzMzMzMwWQDMzMzMzMxlAmpmZmZmZE0BmZmZmZmYaQM3MzMzMzBRAAAAAAAAAFECamZmZmZkXQAAAAAAAABhAZmZmZmZmGEBmZmZmZmYWQM3MzMzMzBpAZmZmZmZmFkAzMzMzMzMXQM3MzMzMzBhAZmZmZmZmFkCamZmZmZkXQGZmZmZmZhhAMzMzMzMzGUBmZmZmZmYYQJqZmZmZmRlAZmZmZmZmGkAzMzMzMzMbQM3MzMzMzBpAAAAAAAAAGEDNzMzMzMwWQAAAAAAAABZAAAAAAAAAFkAzMzMzMzMXQAAAAAAAABhAmpmZmZmZFUAAAAAAAAAYQM3MzMzMzBpAMzMzMzMzGUBmZmZmZmYWQAAAAAAAABZAAAAAAAAAFkBmZmZmZmYYQDMzMzMzMxdAAAAAAAAAFEBmZmZmZmYWQM3MzMzMzBZAzczMzMzMFkDNzMzMzMwYQGZmZmZmZhRAzczMzMzMFkAzMzMzMzMZQDMzMzMzMxdAZmZmZmZmHEAzMzMzMzMZQAAAAAAAABpAZmZmZmZmHkCamZmZmZkTQDMzMzMzMx1AzczMzMzMGkDNzMzMzMwcQAAAAAAAABpAmpmZmZmZGUAzMzMzMzMbQM3MzMzMzBZAMzMzMzMzF0CamZmZmZkZQAAAAAAAABpAzczMzMzMHkDNzMzMzMweQAAAAAAAABhAmpmZmZmZG0BmZmZmZmYWQM3MzMzMzB5AMzMzMzMzGUDNzMzMzMwaQM3MzMzMzBxAzczMzMzMGEBmZmZmZmYYQJqZmZmZmRlAzczMzMzMHECamZmZmZkdQJqZmZmZmR9AmpmZmZmZGUAzMzMzMzMZQGZmZmZmZhhAzczMzMzMHkAzMzMzMzMZQJqZmZmZmRlAAAAAAAAAGECamZmZmZkbQM3MzMzMzBpAmpmZmZmZG0AzMzMzMzMXQDMzMzMzMxtAzczMzMzMGkDNzMzMzMwaQDMzMzMzMxlAAAAAAAAAGkDNzMzMzMwYQJqZmZmZmRdA\",\"dtype\":\"float64\",\"order\":\"little\",\"shape\":[150]}},\"selected\":{\"id\":\"1161\"},\"selection_policy\":{\"id\":\"1160\"}},\"id\":\"1135\",\"type\":\"ColumnDataSource\"},{\"attributes\":{},\"id\":\"1160\",\"type\":\"UnionRenderers\"},{\"attributes\":{},\"id\":\"1109\",\"type\":\"LinearScale\"},{\"attributes\":{},\"id\":\"1105\",\"type\":\"DataRange1d\"},{\"attributes\":{},\"id\":\"1157\",\"type\":\"AllLabels\"},{\"attributes\":{\"formatter\":{\"id\":\"1155\"},\"major_label_policy\":{\"id\":\"1154\"},\"ticker\":{\"id\":\"1114\"}},\"id\":\"1113\",\"type\":\"LinearAxis\"},{\"attributes\":{},\"id\":\"1124\",\"type\":\"SaveTool\"},{\"attributes\":{\"fill_color\":{\"field\":\"fill_color\"},\"line_color\":{\"value\":\"#1f77b4\"},\"size\":{\"field\":\"size\"},\"x\":{\"field\":\"x\"},\"y\":{\"field\":\"y\"}},\"id\":\"1136\",\"type\":\"Circle\"},{\"attributes\":{},\"id\":\"1111\",\"type\":\"LinearScale\"},{\"attributes\":{},\"id\":\"1125\",\"type\":\"ResetTool\"},{\"attributes\":{},\"id\":\"1158\",\"type\":\"BasicTickFormatter\"},{\"attributes\":{},\"id\":\"1114\",\"type\":\"BasicTicker\"},{\"attributes\":{},\"id\":\"1126\",\"type\":\"HelpTool\"},{\"attributes\":{\"axis\":{\"id\":\"1117\"},\"dimension\":1,\"ticker\":null},\"id\":\"1120\",\"type\":\"Grid\"},{\"attributes\":{\"source\":{\"id\":\"1135\"}},\"id\":\"1139\",\"type\":\"CDSView\"},{\"attributes\":{\"active_multi\":null,\"tools\":[{\"id\":\"1121\"},{\"id\":\"1122\"},{\"id\":\"1123\"},{\"id\":\"1124\"},{\"id\":\"1125\"},{\"id\":\"1126\"}]},\"id\":\"1128\",\"type\":\"Toolbar\"},{\"attributes\":{},\"id\":\"1154\",\"type\":\"AllLabels\"},{\"attributes\":{},\"id\":\"1118\",\"type\":\"BasicTicker\"},{\"attributes\":{},\"id\":\"1161\",\"type\":\"Selection\"},{\"attributes\":{\"fill_alpha\":{\"value\":0.1},\"fill_color\":{\"field\":\"fill_color\"},\"line_alpha\":{\"value\":0.1},\"line_color\":{\"value\":\"#1f77b4\"},\"size\":{\"field\":\"size\"},\"x\":{\"field\":\"x\"},\"y\":{\"field\":\"y\"}},\"id\":\"1137\",\"type\":\"Circle\"},{\"attributes\":{},\"id\":\"1107\",\"type\":\"DataRange1d\"},{\"attributes\":{},\"id\":\"1155\",\"type\":\"BasicTickFormatter\"},{\"attributes\":{},\"id\":\"1121\",\"type\":\"PanTool\"},{\"attributes\":{\"axis\":{\"id\":\"1113\"},\"ticker\":null},\"id\":\"1116\",\"type\":\"Grid\"},{\"attributes\":{},\"id\":\"1122\",\"type\":\"WheelZoomTool\"},{\"attributes\":{\"bottom_units\":\"screen\",\"fill_alpha\":0.5,\"fill_color\":\"lightgrey\",\"left_units\":\"screen\",\"level\":\"overlay\",\"line_alpha\":1.0,\"line_color\":\"black\",\"line_dash\":[4,4],\"line_width\":2,\"right_units\":\"screen\",\"syncable\":false,\"top_units\":\"screen\"},\"id\":\"1127\",\"type\":\"BoxAnnotation\"},{\"attributes\":{\"overlay\":{\"id\":\"1127\"}},\"id\":\"1123\",\"type\":\"BoxZoomTool\"},{\"attributes\":{\"data_source\":{\"id\":\"1135\"},\"glyph\":{\"id\":\"1136\"},\"hover_glyph\":null,\"muted_glyph\":null,\"nonselection_glyph\":{\"id\":\"1137\"},\"view\":{\"id\":\"1139\"}},\"id\":\"1138\",\"type\":\"GlyphRenderer\"}],\"root_ids\":[\"1104\"]},\"title\":\"Bokeh Application\",\"version\":\"2.3.3\"}};\n",
              "  var render_items = [{\"docid\":\"8b46663c-0919-4907-bb46-33aa05ccc5d0\",\"root_ids\":[\"1104\"],\"roots\":{\"1104\":\"f28d9d3b-be68-4a18-93cf-06b9561e00e2\"}}];\n",
              "  root.Bokeh.embed.embed_items_notebook(docs_json, render_items);\n",
              "\n",
              "  }\n",
              "  if (root.Bokeh !== undefined) {\n",
              "    embed_document(root);\n",
              "  } else {\n",
              "    var attempts = 0;\n",
              "    var timer = setInterval(function(root) {\n",
              "      if (root.Bokeh !== undefined) {\n",
              "        clearInterval(timer);\n",
              "        embed_document(root);\n",
              "      } else {\n",
              "        attempts++;\n",
              "        if (attempts > 100) {\n",
              "          clearInterval(timer);\n",
              "          console.log(\"Bokeh: ERROR: Unable to run BokehJS code because BokehJS library is missing\");\n",
              "        }\n",
              "      }\n",
              "    }, 10, root)\n",
              "  }\n",
              "})(window);"
            ],
            "application/vnd.bokehjs_exec.v0+json": ""
          },
          "metadata": {
            "application/vnd.bokehjs_exec.v0+json": {
              "id": "1104"
            }
          }
        }
      ]
    },
    {
      "cell_type": "code",
      "source": [
        "!pip install bqplot"
      ],
      "metadata": {
        "colab": {
          "base_uri": "https://localhost:8080/"
        },
        "id": "oXxS3okUXuQY",
        "outputId": "a01f99d4-2040-478b-edd3-597ae8feea37"
      },
      "execution_count": 12,
      "outputs": [
        {
          "output_type": "stream",
          "name": "stdout",
          "text": [
            "Collecting bqplot\n",
            "  Downloading bqplot-0.12.33-py2.py3-none-any.whl (1.2 MB)\n",
            "\u001b[K     |████████████████████████████████| 1.2 MB 5.6 MB/s \n",
            "\u001b[?25hRequirement already satisfied: ipywidgets>=7.5.0 in /usr/local/lib/python3.7/dist-packages (from bqplot) (7.7.0)\n",
            "Requirement already satisfied: numpy<2.0.0,>=1.10.4 in /usr/local/lib/python3.7/dist-packages (from bqplot) (1.21.5)\n",
            "Requirement already satisfied: pandas<2.0.0,>=1.0.0 in /usr/local/lib/python3.7/dist-packages (from bqplot) (1.3.5)\n",
            "Collecting traittypes>=0.0.6\n",
            "  Downloading traittypes-0.2.1-py2.py3-none-any.whl (8.6 kB)\n",
            "Requirement already satisfied: traitlets>=4.3.0 in /usr/local/lib/python3.7/dist-packages (from bqplot) (5.1.1)\n",
            "Requirement already satisfied: widgetsnbextension~=3.6.0 in /usr/local/lib/python3.7/dist-packages (from ipywidgets>=7.5.0->bqplot) (3.6.0)\n",
            "Requirement already satisfied: ipython>=4.0.0 in /usr/local/lib/python3.7/dist-packages (from ipywidgets>=7.5.0->bqplot) (5.5.0)\n",
            "Requirement already satisfied: nbformat>=4.2.0 in /usr/local/lib/python3.7/dist-packages (from ipywidgets>=7.5.0->bqplot) (5.3.0)\n",
            "Requirement already satisfied: ipython-genutils~=0.2.0 in /usr/local/lib/python3.7/dist-packages (from ipywidgets>=7.5.0->bqplot) (0.2.0)\n",
            "Requirement already satisfied: ipykernel>=4.5.1 in /usr/local/lib/python3.7/dist-packages (from ipywidgets>=7.5.0->bqplot) (4.10.1)\n",
            "Requirement already satisfied: jupyterlab-widgets>=1.0.0 in /usr/local/lib/python3.7/dist-packages (from ipywidgets>=7.5.0->bqplot) (1.1.0)\n",
            "Requirement already satisfied: jupyter-client in /usr/local/lib/python3.7/dist-packages (from ipykernel>=4.5.1->ipywidgets>=7.5.0->bqplot) (5.3.5)\n",
            "Requirement already satisfied: tornado>=4.0 in /usr/local/lib/python3.7/dist-packages (from ipykernel>=4.5.1->ipywidgets>=7.5.0->bqplot) (5.1.1)\n",
            "Requirement already satisfied: prompt-toolkit<2.0.0,>=1.0.4 in /usr/local/lib/python3.7/dist-packages (from ipython>=4.0.0->ipywidgets>=7.5.0->bqplot) (1.0.18)\n",
            "Requirement already satisfied: simplegeneric>0.8 in /usr/local/lib/python3.7/dist-packages (from ipython>=4.0.0->ipywidgets>=7.5.0->bqplot) (0.8.1)\n",
            "Requirement already satisfied: decorator in /usr/local/lib/python3.7/dist-packages (from ipython>=4.0.0->ipywidgets>=7.5.0->bqplot) (4.4.2)\n",
            "Requirement already satisfied: setuptools>=18.5 in /usr/local/lib/python3.7/dist-packages (from ipython>=4.0.0->ipywidgets>=7.5.0->bqplot) (57.4.0)\n",
            "Requirement already satisfied: pexpect in /usr/local/lib/python3.7/dist-packages (from ipython>=4.0.0->ipywidgets>=7.5.0->bqplot) (4.8.0)\n",
            "Requirement already satisfied: pygments in /usr/local/lib/python3.7/dist-packages (from ipython>=4.0.0->ipywidgets>=7.5.0->bqplot) (2.6.1)\n",
            "Requirement already satisfied: pickleshare in /usr/local/lib/python3.7/dist-packages (from ipython>=4.0.0->ipywidgets>=7.5.0->bqplot) (0.7.5)\n",
            "Requirement already satisfied: jsonschema>=2.6 in /usr/local/lib/python3.7/dist-packages (from nbformat>=4.2.0->ipywidgets>=7.5.0->bqplot) (4.3.3)\n",
            "Requirement already satisfied: fastjsonschema in /usr/local/lib/python3.7/dist-packages (from nbformat>=4.2.0->ipywidgets>=7.5.0->bqplot) (2.15.3)\n",
            "Requirement already satisfied: jupyter-core in /usr/local/lib/python3.7/dist-packages (from nbformat>=4.2.0->ipywidgets>=7.5.0->bqplot) (4.9.2)\n",
            "Requirement already satisfied: importlib-resources>=1.4.0 in /usr/local/lib/python3.7/dist-packages (from jsonschema>=2.6->nbformat>=4.2.0->ipywidgets>=7.5.0->bqplot) (5.6.0)\n",
            "Requirement already satisfied: importlib-metadata in /usr/local/lib/python3.7/dist-packages (from jsonschema>=2.6->nbformat>=4.2.0->ipywidgets>=7.5.0->bqplot) (4.11.3)\n",
            "Requirement already satisfied: typing-extensions in /usr/local/lib/python3.7/dist-packages (from jsonschema>=2.6->nbformat>=4.2.0->ipywidgets>=7.5.0->bqplot) (4.1.1)\n",
            "Requirement already satisfied: attrs>=17.4.0 in /usr/local/lib/python3.7/dist-packages (from jsonschema>=2.6->nbformat>=4.2.0->ipywidgets>=7.5.0->bqplot) (21.4.0)\n",
            "Requirement already satisfied: pyrsistent!=0.17.0,!=0.17.1,!=0.17.2,>=0.14.0 in /usr/local/lib/python3.7/dist-packages (from jsonschema>=2.6->nbformat>=4.2.0->ipywidgets>=7.5.0->bqplot) (0.18.1)\n",
            "Requirement already satisfied: zipp>=3.1.0 in /usr/local/lib/python3.7/dist-packages (from importlib-resources>=1.4.0->jsonschema>=2.6->nbformat>=4.2.0->ipywidgets>=7.5.0->bqplot) (3.8.0)\n",
            "Requirement already satisfied: pytz>=2017.3 in /usr/local/lib/python3.7/dist-packages (from pandas<2.0.0,>=1.0.0->bqplot) (2018.9)\n",
            "Requirement already satisfied: python-dateutil>=2.7.3 in /usr/local/lib/python3.7/dist-packages (from pandas<2.0.0,>=1.0.0->bqplot) (2.8.2)\n",
            "Requirement already satisfied: wcwidth in /usr/local/lib/python3.7/dist-packages (from prompt-toolkit<2.0.0,>=1.0.4->ipython>=4.0.0->ipywidgets>=7.5.0->bqplot) (0.2.5)\n",
            "Requirement already satisfied: six>=1.9.0 in /usr/local/lib/python3.7/dist-packages (from prompt-toolkit<2.0.0,>=1.0.4->ipython>=4.0.0->ipywidgets>=7.5.0->bqplot) (1.15.0)\n",
            "Requirement already satisfied: notebook>=4.4.1 in /usr/local/lib/python3.7/dist-packages (from widgetsnbextension~=3.6.0->ipywidgets>=7.5.0->bqplot) (5.3.1)\n",
            "Requirement already satisfied: terminado>=0.8.1 in /usr/local/lib/python3.7/dist-packages (from notebook>=4.4.1->widgetsnbextension~=3.6.0->ipywidgets>=7.5.0->bqplot) (0.13.3)\n",
            "Requirement already satisfied: jinja2 in /usr/local/lib/python3.7/dist-packages (from notebook>=4.4.1->widgetsnbextension~=3.6.0->ipywidgets>=7.5.0->bqplot) (2.11.3)\n",
            "Requirement already satisfied: Send2Trash in /usr/local/lib/python3.7/dist-packages (from notebook>=4.4.1->widgetsnbextension~=3.6.0->ipywidgets>=7.5.0->bqplot) (1.8.0)\n",
            "Requirement already satisfied: nbconvert in /usr/local/lib/python3.7/dist-packages (from notebook>=4.4.1->widgetsnbextension~=3.6.0->ipywidgets>=7.5.0->bqplot) (5.6.1)\n",
            "Requirement already satisfied: pyzmq>=13 in /usr/local/lib/python3.7/dist-packages (from jupyter-client->ipykernel>=4.5.1->ipywidgets>=7.5.0->bqplot) (22.3.0)\n",
            "Requirement already satisfied: ptyprocess in /usr/local/lib/python3.7/dist-packages (from terminado>=0.8.1->notebook>=4.4.1->widgetsnbextension~=3.6.0->ipywidgets>=7.5.0->bqplot) (0.7.0)\n",
            "Requirement already satisfied: MarkupSafe>=0.23 in /usr/local/lib/python3.7/dist-packages (from jinja2->notebook>=4.4.1->widgetsnbextension~=3.6.0->ipywidgets>=7.5.0->bqplot) (2.0.1)\n",
            "Requirement already satisfied: defusedxml in /usr/local/lib/python3.7/dist-packages (from nbconvert->notebook>=4.4.1->widgetsnbextension~=3.6.0->ipywidgets>=7.5.0->bqplot) (0.7.1)\n",
            "Requirement already satisfied: testpath in /usr/local/lib/python3.7/dist-packages (from nbconvert->notebook>=4.4.1->widgetsnbextension~=3.6.0->ipywidgets>=7.5.0->bqplot) (0.6.0)\n",
            "Requirement already satisfied: bleach in /usr/local/lib/python3.7/dist-packages (from nbconvert->notebook>=4.4.1->widgetsnbextension~=3.6.0->ipywidgets>=7.5.0->bqplot) (5.0.0)\n",
            "Requirement already satisfied: pandocfilters>=1.4.1 in /usr/local/lib/python3.7/dist-packages (from nbconvert->notebook>=4.4.1->widgetsnbextension~=3.6.0->ipywidgets>=7.5.0->bqplot) (1.5.0)\n",
            "Requirement already satisfied: entrypoints>=0.2.2 in /usr/local/lib/python3.7/dist-packages (from nbconvert->notebook>=4.4.1->widgetsnbextension~=3.6.0->ipywidgets>=7.5.0->bqplot) (0.4)\n",
            "Requirement already satisfied: mistune<2,>=0.8.1 in /usr/local/lib/python3.7/dist-packages (from nbconvert->notebook>=4.4.1->widgetsnbextension~=3.6.0->ipywidgets>=7.5.0->bqplot) (0.8.4)\n",
            "Requirement already satisfied: webencodings in /usr/local/lib/python3.7/dist-packages (from bleach->nbconvert->notebook>=4.4.1->widgetsnbextension~=3.6.0->ipywidgets>=7.5.0->bqplot) (0.5.1)\n",
            "Installing collected packages: traittypes, bqplot\n",
            "Successfully installed bqplot-0.12.33 traittypes-0.2.1\n"
          ]
        }
      ]
    },
    {
      "cell_type": "code",
      "source": [
        "from google.colab import output\n",
        "output.enable_custom_widget_manager()"
      ],
      "metadata": {
        "id": "dzswyGFHYRPG"
      },
      "execution_count": 21,
      "outputs": []
    },
    {
      "cell_type": "code",
      "source": [
        "import pandas as pd\n",
        "import numpy as np\n",
        "\n",
        "symbol = \"Security 1\"\n",
        "symbol2 = \"Security 2\""
      ],
      "metadata": {
        "id": "y83SkVt_XzGR"
      },
      "execution_count": 13,
      "outputs": []
    },
    {
      "cell_type": "code",
      "source": [
        "price_data = pd.DataFrame(\n",
        "    np.cumsum(np.random.randn(150, 2).dot([[0.5, 0.4], [0.4, 1.0]]), axis=0) + 100,\n",
        "    columns=[\"Security 1\", \"Security 2\"],\n",
        "    index=pd.date_range(start=\"01-01-2007\", periods=150),\n",
        ")\n",
        "\n",
        "dates_actual = price_data.index.values\n",
        "prices = price_data[symbol].values"
      ],
      "metadata": {
        "id": "FBqw-UecX5Cl"
      },
      "execution_count": 14,
      "outputs": []
    },
    {
      "cell_type": "code",
      "source": [
        "from bqplot import DateScale, LinearScale, Axis, Lines, Scatter, Bars, Hist, Figure\n",
        "from bqplot.interacts import (\n",
        "    FastIntervalSelector,\n",
        "    IndexSelector,\n",
        "    BrushIntervalSelector,\n",
        "    BrushSelector,\n",
        "    MultiSelector,\n",
        "    LassoSelector,\n",
        "    PanZoom,\n",
        "    HandDraw,\n",
        ")\n",
        "from traitlets import link\n",
        "\n",
        "from ipywidgets import ToggleButtons, VBox, HTML"
      ],
      "metadata": {
        "id": "E-02uKarX8zE"
      },
      "execution_count": 15,
      "outputs": []
    },
    {
      "cell_type": "code",
      "source": [
        "## First we define a Figure\n",
        "dt_x_fast = DateScale()\n",
        "lin_y = LinearScale()\n",
        "\n",
        "x_ax = Axis(label=\"Index\", scale=dt_x_fast)\n",
        "x_ay = Axis(label=(symbol + \" Price\"), scale=lin_y, orientation=\"vertical\")\n",
        "lc = Lines(\n",
        "    x=dates_actual, y=prices, scales={\"x\": dt_x_fast, \"y\": lin_y}, colors=[\"orange\"]\n",
        ")\n",
        "lc_2 = Lines(\n",
        "    x=dates_actual[50:],\n",
        "    y=prices[50:] + 2,\n",
        "    scales={\"x\": dt_x_fast, \"y\": lin_y},\n",
        "    colors=[\"blue\"],\n",
        ")"
      ],
      "metadata": {
        "id": "QoalCkROYAwh"
      },
      "execution_count": 16,
      "outputs": []
    },
    {
      "cell_type": "code",
      "source": [
        "## Next we define the type of selector we would like\n",
        "intsel_fast = FastIntervalSelector(scale=dt_x_fast, marks=[lc, lc_2])"
      ],
      "metadata": {
        "id": "WPjs3fJKYEDf"
      },
      "execution_count": 17,
      "outputs": []
    },
    {
      "cell_type": "code",
      "source": [
        "## Now, we define a function that will be called when the FastIntervalSelector is interacted with\n",
        "def fast_interval_change_callback(change):\n",
        "    db_fast.value = \"The selected period is \" + str(change.new)"
      ],
      "metadata": {
        "id": "rIdA7dRjYHSu"
      },
      "execution_count": 18,
      "outputs": []
    },
    {
      "cell_type": "code",
      "source": [
        "## Now we connect the selectors to that function\n",
        "intsel_fast.observe(fast_interval_change_callback, names=[\"selected\"])"
      ],
      "metadata": {
        "id": "9CkdCfe_YKV9"
      },
      "execution_count": 19,
      "outputs": []
    },
    {
      "cell_type": "code",
      "source": [
        "## We use the HTML widget to see the value of what we are selecting and modify it when an interaction is performed\n",
        "## on the selector\n",
        "db_fast = HTML()\n",
        "db_fast.value = \"The selected period is \" + str(intsel_fast.selected)\n",
        "\n",
        "fig_fast_intsel = Figure(\n",
        "    marks=[lc, lc_2],\n",
        "    axes=[x_ax, x_ay],\n",
        "    title=\"Fast Interval Selector Example\",\n",
        "    interaction=intsel_fast,\n",
        ")  # This is where we assign the interaction to this particular Figure\n",
        "\n",
        "VBox([db_fast, fig_fast_intsel])"
      ],
      "metadata": {
        "colab": {
          "base_uri": "https://localhost:8080/",
          "height": 553,
          "referenced_widgets": [
            "48b98cc0867843429567827070e89014",
            "4dae9c67d09949e388fe42d1f823e8f3",
            "bdf11c0f222b4e94becff405c585cf29",
            "7b943f776aee428ea5658111937b8ac1",
            "4a5ba14d38b94fcebc1478dbfa7d1185",
            "79ffbd8137e2478a8e34e93b9a58efb3",
            "43b34772dbf74e78b45c563afa679e66",
            "ec0f3a753449443ead5ac30c773dfdf2",
            "2c888ae940e74556abe186bbb50682eb",
            "11fd1e70c7b74853936dae4655d59e35",
            "d22f866af00042fba246f286c4d258fe",
            "a7bf1623fea14028a5df0e5102aaa905",
            "9b9921787cbf4958a1df47125dc89bd9",
            "9b776f023fd646cb8db2fbc93775e07c",
            "4a1774bf1c3f44678bccd115717ed478",
            "dc72e9448f8a407ea8677118799bdc6f"
          ]
        },
        "id": "1lxai4U2YNA_",
        "outputId": "5657aad1-cf98-45b3-9f2b-eea337fbca19"
      },
      "execution_count": 22,
      "outputs": [
        {
          "output_type": "display_data",
          "data": {
            "text/plain": [
              "VBox(children=(HTML(value='The selected period is None'), Figure(axes=[Axis(label='Index', scale=DateScale()),…"
            ],
            "application/vnd.jupyter.widget-view+json": {
              "version_major": 2,
              "version_minor": 0,
              "model_id": "48b98cc0867843429567827070e89014"
            }
          },
          "metadata": {
            "application/vnd.jupyter.widget-view+json": {
              "colab": {
                "custom_widget_manager": {
                  "url": "https://ssl.gstatic.com/colaboratory-static/widgets/colab-cdn-widget-manager/a8874ba6619b6106/manager.min.js"
                }
              }
            }
          }
        }
      ]
    }
  ]
}
